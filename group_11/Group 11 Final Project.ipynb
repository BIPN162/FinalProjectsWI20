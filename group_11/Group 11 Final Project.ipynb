{
 "cells": [
  {
   "cell_type": "markdown",
   "metadata": {},
   "source": [
    "# VISp and VISpm: Comparisons of Electrophysiological Activity Through Firing Rate\n"
   ]
  },
  {
   "cell_type": "markdown",
   "metadata": {},
   "source": [
    "GROUP 11\n"
   ]
  },
  {
   "cell_type": "markdown",
   "metadata": {},
   "source": [
    "## Abstract"
   ]
  },
  {
   "cell_type": "markdown",
   "metadata": {},
   "source": [
    "The visual cortex processes visual information from retinas and is of great interest as it informs animals of their surroundings, influencing decision-making as well as learning and memory. In this project, the primary visual region (VISp or V1) was examined alongside the posteromedial region (VISpm) for firing rate in relation to region. Interneuronal activity was also compared between these two regions using transgenic Cre-line mice which were positive or negative for parvalbumin, a protein found in interneurons. It was hypothesized that the firing rate and interneuronal activity differed between these regions due to different regional functions, but the results were inconclusive and neuronal activity was more similar than different for these regions. Future experiments would require more data from both VISp and VISpm regions; it would also be interesting to examine visual learning in relation to firing rate between regions. "
   ]
  },
  {
   "cell_type": "markdown",
   "metadata": {},
   "source": [
    "## Research Question"
   ]
  },
  {
   "cell_type": "markdown",
   "metadata": {},
   "source": [
    "What is the relationship between electrophysiological properties of the primary visual cortex and the posteromedial visual cortex in the context of temporal activity? Does firing rate of VISp interneurons differ from VISpm interneurons?\n"
   ]
  },
  {
   "cell_type": "markdown",
   "metadata": {},
   "source": [
    "# Background and Prior Work"
   ]
  },
  {
   "cell_type": "markdown",
   "metadata": {},
   "source": [
    "**Visual Cortex: About VISp and VISpm**\n",
    "\n",
    "\n",
    "The visual cortex, located in the occipital lobe, receives and processes visual information from the retinas. It is cortically organized with five layers of varying structure and function. In the visual cortex, two regions of interest were selected: the primary visual region (VISp or V1) and the posteromedial region (VISpm) for analysis on their temporal electrophysiological qualities, specifically their firing rate, response to stimuli, and downstream excitation or inhibition post-stimulus. These two regions are rich with interneurons, which mediate firing based on information the cells receive. The posteromedial region also projects to the hippocampus, making it a region of interest due to its potential to influence learning and memory (Huff et al, 2019).  Visual cortical plasticity is of interest because it is related to different visual deficits and processing such as amblyopia (lazy eye) (Versendaal et. al, 2016). \n",
    "\n",
    "\n",
    "The posteromedial visual region is known to process information between the primary visual cortex and the retrosplenial cortex. Its function is hypothesized as a processing center for images during spatial navigation. Roth, et al. used two-photon calcium imaging to determine the response of ViSpm neurons to drifting gratings, which demonstrated that ViSpm neurons “prefer slower drift rates compared to V1”, and that the function of ViSpm may be to “process natural scenes during spatial navigation”. It is also known that ViSpm responds primarily to “ high spatial and low temporal frequencies” (Marshel, et al. 2011) \n",
    "\n",
    "\n",
    "“GABAergic interneurons make up for only 10-20% of the neuronal population in the cortex, yet their function is vital for shaping cortical activity” (Versendaal et al, 2016). These interneurons were particularly of interest in our project. Of the four major interneuron subtypes, two express parvalbumin (PV) which was Cre-activated in the transgenic mice in the Neuropixels and Allen data sets to help identify fast-spiking cells. PV+ cells have been shown to reduce the activity of excitatory neurons, so we hypothesized that PV- cells would have no effect on excitatory neuron activity, which would show upregulation of firing activity post-stimulus (Versendaal et al, 2016).\n",
    "\n",
    "\n",
    "**Datasets Used: Allen Brain Neuropixels and ALLEN Cell Types**\n",
    "\n",
    "For this project, two datasets were used: Allen Brain Atlas Visual Coding - Neuropixels and ALLEN Cell Types Database. The Neuropixels data was collected in two parts, the first using two-photon imaging and the second using Neuropixels: a “device capable of recording spiking activity with high temporal resolution at any depth within the mouse brain” (Allen 2019). Approximately 6 probes were inserted in each mouse, with each probe using 373 or 384 channels to detect voltage changes in neural tissue for a total of 960 recording sites. In the first part, mice were given a standardized set of visual stimuli and neuron activity in six cortical regions of varying cell types were recorded via two-photon imaging. In the second part, visual cortical, midbrain, hippocampal, and thalamic neuron activity was recorded using Neuropixel probes from a specific transgenic mice line: “wild-type C57BL6/J mice and transgenic Cre lines expressing channelrhodopsin in inhibitory interneuron sub-types (Sst-IRES-Cre; Ai32, Pvalb-IRES-Cre; Ai32 and Vip-IRES-Cre; Ai32)” (Allen 2019). Throughout data collection, many checkpoints were in place to ensure quality control, such as ensuring the window implantation did not fall off, testing for brain damage by imaging the brain vasculature and failing mice that had high RMS (root-mean-squared) noise levels in the spike band. The data was filtered further using 3 filters: isi_violations < 0.5 to remove data containing non-action potential spikes, amplitude_cutoff < 0.1 to remove data that are missing spikes, and presence_ratio > 0.9 to remove data in which neurons are not present. The remaining data was filtered using a spike sorting filter as well as by hand, to remove any remaining noise and spikes that are not action potentials. The metrics used in the Neuropixels dataset assume that all waveforms are stable, which is almost certainly false due to probe movement. In total, 58 experiments were completed to collect data from 332 probes, with 123,224 channels of data from 99,180 neurons. The dataset provides metadata, data about the visual stimuli and their conditions, spike data, waveforms, running speed, optogenetic stimulation data, local field potential data, and electrophysiology data. For this project, only the data retrieved during flash stimuli and electrophysiology data were used for analysis. Specifically, the spike activity during the flash stimuli from VISp and VISpm neurons was used to plot the total activity of these regions and determine patterns in firing as well as similarities and differences between the two regions of interest. These neurons were further filtered into parvalbumin-positive (PV+)or parvalbumin-negative (PV-) and their firing rates were retrieved from the electrophysiology data to compare how they differ between VISp and VISpm interneurons as well as how they differ between the second ALLEN Cell Types dataset.\n",
    "\n",
    "\n",
    "The second dataset, ALLEN Cell Types, includes transcriptomic data, electrophysiology data, morphological data, GLIF (generalized leaky integrate-and-fire) models, and biophysical models. The transcriptomic data was acquired using RNA sequencing from the visual cortex from mice, non-visual sensorimotor cortical areas, and cortical areas from humans. The electrophysiology data was recorded from transgenic Cre-positive neurons using whole cell current clamp. The morphological data was reconstructed from 3-D wide field imaging of neurons in the visual cortex which were sliced and prepared in-vitro. The dendrites and parts of the axon from these neurons were also reconstructed. The GLIF models were created by optimizing models of electrophysiology recordings from leaky integrate-and-fire (LIF) neurons during constant stimuli. The biophysical models were constructed from neurons to maintain specificity in morphological structure as well as electrophysiological responses, imitating in vivo neuron behavior and structure. The data were assessed for quality control using many metrics, one specifically for electrophysiology recording was to remove data in which the final voltage was beyond 1 mV of the original voltage in a 10 minute time window to account for electrode drifting. Pertaining to the dataset within ALLEN Cell Types that is used in this project, there are 2,331 unique neuron recordings with corresponding electrophysiology data from both human and mice. The electrophysiology data includes the brain structure the neuron is found, adaptation index, average interspike interval, time constant, average firing rate, and more. No information could be found about assumptions made during data collection. From this dataset, the electrophysiology data was used to perform a Principle Components Analysis (PCA) on VISp, VISpm, and both neurons combined. The following properties were examined for each region and contributed towards the PCA calculation: average firing rate (Hz), ramp spike time (ms), time constant (ms), and adaptation index, which give information about the temporal properties of the neuron and its effect on activity. Of most importance was the average firing rate, which was a shared property of the first dataset, allowing for a comparison of the VISp and VISpm neuron activity between the two datasets.\n",
    "\n",
    "\n",
    "\n",
    "### References (include links):\n",
    "(1)Allen Brain Observatory. “Visual Coding - Neuropixels.” Allen Brain Observatory – Neuropixels Visual Coding, Oct. 2019, portal.brain-map.org/explore/circuits/visual-coding-neuropixels. https://brainmapportal-live-4cc80a57cd6e400d854-f7fdcae.divio-media.net/filer_public/80/75/8075a100-ca64-429a-b39a-569121b612b2/neuropixels_visual_coding_-_white_paper_v10.pdf\n",
    "\n",
    "(2)Allen Brain Observatory. \"Allen Cell Types Database.\" Allen Institute for Brain Science, Jun. 2018, http://help.brain-map.org/display/celltypes/Documentation\n",
    "\n",
    "(3)Huff T, Mahabadi N, Tadi P. Neuroanatomy, Visual Cortex. [Updated 2019 Oct 5]. In: StatPearls [Internet]. Treasure Island (FL): StatPearls Publishing; 2020 Jan-. Available from: https://www.ncbi.nlm.nih.gov/books/NBK482504/ \n",
    "\n",
    "(4) Marshel, James H., et al. “Functional Specialization of Seven Mouse Visual Cortical Areas.” Neuron, Cell Press, 21 Dec. 2011, www.sciencedirect.com/science/article/pii/S0896627311010464. \n",
    "\n",
    "(5) Roth, Morgane M., et al. “Distinct Functional Properties of Primary and Posteromedial Visual Area of Mouse Neocortex.” Journal of Neuroscience, Society for Neuroscience, 11 July 2012, www.jneurosci.org/content/32/28/9716.\n",
    "\n",
    "(6)Van Versendaal, D., & Levelt, C. N. (2016). Inhibitory interneurons in visual cortical plasticity. Cellular and molecular life sciences : CMLS, 73(19), 3677–3691. https://doi.org/10.1007/s00018-016-2264-4 \n"
   ]
  },
  {
   "cell_type": "markdown",
   "metadata": {},
   "source": [
    "## Hypothesis\n"
   ]
  },
  {
   "cell_type": "markdown",
   "metadata": {},
   "source": [
    "Based on literature, firing rate is higher in VISp neurons than VISpm neurons (Marshel et al., 2011), and PV+ interneurons will regulate and decrease firing in response to stimuli but PV- interneurons will not decrease firing post-stimulus after loss of function in both VISp and VISpm regions (Versendaal et al., 2016). Thus, we predict that firing rate differs between VISp and VISpm neurons because they differ in their function and reaction to stimuli."
   ]
  },
  {
   "cell_type": "markdown",
   "metadata": {},
   "source": [
    "## Setup"
   ]
  },
  {
   "cell_type": "markdown",
   "metadata": {},
   "source": [
    "Importing packages needed for the code."
   ]
  },
  {
   "cell_type": "code",
   "execution_count": 1,
   "metadata": {},
   "outputs": [],
   "source": [
    "import pandas as pd\n",
    "import numpy as np\n",
    "import matplotlib as mp\n",
    "import matplotlib.pyplot as plt\n",
    "from sklearn.decomposition import PCA\n",
    "import seaborn as sns\n",
    "from scipy import stats\n",
    "import xarray as xr\n",
    "import scipy as sp"
   ]
  },
  {
   "cell_type": "markdown",
   "metadata": {},
   "source": [
    "Importing Cell Types Dataset from Allen Brain Institute"
   ]
  },
  {
   "cell_type": "code",
   "execution_count": 2,
   "metadata": {},
   "outputs": [
    {
     "data": {
      "text/html": [
       "<div>\n",
       "<style scoped>\n",
       "    .dataframe tbody tr th:only-of-type {\n",
       "        vertical-align: middle;\n",
       "    }\n",
       "\n",
       "    .dataframe tbody tr th {\n",
       "        vertical-align: top;\n",
       "    }\n",
       "\n",
       "    .dataframe thead th {\n",
       "        text-align: right;\n",
       "    }\n",
       "</style>\n",
       "<table border=\"1\" class=\"dataframe\">\n",
       "  <thead>\n",
       "    <tr style=\"text-align: right;\">\n",
       "      <th></th>\n",
       "      <th>line_name</th>\n",
       "      <th>specimen__id</th>\n",
       "      <th>specimen__name</th>\n",
       "      <th>specimen__hemisphere</th>\n",
       "      <th>structure__id</th>\n",
       "      <th>structure__name</th>\n",
       "      <th>structure__acronym</th>\n",
       "      <th>structure_parent__id</th>\n",
       "      <th>structure_parent__acronym</th>\n",
       "      <th>structure__layer</th>\n",
       "      <th>...</th>\n",
       "      <th>ephys_thumb_path</th>\n",
       "      <th>ephys_inst_thresh_thumb_path</th>\n",
       "      <th>donor__age</th>\n",
       "      <th>donor__sex</th>\n",
       "      <th>donor__disease_state</th>\n",
       "      <th>donor__race</th>\n",
       "      <th>donor__years_of_seizure_history</th>\n",
       "      <th>donor__species</th>\n",
       "      <th>donor__id</th>\n",
       "      <th>donor__name</th>\n",
       "    </tr>\n",
       "  </thead>\n",
       "  <tbody>\n",
       "    <tr>\n",
       "      <th>0</th>\n",
       "      <td>NaN</td>\n",
       "      <td>525011903</td>\n",
       "      <td>H16.03.003.01.14.02</td>\n",
       "      <td>right</td>\n",
       "      <td>12113</td>\n",
       "      <td>\"frontal lobe\"</td>\n",
       "      <td>FroL</td>\n",
       "      <td>12113</td>\n",
       "      <td>FroL</td>\n",
       "      <td>3</td>\n",
       "      <td>...</td>\n",
       "      <td>/api/v2/well_known_file_download/529903140</td>\n",
       "      <td>/api/v2/well_known_file_download/529903142</td>\n",
       "      <td>25 yrs</td>\n",
       "      <td>Male</td>\n",
       "      <td>epilepsy</td>\n",
       "      <td>White or Caucasian</td>\n",
       "      <td>9.0</td>\n",
       "      <td>Homo Sapiens</td>\n",
       "      <td>524848408</td>\n",
       "      <td>H16.03.003</td>\n",
       "    </tr>\n",
       "    <tr>\n",
       "      <th>1</th>\n",
       "      <td>Oxtr-T2A-Cre</td>\n",
       "      <td>565871768</td>\n",
       "      <td>Oxtr-2A-Cre;Ai14-293837.03.01.02</td>\n",
       "      <td>left</td>\n",
       "      <td>778</td>\n",
       "      <td>\"Primary visual area, layer 5\"</td>\n",
       "      <td>VISp5</td>\n",
       "      <td>385</td>\n",
       "      <td>VISp</td>\n",
       "      <td>5</td>\n",
       "      <td>...</td>\n",
       "      <td>/api/v2/well_known_file_download/566738214</td>\n",
       "      <td>/api/v2/well_known_file_download/566738219</td>\n",
       "      <td>NaN</td>\n",
       "      <td>NaN</td>\n",
       "      <td>NaN</td>\n",
       "      <td>NaN</td>\n",
       "      <td>NaN</td>\n",
       "      <td>Mus musculus</td>\n",
       "      <td>563340157</td>\n",
       "      <td>Oxtr-T2A-Cre;Ai14-293837</td>\n",
       "    </tr>\n",
       "    <tr>\n",
       "      <th>2</th>\n",
       "      <td>Pvalb-IRES-Cre</td>\n",
       "      <td>469801138</td>\n",
       "      <td>Pvalb-IRES-Cre;Ai14-170927.05.02.01</td>\n",
       "      <td>right</td>\n",
       "      <td>721</td>\n",
       "      <td>\"Primary visual area, layer 4\"</td>\n",
       "      <td>VISp4</td>\n",
       "      <td>385</td>\n",
       "      <td>VISp</td>\n",
       "      <td>4</td>\n",
       "      <td>...</td>\n",
       "      <td>/api/v2/well_known_file_download/487618917</td>\n",
       "      <td>/api/v2/well_known_file_download/491380580</td>\n",
       "      <td>NaN</td>\n",
       "      <td>NaN</td>\n",
       "      <td>NaN</td>\n",
       "      <td>NaN</td>\n",
       "      <td>NaN</td>\n",
       "      <td>Mus musculus</td>\n",
       "      <td>319194354</td>\n",
       "      <td>Pvalb-IRES-Cre;Ai14(IVSCC)-170927</td>\n",
       "    </tr>\n",
       "    <tr>\n",
       "      <th>3</th>\n",
       "      <td>NaN</td>\n",
       "      <td>528642047</td>\n",
       "      <td>H16.06.009.01.02.06.05</td>\n",
       "      <td>left</td>\n",
       "      <td>12141</td>\n",
       "      <td>\"middle temporal gyrus\"</td>\n",
       "      <td>MTG</td>\n",
       "      <td>12141</td>\n",
       "      <td>MTG</td>\n",
       "      <td>5</td>\n",
       "      <td>...</td>\n",
       "      <td>/api/v2/well_known_file_download/660970973</td>\n",
       "      <td>/api/v2/well_known_file_download/660970975</td>\n",
       "      <td>48 yrs</td>\n",
       "      <td>Female</td>\n",
       "      <td>epilepsy</td>\n",
       "      <td>unknown</td>\n",
       "      <td>33.0</td>\n",
       "      <td>Homo Sapiens</td>\n",
       "      <td>528574320</td>\n",
       "      <td>H16.06.009</td>\n",
       "    </tr>\n",
       "    <tr>\n",
       "      <th>4</th>\n",
       "      <td>Slc32a1-T2A-FlpO|Vipr2-IRES2-Cre</td>\n",
       "      <td>605889373</td>\n",
       "      <td>Vipr2-IRES2-Cre;Slc32a1-T2A-FlpO;Ai65-337419.0...</td>\n",
       "      <td>right</td>\n",
       "      <td>821</td>\n",
       "      <td>\"Primary visual area, layer 2/3\"</td>\n",
       "      <td>VISp2/3</td>\n",
       "      <td>385</td>\n",
       "      <td>VISp</td>\n",
       "      <td>2/3</td>\n",
       "      <td>...</td>\n",
       "      <td>/api/v2/well_known_file_download/657612184</td>\n",
       "      <td>/api/v2/well_known_file_download/657612186</td>\n",
       "      <td>NaN</td>\n",
       "      <td>NaN</td>\n",
       "      <td>NaN</td>\n",
       "      <td>NaN</td>\n",
       "      <td>NaN</td>\n",
       "      <td>Mus musculus</td>\n",
       "      <td>605622695</td>\n",
       "      <td>Vipr2-IRES2-Cre;Slc32a1-T2A-FlpO;Ai65-337419</td>\n",
       "    </tr>\n",
       "    <tr>\n",
       "      <th>...</th>\n",
       "      <td>...</td>\n",
       "      <td>...</td>\n",
       "      <td>...</td>\n",
       "      <td>...</td>\n",
       "      <td>...</td>\n",
       "      <td>...</td>\n",
       "      <td>...</td>\n",
       "      <td>...</td>\n",
       "      <td>...</td>\n",
       "      <td>...</td>\n",
       "      <td>...</td>\n",
       "      <td>...</td>\n",
       "      <td>...</td>\n",
       "      <td>...</td>\n",
       "      <td>...</td>\n",
       "      <td>...</td>\n",
       "      <td>...</td>\n",
       "      <td>...</td>\n",
       "      <td>...</td>\n",
       "      <td>...</td>\n",
       "      <td>...</td>\n",
       "    </tr>\n",
       "    <tr>\n",
       "      <th>2326</th>\n",
       "      <td>Ctgf-T2A-dgCre</td>\n",
       "      <td>512322162</td>\n",
       "      <td>Ctgf-2A-dgCre;Ai14(IVSCC)-240529.03.02.01</td>\n",
       "      <td>right</td>\n",
       "      <td>305</td>\n",
       "      <td>\"Primary visual area, layer 6b\"</td>\n",
       "      <td>VISp6b</td>\n",
       "      <td>385</td>\n",
       "      <td>VISp</td>\n",
       "      <td>6b</td>\n",
       "      <td>...</td>\n",
       "      <td>/api/v2/well_known_file_download/513878612</td>\n",
       "      <td>/api/v2/well_known_file_download/513878614</td>\n",
       "      <td>NaN</td>\n",
       "      <td>NaN</td>\n",
       "      <td>NaN</td>\n",
       "      <td>NaN</td>\n",
       "      <td>NaN</td>\n",
       "      <td>Mus musculus</td>\n",
       "      <td>511856495</td>\n",
       "      <td>Ctgf-2A-dgCre;Ai14(IVSCC)-240529</td>\n",
       "    </tr>\n",
       "    <tr>\n",
       "      <th>2327</th>\n",
       "      <td>Rorb-IRES2-Cre</td>\n",
       "      <td>488473535</td>\n",
       "      <td>Rorb-IRES2-Cre-D;Ai14-212867.03.01.01</td>\n",
       "      <td>left</td>\n",
       "      <td>821</td>\n",
       "      <td>\"Primary visual area, layer 2/3\"</td>\n",
       "      <td>VISp2/3</td>\n",
       "      <td>385</td>\n",
       "      <td>VISp</td>\n",
       "      <td>2/3</td>\n",
       "      <td>...</td>\n",
       "      <td>/api/v2/well_known_file_download/488474970</td>\n",
       "      <td>/api/v2/well_known_file_download/491376689</td>\n",
       "      <td>NaN</td>\n",
       "      <td>NaN</td>\n",
       "      <td>NaN</td>\n",
       "      <td>NaN</td>\n",
       "      <td>NaN</td>\n",
       "      <td>Mus musculus</td>\n",
       "      <td>487607572</td>\n",
       "      <td>Rorb-IRES2-Cre-D;Ai14-212867</td>\n",
       "    </tr>\n",
       "    <tr>\n",
       "      <th>2328</th>\n",
       "      <td>Rorb-IRES2-Cre</td>\n",
       "      <td>467003163</td>\n",
       "      <td>Rorb-IRES2-Cre-D;Ai14-172652.02.02.01</td>\n",
       "      <td>right</td>\n",
       "      <td>721</td>\n",
       "      <td>\"Primary visual area, layer 4\"</td>\n",
       "      <td>VISp4</td>\n",
       "      <td>385</td>\n",
       "      <td>VISp</td>\n",
       "      <td>4</td>\n",
       "      <td>...</td>\n",
       "      <td>/api/v2/well_known_file_download/487623212</td>\n",
       "      <td>/api/v2/well_known_file_download/491378303</td>\n",
       "      <td>NaN</td>\n",
       "      <td>NaN</td>\n",
       "      <td>NaN</td>\n",
       "      <td>NaN</td>\n",
       "      <td>NaN</td>\n",
       "      <td>Mus musculus</td>\n",
       "      <td>322489498</td>\n",
       "      <td>Rorb-IRES2-Cre-D;Ai14(IVSCC)-172652</td>\n",
       "    </tr>\n",
       "    <tr>\n",
       "      <th>2329</th>\n",
       "      <td>Pvalb-IRES-Cre</td>\n",
       "      <td>572609946</td>\n",
       "      <td>Pvalb-IRES-Cre;Ai14-301945.04.02.01</td>\n",
       "      <td>right</td>\n",
       "      <td>721</td>\n",
       "      <td>\"Primary visual area, layer 4\"</td>\n",
       "      <td>VISp4</td>\n",
       "      <td>385</td>\n",
       "      <td>VISp</td>\n",
       "      <td>4</td>\n",
       "      <td>...</td>\n",
       "      <td>/api/v2/well_known_file_download/575795570</td>\n",
       "      <td>/api/v2/well_known_file_download/575795572</td>\n",
       "      <td>NaN</td>\n",
       "      <td>NaN</td>\n",
       "      <td>NaN</td>\n",
       "      <td>NaN</td>\n",
       "      <td>NaN</td>\n",
       "      <td>Mus musculus</td>\n",
       "      <td>570930952</td>\n",
       "      <td>Pvalb-IRES-Cre;Ai14-301945</td>\n",
       "    </tr>\n",
       "    <tr>\n",
       "      <th>2330</th>\n",
       "      <td>Sst-IRES-Cre</td>\n",
       "      <td>464212183</td>\n",
       "      <td>Sst-IRES-Cre;Ai14-165865.05.02.01</td>\n",
       "      <td>left</td>\n",
       "      <td>778</td>\n",
       "      <td>\"Primary visual area, layer 5\"</td>\n",
       "      <td>VISp5</td>\n",
       "      <td>385</td>\n",
       "      <td>VISp</td>\n",
       "      <td>5</td>\n",
       "      <td>...</td>\n",
       "      <td>/api/v2/well_known_file_download/487630084</td>\n",
       "      <td>/api/v2/well_known_file_download/491377895</td>\n",
       "      <td>NaN</td>\n",
       "      <td>NaN</td>\n",
       "      <td>NaN</td>\n",
       "      <td>NaN</td>\n",
       "      <td>NaN</td>\n",
       "      <td>Mus musculus</td>\n",
       "      <td>312883165</td>\n",
       "      <td>Sst-IRES-Cre;Ai14(IVSCC)-165865</td>\n",
       "    </tr>\n",
       "  </tbody>\n",
       "</table>\n",
       "<p>2331 rows × 54 columns</p>\n",
       "</div>"
      ],
      "text/plain": [
       "                             line_name  specimen__id  \\\n",
       "0                                  NaN     525011903   \n",
       "1                         Oxtr-T2A-Cre     565871768   \n",
       "2                       Pvalb-IRES-Cre     469801138   \n",
       "3                                  NaN     528642047   \n",
       "4     Slc32a1-T2A-FlpO|Vipr2-IRES2-Cre     605889373   \n",
       "...                                ...           ...   \n",
       "2326                    Ctgf-T2A-dgCre     512322162   \n",
       "2327                    Rorb-IRES2-Cre     488473535   \n",
       "2328                    Rorb-IRES2-Cre     467003163   \n",
       "2329                    Pvalb-IRES-Cre     572609946   \n",
       "2330                      Sst-IRES-Cre     464212183   \n",
       "\n",
       "                                         specimen__name specimen__hemisphere  \\\n",
       "0                                   H16.03.003.01.14.02                right   \n",
       "1                      Oxtr-2A-Cre;Ai14-293837.03.01.02                 left   \n",
       "2                   Pvalb-IRES-Cre;Ai14-170927.05.02.01                right   \n",
       "3                                H16.06.009.01.02.06.05                 left   \n",
       "4     Vipr2-IRES2-Cre;Slc32a1-T2A-FlpO;Ai65-337419.0...                right   \n",
       "...                                                 ...                  ...   \n",
       "2326          Ctgf-2A-dgCre;Ai14(IVSCC)-240529.03.02.01                right   \n",
       "2327              Rorb-IRES2-Cre-D;Ai14-212867.03.01.01                 left   \n",
       "2328              Rorb-IRES2-Cre-D;Ai14-172652.02.02.01                right   \n",
       "2329                Pvalb-IRES-Cre;Ai14-301945.04.02.01                right   \n",
       "2330                  Sst-IRES-Cre;Ai14-165865.05.02.01                 left   \n",
       "\n",
       "      structure__id                   structure__name structure__acronym  \\\n",
       "0             12113                    \"frontal lobe\"               FroL   \n",
       "1               778    \"Primary visual area, layer 5\"              VISp5   \n",
       "2               721    \"Primary visual area, layer 4\"              VISp4   \n",
       "3             12141           \"middle temporal gyrus\"                MTG   \n",
       "4               821  \"Primary visual area, layer 2/3\"            VISp2/3   \n",
       "...             ...                               ...                ...   \n",
       "2326            305   \"Primary visual area, layer 6b\"             VISp6b   \n",
       "2327            821  \"Primary visual area, layer 2/3\"            VISp2/3   \n",
       "2328            721    \"Primary visual area, layer 4\"              VISp4   \n",
       "2329            721    \"Primary visual area, layer 4\"              VISp4   \n",
       "2330            778    \"Primary visual area, layer 5\"              VISp5   \n",
       "\n",
       "      structure_parent__id structure_parent__acronym structure__layer  ...  \\\n",
       "0                    12113                      FroL                3  ...   \n",
       "1                      385                      VISp                5  ...   \n",
       "2                      385                      VISp                4  ...   \n",
       "3                    12141                       MTG                5  ...   \n",
       "4                      385                      VISp              2/3  ...   \n",
       "...                    ...                       ...              ...  ...   \n",
       "2326                   385                      VISp               6b  ...   \n",
       "2327                   385                      VISp              2/3  ...   \n",
       "2328                   385                      VISp                4  ...   \n",
       "2329                   385                      VISp                4  ...   \n",
       "2330                   385                      VISp                5  ...   \n",
       "\n",
       "                                ephys_thumb_path  \\\n",
       "0     /api/v2/well_known_file_download/529903140   \n",
       "1     /api/v2/well_known_file_download/566738214   \n",
       "2     /api/v2/well_known_file_download/487618917   \n",
       "3     /api/v2/well_known_file_download/660970973   \n",
       "4     /api/v2/well_known_file_download/657612184   \n",
       "...                                          ...   \n",
       "2326  /api/v2/well_known_file_download/513878612   \n",
       "2327  /api/v2/well_known_file_download/488474970   \n",
       "2328  /api/v2/well_known_file_download/487623212   \n",
       "2329  /api/v2/well_known_file_download/575795570   \n",
       "2330  /api/v2/well_known_file_download/487630084   \n",
       "\n",
       "                    ephys_inst_thresh_thumb_path  donor__age  donor__sex  \\\n",
       "0     /api/v2/well_known_file_download/529903142      25 yrs        Male   \n",
       "1     /api/v2/well_known_file_download/566738219         NaN         NaN   \n",
       "2     /api/v2/well_known_file_download/491380580         NaN         NaN   \n",
       "3     /api/v2/well_known_file_download/660970975      48 yrs      Female   \n",
       "4     /api/v2/well_known_file_download/657612186         NaN         NaN   \n",
       "...                                          ...         ...         ...   \n",
       "2326  /api/v2/well_known_file_download/513878614         NaN         NaN   \n",
       "2327  /api/v2/well_known_file_download/491376689         NaN         NaN   \n",
       "2328  /api/v2/well_known_file_download/491378303         NaN         NaN   \n",
       "2329  /api/v2/well_known_file_download/575795572         NaN         NaN   \n",
       "2330  /api/v2/well_known_file_download/491377895         NaN         NaN   \n",
       "\n",
       "      donor__disease_state         donor__race  \\\n",
       "0                 epilepsy  White or Caucasian   \n",
       "1                      NaN                 NaN   \n",
       "2                      NaN                 NaN   \n",
       "3                 epilepsy             unknown   \n",
       "4                      NaN                 NaN   \n",
       "...                    ...                 ...   \n",
       "2326                   NaN                 NaN   \n",
       "2327                   NaN                 NaN   \n",
       "2328                   NaN                 NaN   \n",
       "2329                   NaN                 NaN   \n",
       "2330                   NaN                 NaN   \n",
       "\n",
       "      donor__years_of_seizure_history  donor__species  donor__id  \\\n",
       "0                                 9.0    Homo Sapiens  524848408   \n",
       "1                                 NaN    Mus musculus  563340157   \n",
       "2                                 NaN    Mus musculus  319194354   \n",
       "3                                33.0    Homo Sapiens  528574320   \n",
       "4                                 NaN    Mus musculus  605622695   \n",
       "...                               ...             ...        ...   \n",
       "2326                              NaN    Mus musculus  511856495   \n",
       "2327                              NaN    Mus musculus  487607572   \n",
       "2328                              NaN    Mus musculus  322489498   \n",
       "2329                              NaN    Mus musculus  570930952   \n",
       "2330                              NaN    Mus musculus  312883165   \n",
       "\n",
       "                                       donor__name  \n",
       "0                                       H16.03.003  \n",
       "1                         Oxtr-T2A-Cre;Ai14-293837  \n",
       "2                Pvalb-IRES-Cre;Ai14(IVSCC)-170927  \n",
       "3                                       H16.06.009  \n",
       "4     Vipr2-IRES2-Cre;Slc32a1-T2A-FlpO;Ai65-337419  \n",
       "...                                            ...  \n",
       "2326              Ctgf-2A-dgCre;Ai14(IVSCC)-240529  \n",
       "2327                  Rorb-IRES2-Cre-D;Ai14-212867  \n",
       "2328           Rorb-IRES2-Cre-D;Ai14(IVSCC)-172652  \n",
       "2329                    Pvalb-IRES-Cre;Ai14-301945  \n",
       "2330               Sst-IRES-Cre;Ai14(IVSCC)-165865  \n",
       "\n",
       "[2331 rows x 54 columns]"
      ]
     },
     "execution_count": 2,
     "metadata": {},
     "output_type": "execute_result"
    }
   ],
   "source": [
    "cell_type_df = pd.read_csv('cell_types_specimen_details.csv')\n",
    "cell_type_df"
   ]
  },
  {
   "cell_type": "markdown",
   "metadata": {},
   "source": [
    "Importing the Neuropixels Cache. "
   ]
  },
  {
   "cell_type": "code",
   "execution_count": 3,
   "metadata": {},
   "outputs": [],
   "source": [
    "from allensdk.brain_observatory.ecephys.ecephys_project_cache import EcephysProjectCache\n",
    "manifest_path = '/datasets/allen-brain-observatory/visual-coding-neuropixels/ecephys-cache/manifest.json' "
   ]
  },
  {
   "cell_type": "markdown",
   "metadata": {},
   "source": [
    "## Data Wrangling"
   ]
  },
  {
   "cell_type": "markdown",
   "metadata": {},
   "source": [
    "From the Cell Types database: creating a separate dataframe for VISp and VISpm data"
   ]
  },
  {
   "cell_type": "code",
   "execution_count": 4,
   "metadata": {
    "scrolled": true
   },
   "outputs": [
    {
     "data": {
      "text/html": [
       "<div>\n",
       "<style scoped>\n",
       "    .dataframe tbody tr th:only-of-type {\n",
       "        vertical-align: middle;\n",
       "    }\n",
       "\n",
       "    .dataframe tbody tr th {\n",
       "        vertical-align: top;\n",
       "    }\n",
       "\n",
       "    .dataframe thead th {\n",
       "        text-align: right;\n",
       "    }\n",
       "</style>\n",
       "<table border=\"1\" class=\"dataframe\">\n",
       "  <thead>\n",
       "    <tr style=\"text-align: right;\">\n",
       "      <th></th>\n",
       "      <th>line_name</th>\n",
       "      <th>specimen__id</th>\n",
       "      <th>specimen__name</th>\n",
       "      <th>specimen__hemisphere</th>\n",
       "      <th>structure__id</th>\n",
       "      <th>structure__name</th>\n",
       "      <th>structure__acronym</th>\n",
       "      <th>structure_parent__id</th>\n",
       "      <th>structure_parent__acronym</th>\n",
       "      <th>structure__layer</th>\n",
       "      <th>...</th>\n",
       "      <th>ephys_thumb_path</th>\n",
       "      <th>ephys_inst_thresh_thumb_path</th>\n",
       "      <th>donor__age</th>\n",
       "      <th>donor__sex</th>\n",
       "      <th>donor__disease_state</th>\n",
       "      <th>donor__race</th>\n",
       "      <th>donor__years_of_seizure_history</th>\n",
       "      <th>donor__species</th>\n",
       "      <th>donor__id</th>\n",
       "      <th>donor__name</th>\n",
       "    </tr>\n",
       "  </thead>\n",
       "  <tbody>\n",
       "    <tr>\n",
       "      <th>0</th>\n",
       "      <td>Oxtr-T2A-Cre</td>\n",
       "      <td>565871768</td>\n",
       "      <td>Oxtr-2A-Cre;Ai14-293837.03.01.02</td>\n",
       "      <td>left</td>\n",
       "      <td>778</td>\n",
       "      <td>\"Primary visual area, layer 5\"</td>\n",
       "      <td>VISp5</td>\n",
       "      <td>385</td>\n",
       "      <td>VISp</td>\n",
       "      <td>5</td>\n",
       "      <td>...</td>\n",
       "      <td>/api/v2/well_known_file_download/566738214</td>\n",
       "      <td>/api/v2/well_known_file_download/566738219</td>\n",
       "      <td>0</td>\n",
       "      <td>0</td>\n",
       "      <td>0</td>\n",
       "      <td>0</td>\n",
       "      <td>0.0</td>\n",
       "      <td>Mus musculus</td>\n",
       "      <td>563340157</td>\n",
       "      <td>Oxtr-T2A-Cre;Ai14-293837</td>\n",
       "    </tr>\n",
       "    <tr>\n",
       "      <th>1</th>\n",
       "      <td>Pvalb-IRES-Cre</td>\n",
       "      <td>469801138</td>\n",
       "      <td>Pvalb-IRES-Cre;Ai14-170927.05.02.01</td>\n",
       "      <td>right</td>\n",
       "      <td>721</td>\n",
       "      <td>\"Primary visual area, layer 4\"</td>\n",
       "      <td>VISp4</td>\n",
       "      <td>385</td>\n",
       "      <td>VISp</td>\n",
       "      <td>4</td>\n",
       "      <td>...</td>\n",
       "      <td>/api/v2/well_known_file_download/487618917</td>\n",
       "      <td>/api/v2/well_known_file_download/491380580</td>\n",
       "      <td>0</td>\n",
       "      <td>0</td>\n",
       "      <td>0</td>\n",
       "      <td>0</td>\n",
       "      <td>0.0</td>\n",
       "      <td>Mus musculus</td>\n",
       "      <td>319194354</td>\n",
       "      <td>Pvalb-IRES-Cre;Ai14(IVSCC)-170927</td>\n",
       "    </tr>\n",
       "    <tr>\n",
       "      <th>2</th>\n",
       "      <td>Slc32a1-T2A-FlpO|Vipr2-IRES2-Cre</td>\n",
       "      <td>605889373</td>\n",
       "      <td>Vipr2-IRES2-Cre;Slc32a1-T2A-FlpO;Ai65-337419.0...</td>\n",
       "      <td>right</td>\n",
       "      <td>821</td>\n",
       "      <td>\"Primary visual area, layer 2/3\"</td>\n",
       "      <td>VISp2/3</td>\n",
       "      <td>385</td>\n",
       "      <td>VISp</td>\n",
       "      <td>2/3</td>\n",
       "      <td>...</td>\n",
       "      <td>/api/v2/well_known_file_download/657612184</td>\n",
       "      <td>/api/v2/well_known_file_download/657612186</td>\n",
       "      <td>0</td>\n",
       "      <td>0</td>\n",
       "      <td>0</td>\n",
       "      <td>0</td>\n",
       "      <td>0.0</td>\n",
       "      <td>Mus musculus</td>\n",
       "      <td>605622695</td>\n",
       "      <td>Vipr2-IRES2-Cre;Slc32a1-T2A-FlpO;Ai65-337419</td>\n",
       "    </tr>\n",
       "    <tr>\n",
       "      <th>3</th>\n",
       "      <td>Cux2-CreERT2</td>\n",
       "      <td>485909730</td>\n",
       "      <td>Cux2-CreERT2;Ai14-205530.03.02.01</td>\n",
       "      <td>right</td>\n",
       "      <td>778</td>\n",
       "      <td>\"Primary visual area, layer 5\"</td>\n",
       "      <td>VISp5</td>\n",
       "      <td>385</td>\n",
       "      <td>VISp</td>\n",
       "      <td>5</td>\n",
       "      <td>...</td>\n",
       "      <td>/api/v2/well_known_file_download/485911650</td>\n",
       "      <td>/api/v2/well_known_file_download/491381130</td>\n",
       "      <td>0</td>\n",
       "      <td>0</td>\n",
       "      <td>0</td>\n",
       "      <td>0</td>\n",
       "      <td>0.0</td>\n",
       "      <td>Mus musculus</td>\n",
       "      <td>485250100</td>\n",
       "      <td>Cux2-CreERT2;Ai14-205530</td>\n",
       "    </tr>\n",
       "    <tr>\n",
       "      <th>4</th>\n",
       "      <td>Scnn1a-Tg3-Cre</td>\n",
       "      <td>323865917</td>\n",
       "      <td>Scnn1a-Tg3-Cre;Ai14-172530.06.01.01</td>\n",
       "      <td>left</td>\n",
       "      <td>778</td>\n",
       "      <td>\"Primary visual area, layer 5\"</td>\n",
       "      <td>VISp5</td>\n",
       "      <td>385</td>\n",
       "      <td>VISp</td>\n",
       "      <td>5</td>\n",
       "      <td>...</td>\n",
       "      <td>/api/v2/well_known_file_download/487629671</td>\n",
       "      <td>/api/v2/well_known_file_download/491384430</td>\n",
       "      <td>0</td>\n",
       "      <td>0</td>\n",
       "      <td>0</td>\n",
       "      <td>0</td>\n",
       "      <td>0.0</td>\n",
       "      <td>Mus musculus</td>\n",
       "      <td>322489588</td>\n",
       "      <td>Scnn1a-Tg3-Cre;Ai14(GSL)-172530</td>\n",
       "    </tr>\n",
       "  </tbody>\n",
       "</table>\n",
       "<p>5 rows × 54 columns</p>\n",
       "</div>"
      ],
      "text/plain": [
       "                          line_name  specimen__id  \\\n",
       "0                      Oxtr-T2A-Cre     565871768   \n",
       "1                    Pvalb-IRES-Cre     469801138   \n",
       "2  Slc32a1-T2A-FlpO|Vipr2-IRES2-Cre     605889373   \n",
       "3                      Cux2-CreERT2     485909730   \n",
       "4                    Scnn1a-Tg3-Cre     323865917   \n",
       "\n",
       "                                      specimen__name specimen__hemisphere  \\\n",
       "0                   Oxtr-2A-Cre;Ai14-293837.03.01.02                 left   \n",
       "1                Pvalb-IRES-Cre;Ai14-170927.05.02.01                right   \n",
       "2  Vipr2-IRES2-Cre;Slc32a1-T2A-FlpO;Ai65-337419.0...                right   \n",
       "3                  Cux2-CreERT2;Ai14-205530.03.02.01                right   \n",
       "4                Scnn1a-Tg3-Cre;Ai14-172530.06.01.01                 left   \n",
       "\n",
       "   structure__id                   structure__name structure__acronym  \\\n",
       "0            778    \"Primary visual area, layer 5\"              VISp5   \n",
       "1            721    \"Primary visual area, layer 4\"              VISp4   \n",
       "2            821  \"Primary visual area, layer 2/3\"            VISp2/3   \n",
       "3            778    \"Primary visual area, layer 5\"              VISp5   \n",
       "4            778    \"Primary visual area, layer 5\"              VISp5   \n",
       "\n",
       "   structure_parent__id structure_parent__acronym structure__layer  ...  \\\n",
       "0                   385                      VISp                5  ...   \n",
       "1                   385                      VISp                4  ...   \n",
       "2                   385                      VISp              2/3  ...   \n",
       "3                   385                      VISp                5  ...   \n",
       "4                   385                      VISp                5  ...   \n",
       "\n",
       "                             ephys_thumb_path  \\\n",
       "0  /api/v2/well_known_file_download/566738214   \n",
       "1  /api/v2/well_known_file_download/487618917   \n",
       "2  /api/v2/well_known_file_download/657612184   \n",
       "3  /api/v2/well_known_file_download/485911650   \n",
       "4  /api/v2/well_known_file_download/487629671   \n",
       "\n",
       "                 ephys_inst_thresh_thumb_path  donor__age  donor__sex  \\\n",
       "0  /api/v2/well_known_file_download/566738219           0           0   \n",
       "1  /api/v2/well_known_file_download/491380580           0           0   \n",
       "2  /api/v2/well_known_file_download/657612186           0           0   \n",
       "3  /api/v2/well_known_file_download/491381130           0           0   \n",
       "4  /api/v2/well_known_file_download/491384430           0           0   \n",
       "\n",
       "   donor__disease_state donor__race  donor__years_of_seizure_history  \\\n",
       "0                     0           0                              0.0   \n",
       "1                     0           0                              0.0   \n",
       "2                     0           0                              0.0   \n",
       "3                     0           0                              0.0   \n",
       "4                     0           0                              0.0   \n",
       "\n",
       "   donor__species  donor__id                                   donor__name  \n",
       "0    Mus musculus  563340157                      Oxtr-T2A-Cre;Ai14-293837  \n",
       "1    Mus musculus  319194354             Pvalb-IRES-Cre;Ai14(IVSCC)-170927  \n",
       "2    Mus musculus  605622695  Vipr2-IRES2-Cre;Slc32a1-T2A-FlpO;Ai65-337419  \n",
       "3    Mus musculus  485250100                      Cux2-CreERT2;Ai14-205530  \n",
       "4    Mus musculus  322489588               Scnn1a-Tg3-Cre;Ai14(GSL)-172530  \n",
       "\n",
       "[5 rows x 54 columns]"
      ]
     },
     "execution_count": 4,
     "metadata": {},
     "output_type": "execute_result"
    }
   ],
   "source": [
    "cell_type_VISp = cell_type_df[cell_type_df['structure_parent__acronym'].str.contains('VISp')].reset_index(drop=True).fillna(0)\n",
    "cell_type_VISpm = cell_type_df[cell_type_df['structure_parent__acronym'].str.contains('VISpm')].reset_index(drop=True).fillna(0)\n",
    "cell_type_VISp.head()\n"
   ]
  },
  {
   "cell_type": "code",
   "execution_count": 5,
   "metadata": {},
   "outputs": [
    {
     "data": {
      "text/html": [
       "<div>\n",
       "<style scoped>\n",
       "    .dataframe tbody tr th:only-of-type {\n",
       "        vertical-align: middle;\n",
       "    }\n",
       "\n",
       "    .dataframe tbody tr th {\n",
       "        vertical-align: top;\n",
       "    }\n",
       "\n",
       "    .dataframe thead th {\n",
       "        text-align: right;\n",
       "    }\n",
       "</style>\n",
       "<table border=\"1\" class=\"dataframe\">\n",
       "  <thead>\n",
       "    <tr style=\"text-align: right;\">\n",
       "      <th></th>\n",
       "      <th>line_name</th>\n",
       "      <th>specimen__id</th>\n",
       "      <th>specimen__name</th>\n",
       "      <th>specimen__hemisphere</th>\n",
       "      <th>structure__id</th>\n",
       "      <th>structure__name</th>\n",
       "      <th>structure__acronym</th>\n",
       "      <th>structure_parent__id</th>\n",
       "      <th>structure_parent__acronym</th>\n",
       "      <th>structure__layer</th>\n",
       "      <th>...</th>\n",
       "      <th>ephys_thumb_path</th>\n",
       "      <th>ephys_inst_thresh_thumb_path</th>\n",
       "      <th>donor__age</th>\n",
       "      <th>donor__sex</th>\n",
       "      <th>donor__disease_state</th>\n",
       "      <th>donor__race</th>\n",
       "      <th>donor__years_of_seizure_history</th>\n",
       "      <th>donor__species</th>\n",
       "      <th>donor__id</th>\n",
       "      <th>donor__name</th>\n",
       "    </tr>\n",
       "  </thead>\n",
       "  <tbody>\n",
       "    <tr>\n",
       "      <th>0</th>\n",
       "      <td>Slc32a1-T2A-FlpO|Vipr2-IRES2-Cre</td>\n",
       "      <td>585805211</td>\n",
       "      <td>Vipr2-IRES2-Cre;Slc32a1-T2A-FlpO;Ai65-315067.0...</td>\n",
       "      <td>left</td>\n",
       "      <td>41</td>\n",
       "      <td>\"posteromedial visual area, layer 2/3\"</td>\n",
       "      <td>VISpm2/3</td>\n",
       "      <td>533</td>\n",
       "      <td>VISpm</td>\n",
       "      <td>2/3</td>\n",
       "      <td>...</td>\n",
       "      <td>/api/v2/well_known_file_download/606111374</td>\n",
       "      <td>/api/v2/well_known_file_download/606111379</td>\n",
       "      <td>0</td>\n",
       "      <td>0</td>\n",
       "      <td>0</td>\n",
       "      <td>0</td>\n",
       "      <td>0.0</td>\n",
       "      <td>Mus musculus</td>\n",
       "      <td>584627997</td>\n",
       "      <td>Vipr2-IRES2-Cre;Slc32a1-T2A-FlpO;Ai65-315067</td>\n",
       "    </tr>\n",
       "    <tr>\n",
       "      <th>1</th>\n",
       "      <td>Slc32a1-T2A-FlpO|Vipr2-IRES2-Cre</td>\n",
       "      <td>586073850</td>\n",
       "      <td>Vipr2-IRES2-Cre;Slc32a1-T2A-FlpO;Ai65-315072.0...</td>\n",
       "      <td>left</td>\n",
       "      <td>41</td>\n",
       "      <td>\"posteromedial visual area, layer 2/3\"</td>\n",
       "      <td>VISpm2/3</td>\n",
       "      <td>533</td>\n",
       "      <td>VISpm</td>\n",
       "      <td>2/3</td>\n",
       "      <td>...</td>\n",
       "      <td>/api/v2/well_known_file_download/606111617</td>\n",
       "      <td>/api/v2/well_known_file_download/606111619</td>\n",
       "      <td>0</td>\n",
       "      <td>0</td>\n",
       "      <td>0</td>\n",
       "      <td>0</td>\n",
       "      <td>0.0</td>\n",
       "      <td>Mus musculus</td>\n",
       "      <td>584628021</td>\n",
       "      <td>Vipr2-IRES2-Cre;Slc32a1-T2A-FlpO;Ai65-315072</td>\n",
       "    </tr>\n",
       "    <tr>\n",
       "      <th>2</th>\n",
       "      <td>Ndnf-IRES2-dgCre</td>\n",
       "      <td>565120091</td>\n",
       "      <td>Ndnf-IRES2-dgCre;Ai14-292670.04.02.01</td>\n",
       "      <td>right</td>\n",
       "      <td>501</td>\n",
       "      <td>\"posteromedial visual area, layer 4\"</td>\n",
       "      <td>VISpm4</td>\n",
       "      <td>533</td>\n",
       "      <td>VISpm</td>\n",
       "      <td>4</td>\n",
       "      <td>...</td>\n",
       "      <td>/api/v2/well_known_file_download/566724383</td>\n",
       "      <td>/api/v2/well_known_file_download/566724388</td>\n",
       "      <td>0</td>\n",
       "      <td>0</td>\n",
       "      <td>0</td>\n",
       "      <td>0</td>\n",
       "      <td>0.0</td>\n",
       "      <td>Mus musculus</td>\n",
       "      <td>563340185</td>\n",
       "      <td>Ndnf-IRES2-dgCre;Ai14-292670</td>\n",
       "    </tr>\n",
       "    <tr>\n",
       "      <th>3</th>\n",
       "      <td>Vipr2-IRES2-Cre</td>\n",
       "      <td>590558808</td>\n",
       "      <td>Vipr2-IRES2-Cre;Ai14-316908.04.02.01</td>\n",
       "      <td>right</td>\n",
       "      <td>469</td>\n",
       "      <td>\"posteromedial visual area, layer 6b\"</td>\n",
       "      <td>VISpm6b</td>\n",
       "      <td>533</td>\n",
       "      <td>VISpm</td>\n",
       "      <td>6b</td>\n",
       "      <td>...</td>\n",
       "      <td>/api/v2/well_known_file_download/606112029</td>\n",
       "      <td>/api/v2/well_known_file_download/606112031</td>\n",
       "      <td>0</td>\n",
       "      <td>0</td>\n",
       "      <td>0</td>\n",
       "      <td>0</td>\n",
       "      <td>0.0</td>\n",
       "      <td>Mus musculus</td>\n",
       "      <td>586420039</td>\n",
       "      <td>Vipr2-IRES2-Cre;Ai14-316908</td>\n",
       "    </tr>\n",
       "    <tr>\n",
       "      <th>4</th>\n",
       "      <td>Scnn1a-Tg3-Cre</td>\n",
       "      <td>466827702</td>\n",
       "      <td>Scnn1a-Tg3-Cre;Ai14-180211.05.01.01</td>\n",
       "      <td>left</td>\n",
       "      <td>565</td>\n",
       "      <td>\"posteromedial visual area, layer 5\"</td>\n",
       "      <td>VISpm5</td>\n",
       "      <td>533</td>\n",
       "      <td>VISpm</td>\n",
       "      <td>5</td>\n",
       "      <td>...</td>\n",
       "      <td>/api/v2/well_known_file_download/487628699</td>\n",
       "      <td>/api/v2/well_known_file_download/491376465</td>\n",
       "      <td>0</td>\n",
       "      <td>0</td>\n",
       "      <td>0</td>\n",
       "      <td>0</td>\n",
       "      <td>0.0</td>\n",
       "      <td>Mus musculus</td>\n",
       "      <td>418778062</td>\n",
       "      <td>Scnn1a-Tg3-Cre;Ai14(IVSCC)-180211</td>\n",
       "    </tr>\n",
       "  </tbody>\n",
       "</table>\n",
       "<p>5 rows × 54 columns</p>\n",
       "</div>"
      ],
      "text/plain": [
       "                          line_name  specimen__id  \\\n",
       "0  Slc32a1-T2A-FlpO|Vipr2-IRES2-Cre     585805211   \n",
       "1  Slc32a1-T2A-FlpO|Vipr2-IRES2-Cre     586073850   \n",
       "2                  Ndnf-IRES2-dgCre     565120091   \n",
       "3                   Vipr2-IRES2-Cre     590558808   \n",
       "4                    Scnn1a-Tg3-Cre     466827702   \n",
       "\n",
       "                                      specimen__name specimen__hemisphere  \\\n",
       "0  Vipr2-IRES2-Cre;Slc32a1-T2A-FlpO;Ai65-315067.0...                 left   \n",
       "1  Vipr2-IRES2-Cre;Slc32a1-T2A-FlpO;Ai65-315072.0...                 left   \n",
       "2              Ndnf-IRES2-dgCre;Ai14-292670.04.02.01                right   \n",
       "3               Vipr2-IRES2-Cre;Ai14-316908.04.02.01                right   \n",
       "4                Scnn1a-Tg3-Cre;Ai14-180211.05.01.01                 left   \n",
       "\n",
       "   structure__id                         structure__name structure__acronym  \\\n",
       "0             41  \"posteromedial visual area, layer 2/3\"           VISpm2/3   \n",
       "1             41  \"posteromedial visual area, layer 2/3\"           VISpm2/3   \n",
       "2            501    \"posteromedial visual area, layer 4\"             VISpm4   \n",
       "3            469   \"posteromedial visual area, layer 6b\"            VISpm6b   \n",
       "4            565    \"posteromedial visual area, layer 5\"             VISpm5   \n",
       "\n",
       "   structure_parent__id structure_parent__acronym structure__layer  ...  \\\n",
       "0                   533                     VISpm              2/3  ...   \n",
       "1                   533                     VISpm              2/3  ...   \n",
       "2                   533                     VISpm                4  ...   \n",
       "3                   533                     VISpm               6b  ...   \n",
       "4                   533                     VISpm                5  ...   \n",
       "\n",
       "                             ephys_thumb_path  \\\n",
       "0  /api/v2/well_known_file_download/606111374   \n",
       "1  /api/v2/well_known_file_download/606111617   \n",
       "2  /api/v2/well_known_file_download/566724383   \n",
       "3  /api/v2/well_known_file_download/606112029   \n",
       "4  /api/v2/well_known_file_download/487628699   \n",
       "\n",
       "                 ephys_inst_thresh_thumb_path  donor__age  donor__sex  \\\n",
       "0  /api/v2/well_known_file_download/606111379           0           0   \n",
       "1  /api/v2/well_known_file_download/606111619           0           0   \n",
       "2  /api/v2/well_known_file_download/566724388           0           0   \n",
       "3  /api/v2/well_known_file_download/606112031           0           0   \n",
       "4  /api/v2/well_known_file_download/491376465           0           0   \n",
       "\n",
       "   donor__disease_state donor__race  donor__years_of_seizure_history  \\\n",
       "0                     0           0                              0.0   \n",
       "1                     0           0                              0.0   \n",
       "2                     0           0                              0.0   \n",
       "3                     0           0                              0.0   \n",
       "4                     0           0                              0.0   \n",
       "\n",
       "   donor__species  donor__id                                   donor__name  \n",
       "0    Mus musculus  584627997  Vipr2-IRES2-Cre;Slc32a1-T2A-FlpO;Ai65-315067  \n",
       "1    Mus musculus  584628021  Vipr2-IRES2-Cre;Slc32a1-T2A-FlpO;Ai65-315072  \n",
       "2    Mus musculus  563340185                  Ndnf-IRES2-dgCre;Ai14-292670  \n",
       "3    Mus musculus  586420039                   Vipr2-IRES2-Cre;Ai14-316908  \n",
       "4    Mus musculus  418778062             Scnn1a-Tg3-Cre;Ai14(IVSCC)-180211  \n",
       "\n",
       "[5 rows x 54 columns]"
      ]
     },
     "execution_count": 5,
     "metadata": {},
     "output_type": "execute_result"
    }
   ],
   "source": [
    "cell_type_VISpm.head()"
   ]
  },
  {
   "cell_type": "markdown",
   "metadata": {},
   "source": [
    "From these datasets, making another dataframe specifically including average firing rate, peak to ramp, adaptation index, and time constant from VISp and VISpm data respectively."
   ]
  },
  {
   "cell_type": "code",
   "execution_count": 6,
   "metadata": {},
   "outputs": [
    {
     "data": {
      "text/html": [
       "<div>\n",
       "<style scoped>\n",
       "    .dataframe tbody tr th:only-of-type {\n",
       "        vertical-align: middle;\n",
       "    }\n",
       "\n",
       "    .dataframe tbody tr th {\n",
       "        vertical-align: top;\n",
       "    }\n",
       "\n",
       "    .dataframe thead th {\n",
       "        text-align: right;\n",
       "    }\n",
       "</style>\n",
       "<table border=\"1\" class=\"dataframe\">\n",
       "  <thead>\n",
       "    <tr style=\"text-align: right;\">\n",
       "      <th></th>\n",
       "      <th>ef__avg_firing_rate</th>\n",
       "      <th>ef__peak_t_ramp</th>\n",
       "      <th>ef__tau</th>\n",
       "      <th>ef__adaptation</th>\n",
       "      <th>structure_parent__acronym</th>\n",
       "    </tr>\n",
       "  </thead>\n",
       "  <tbody>\n",
       "    <tr>\n",
       "      <th>0</th>\n",
       "      <td>0.000000</td>\n",
       "      <td>14.737200</td>\n",
       "      <td>11.291090</td>\n",
       "      <td>0.000000</td>\n",
       "      <td>VISp</td>\n",
       "    </tr>\n",
       "    <tr>\n",
       "      <th>1</th>\n",
       "      <td>79.952029</td>\n",
       "      <td>11.763022</td>\n",
       "      <td>4.121689</td>\n",
       "      <td>0.000643</td>\n",
       "      <td>VISp</td>\n",
       "    </tr>\n",
       "    <tr>\n",
       "      <th>2</th>\n",
       "      <td>12.666099</td>\n",
       "      <td>8.423400</td>\n",
       "      <td>5.166574</td>\n",
       "      <td>-0.015098</td>\n",
       "      <td>VISp</td>\n",
       "    </tr>\n",
       "    <tr>\n",
       "      <th>3</th>\n",
       "      <td>17.890688</td>\n",
       "      <td>2.851312</td>\n",
       "      <td>20.567767</td>\n",
       "      <td>0.032340</td>\n",
       "      <td>VISp</td>\n",
       "    </tr>\n",
       "    <tr>\n",
       "      <th>4</th>\n",
       "      <td>10.611937</td>\n",
       "      <td>3.421542</td>\n",
       "      <td>23.182755</td>\n",
       "      <td>0.026732</td>\n",
       "      <td>VISp</td>\n",
       "    </tr>\n",
       "  </tbody>\n",
       "</table>\n",
       "</div>"
      ],
      "text/plain": [
       "   ef__avg_firing_rate  ef__peak_t_ramp    ef__tau  ef__adaptation  \\\n",
       "0             0.000000        14.737200  11.291090        0.000000   \n",
       "1            79.952029        11.763022   4.121689        0.000643   \n",
       "2            12.666099         8.423400   5.166574       -0.015098   \n",
       "3            17.890688         2.851312  20.567767        0.032340   \n",
       "4            10.611937         3.421542  23.182755        0.026732   \n",
       "\n",
       "  structure_parent__acronym  \n",
       "0                      VISp  \n",
       "1                      VISp  \n",
       "2                      VISp  \n",
       "3                      VISp  \n",
       "4                      VISp  "
      ]
     },
     "execution_count": 6,
     "metadata": {},
     "output_type": "execute_result"
    }
   ],
   "source": [
    "visp_features = cell_type_VISp[['ef__avg_firing_rate','ef__peak_t_ramp','ef__tau', 'ef__adaptation', 'structure_parent__acronym']]\n",
    "vispm_features = cell_type_VISpm[['ef__avg_firing_rate','ef__peak_t_ramp','ef__tau', 'ef__adaptation', 'structure_parent__acronym']]\n",
    "visp_features.head()\n"
   ]
  },
  {
   "cell_type": "code",
   "execution_count": 7,
   "metadata": {},
   "outputs": [
    {
     "data": {
      "text/html": [
       "<div>\n",
       "<style scoped>\n",
       "    .dataframe tbody tr th:only-of-type {\n",
       "        vertical-align: middle;\n",
       "    }\n",
       "\n",
       "    .dataframe tbody tr th {\n",
       "        vertical-align: top;\n",
       "    }\n",
       "\n",
       "    .dataframe thead th {\n",
       "        text-align: right;\n",
       "    }\n",
       "</style>\n",
       "<table border=\"1\" class=\"dataframe\">\n",
       "  <thead>\n",
       "    <tr style=\"text-align: right;\">\n",
       "      <th></th>\n",
       "      <th>ef__avg_firing_rate</th>\n",
       "      <th>ef__peak_t_ramp</th>\n",
       "      <th>ef__tau</th>\n",
       "      <th>ef__adaptation</th>\n",
       "      <th>structure_parent__acronym</th>\n",
       "    </tr>\n",
       "  </thead>\n",
       "  <tbody>\n",
       "    <tr>\n",
       "      <th>0</th>\n",
       "      <td>39.570967</td>\n",
       "      <td>9.657793</td>\n",
       "      <td>7.296395</td>\n",
       "      <td>0.012464</td>\n",
       "      <td>VISpm</td>\n",
       "    </tr>\n",
       "    <tr>\n",
       "      <th>1</th>\n",
       "      <td>41.345379</td>\n",
       "      <td>8.521987</td>\n",
       "      <td>6.825851</td>\n",
       "      <td>0.010213</td>\n",
       "      <td>VISpm</td>\n",
       "    </tr>\n",
       "    <tr>\n",
       "      <th>2</th>\n",
       "      <td>21.317416</td>\n",
       "      <td>3.257533</td>\n",
       "      <td>25.230889</td>\n",
       "      <td>0.033795</td>\n",
       "      <td>VISpm</td>\n",
       "    </tr>\n",
       "    <tr>\n",
       "      <th>3</th>\n",
       "      <td>73.053430</td>\n",
       "      <td>11.424590</td>\n",
       "      <td>6.992904</td>\n",
       "      <td>0.001740</td>\n",
       "      <td>VISpm</td>\n",
       "    </tr>\n",
       "    <tr>\n",
       "      <th>4</th>\n",
       "      <td>16.740791</td>\n",
       "      <td>3.190572</td>\n",
       "      <td>19.412868</td>\n",
       "      <td>0.027348</td>\n",
       "      <td>VISpm</td>\n",
       "    </tr>\n",
       "  </tbody>\n",
       "</table>\n",
       "</div>"
      ],
      "text/plain": [
       "   ef__avg_firing_rate  ef__peak_t_ramp    ef__tau  ef__adaptation  \\\n",
       "0            39.570967         9.657793   7.296395        0.012464   \n",
       "1            41.345379         8.521987   6.825851        0.010213   \n",
       "2            21.317416         3.257533  25.230889        0.033795   \n",
       "3            73.053430        11.424590   6.992904        0.001740   \n",
       "4            16.740791         3.190572  19.412868        0.027348   \n",
       "\n",
       "  structure_parent__acronym  \n",
       "0                     VISpm  \n",
       "1                     VISpm  \n",
       "2                     VISpm  \n",
       "3                     VISpm  \n",
       "4                     VISpm  "
      ]
     },
     "execution_count": 7,
     "metadata": {},
     "output_type": "execute_result"
    }
   ],
   "source": [
    "vispm_features.head()"
   ]
  },
  {
   "cell_type": "markdown",
   "metadata": {},
   "source": [
    "Generating a dataframe with VISp units firing rate"
   ]
  },
  {
   "cell_type": "code",
   "execution_count": 70,
   "metadata": {},
   "outputs": [
    {
     "data": {
      "text/html": [
       "<div>\n",
       "<style scoped>\n",
       "    .dataframe tbody tr th:only-of-type {\n",
       "        vertical-align: middle;\n",
       "    }\n",
       "\n",
       "    .dataframe tbody tr th {\n",
       "        vertical-align: top;\n",
       "    }\n",
       "\n",
       "    .dataframe thead th {\n",
       "        text-align: right;\n",
       "    }\n",
       "</style>\n",
       "<table border=\"1\" class=\"dataframe\">\n",
       "  <thead>\n",
       "    <tr style=\"text-align: right;\">\n",
       "      <th></th>\n",
       "      <th>firing_rate</th>\n",
       "      <th>region</th>\n",
       "    </tr>\n",
       "  </thead>\n",
       "  <tbody>\n",
       "    <tr>\n",
       "      <th>0</th>\n",
       "      <td>0.000000</td>\n",
       "      <td>VISp</td>\n",
       "    </tr>\n",
       "    <tr>\n",
       "      <th>1</th>\n",
       "      <td>79.952029</td>\n",
       "      <td>VISp</td>\n",
       "    </tr>\n",
       "    <tr>\n",
       "      <th>2</th>\n",
       "      <td>12.666099</td>\n",
       "      <td>VISp</td>\n",
       "    </tr>\n",
       "    <tr>\n",
       "      <th>3</th>\n",
       "      <td>17.890688</td>\n",
       "      <td>VISp</td>\n",
       "    </tr>\n",
       "    <tr>\n",
       "      <th>4</th>\n",
       "      <td>10.611937</td>\n",
       "      <td>VISp</td>\n",
       "    </tr>\n",
       "  </tbody>\n",
       "</table>\n",
       "</div>"
      ],
      "text/plain": [
       "   firing_rate region\n",
       "0     0.000000   VISp\n",
       "1    79.952029   VISp\n",
       "2    12.666099   VISp\n",
       "3    17.890688   VISp\n",
       "4    10.611937   VISp"
      ]
     },
     "execution_count": 70,
     "metadata": {},
     "output_type": "execute_result"
    }
   ],
   "source": [
    "cell_visp=visp_features[['ef__avg_firing_rate','structure_parent__acronym']]\n",
    "cell_visp.columns=['firing_rate','region']\n",
    "cell_visp.head()"
   ]
  },
  {
   "cell_type": "markdown",
   "metadata": {},
   "source": [
    "Generating a dataframe with VISpm units firing rate "
   ]
  },
  {
   "cell_type": "code",
   "execution_count": 9,
   "metadata": {},
   "outputs": [
    {
     "data": {
      "text/html": [
       "<div>\n",
       "<style scoped>\n",
       "    .dataframe tbody tr th:only-of-type {\n",
       "        vertical-align: middle;\n",
       "    }\n",
       "\n",
       "    .dataframe tbody tr th {\n",
       "        vertical-align: top;\n",
       "    }\n",
       "\n",
       "    .dataframe thead th {\n",
       "        text-align: right;\n",
       "    }\n",
       "</style>\n",
       "<table border=\"1\" class=\"dataframe\">\n",
       "  <thead>\n",
       "    <tr style=\"text-align: right;\">\n",
       "      <th></th>\n",
       "      <th>firing_rate</th>\n",
       "      <th>region</th>\n",
       "    </tr>\n",
       "  </thead>\n",
       "  <tbody>\n",
       "    <tr>\n",
       "      <th>0</th>\n",
       "      <td>39.570967</td>\n",
       "      <td>VISpm</td>\n",
       "    </tr>\n",
       "    <tr>\n",
       "      <th>1</th>\n",
       "      <td>41.345379</td>\n",
       "      <td>VISpm</td>\n",
       "    </tr>\n",
       "    <tr>\n",
       "      <th>2</th>\n",
       "      <td>21.317416</td>\n",
       "      <td>VISpm</td>\n",
       "    </tr>\n",
       "    <tr>\n",
       "      <th>3</th>\n",
       "      <td>73.053430</td>\n",
       "      <td>VISpm</td>\n",
       "    </tr>\n",
       "    <tr>\n",
       "      <th>4</th>\n",
       "      <td>16.740791</td>\n",
       "      <td>VISpm</td>\n",
       "    </tr>\n",
       "    <tr>\n",
       "      <th>...</th>\n",
       "      <td>...</td>\n",
       "      <td>...</td>\n",
       "    </tr>\n",
       "    <tr>\n",
       "      <th>84</th>\n",
       "      <td>65.288801</td>\n",
       "      <td>VISpm</td>\n",
       "    </tr>\n",
       "    <tr>\n",
       "      <th>85</th>\n",
       "      <td>100.401606</td>\n",
       "      <td>VISpm</td>\n",
       "    </tr>\n",
       "    <tr>\n",
       "      <th>86</th>\n",
       "      <td>31.084528</td>\n",
       "      <td>VISpm</td>\n",
       "    </tr>\n",
       "    <tr>\n",
       "      <th>87</th>\n",
       "      <td>15.202519</td>\n",
       "      <td>VISpm</td>\n",
       "    </tr>\n",
       "    <tr>\n",
       "      <th>88</th>\n",
       "      <td>11.093362</td>\n",
       "      <td>VISpm</td>\n",
       "    </tr>\n",
       "  </tbody>\n",
       "</table>\n",
       "<p>89 rows × 2 columns</p>\n",
       "</div>"
      ],
      "text/plain": [
       "    firing_rate region\n",
       "0     39.570967  VISpm\n",
       "1     41.345379  VISpm\n",
       "2     21.317416  VISpm\n",
       "3     73.053430  VISpm\n",
       "4     16.740791  VISpm\n",
       "..          ...    ...\n",
       "84    65.288801  VISpm\n",
       "85   100.401606  VISpm\n",
       "86    31.084528  VISpm\n",
       "87    15.202519  VISpm\n",
       "88    11.093362  VISpm\n",
       "\n",
       "[89 rows x 2 columns]"
      ]
     },
     "execution_count": 9,
     "metadata": {},
     "output_type": "execute_result"
    }
   ],
   "source": [
    "cell_vispm=vispm_features[['ef__avg_firing_rate','structure_parent__acronym']]\n",
    "cell_vispm.columns=['firing_rate','region']\n",
    "cell_vispm"
   ]
  },
  {
   "cell_type": "markdown",
   "metadata": {},
   "source": [
    "The VISp dataset contains VISpl, VISp, VISpm, and VISpor. Every row of data that contains VISpl, pm, and por must be deleted."
   ]
  },
  {
   "cell_type": "code",
   "execution_count": 10,
   "metadata": {},
   "outputs": [
    {
     "name": "stdout",
     "output_type": "stream",
     "text": [
      "['VISp']\n"
     ]
    }
   ],
   "source": [
    "visp_features = visp_features[visp_features['structure_parent__acronym']!= 'VISpl']\n",
    "visp_features = visp_features[visp_features['structure_parent__acronym']!= 'VISpm']\n",
    "visp_features = visp_features[visp_features['structure_parent__acronym']!= 'VISpor']\n",
    "\n",
    "#to make sure that they are removed:\n",
    "print(visp_features.structure_parent__acronym.unique())"
   ]
  },
  {
   "cell_type": "markdown",
   "metadata": {},
   "source": [
    "The two VISp and VISpm datasets can now be combined for later analysis."
   ]
  },
  {
   "cell_type": "code",
   "execution_count": 11,
   "metadata": {},
   "outputs": [
    {
     "data": {
      "text/html": [
       "<div>\n",
       "<style scoped>\n",
       "    .dataframe tbody tr th:only-of-type {\n",
       "        vertical-align: middle;\n",
       "    }\n",
       "\n",
       "    .dataframe tbody tr th {\n",
       "        vertical-align: top;\n",
       "    }\n",
       "\n",
       "    .dataframe thead th {\n",
       "        text-align: right;\n",
       "    }\n",
       "</style>\n",
       "<table border=\"1\" class=\"dataframe\">\n",
       "  <thead>\n",
       "    <tr style=\"text-align: right;\">\n",
       "      <th></th>\n",
       "      <th>ef__avg_firing_rate</th>\n",
       "      <th>ef__peak_t_ramp</th>\n",
       "      <th>ef__tau</th>\n",
       "      <th>ef__adaptation</th>\n",
       "      <th>structure_parent__acronym</th>\n",
       "    </tr>\n",
       "  </thead>\n",
       "  <tbody>\n",
       "    <tr>\n",
       "      <th>0</th>\n",
       "      <td>0.000000</td>\n",
       "      <td>14.737200</td>\n",
       "      <td>11.291090</td>\n",
       "      <td>0.000000</td>\n",
       "      <td>VISp</td>\n",
       "    </tr>\n",
       "    <tr>\n",
       "      <th>1</th>\n",
       "      <td>79.952029</td>\n",
       "      <td>11.763022</td>\n",
       "      <td>4.121689</td>\n",
       "      <td>0.000643</td>\n",
       "      <td>VISp</td>\n",
       "    </tr>\n",
       "    <tr>\n",
       "      <th>2</th>\n",
       "      <td>12.666099</td>\n",
       "      <td>8.423400</td>\n",
       "      <td>5.166574</td>\n",
       "      <td>-0.015098</td>\n",
       "      <td>VISp</td>\n",
       "    </tr>\n",
       "    <tr>\n",
       "      <th>3</th>\n",
       "      <td>17.890688</td>\n",
       "      <td>2.851312</td>\n",
       "      <td>20.567767</td>\n",
       "      <td>0.032340</td>\n",
       "      <td>VISp</td>\n",
       "    </tr>\n",
       "    <tr>\n",
       "      <th>4</th>\n",
       "      <td>10.611937</td>\n",
       "      <td>3.421542</td>\n",
       "      <td>23.182755</td>\n",
       "      <td>0.026732</td>\n",
       "      <td>VISp</td>\n",
       "    </tr>\n",
       "  </tbody>\n",
       "</table>\n",
       "</div>"
      ],
      "text/plain": [
       "   ef__avg_firing_rate  ef__peak_t_ramp    ef__tau  ef__adaptation  \\\n",
       "0             0.000000        14.737200  11.291090        0.000000   \n",
       "1            79.952029        11.763022   4.121689        0.000643   \n",
       "2            12.666099         8.423400   5.166574       -0.015098   \n",
       "3            17.890688         2.851312  20.567767        0.032340   \n",
       "4            10.611937         3.421542  23.182755        0.026732   \n",
       "\n",
       "  structure_parent__acronym  \n",
       "0                      VISp  \n",
       "1                      VISp  \n",
       "2                      VISp  \n",
       "3                      VISp  \n",
       "4                      VISp  "
      ]
     },
     "execution_count": 11,
     "metadata": {},
     "output_type": "execute_result"
    }
   ],
   "source": [
    "visp_and_m_features = pd.concat([visp_features, vispm_features],axis = 0)\n",
    "visp_and_m_features.head()\n"
   ]
  },
  {
   "cell_type": "markdown",
   "metadata": {},
   "source": [
    "Another dataset must be made for Cell Types VISp and VISpm data with only firing rate and structure acronym, to be used for analysis between both datasets. "
   ]
  },
  {
   "cell_type": "code",
   "execution_count": 12,
   "metadata": {},
   "outputs": [
    {
     "data": {
      "text/html": [
       "<div>\n",
       "<style scoped>\n",
       "    .dataframe tbody tr th:only-of-type {\n",
       "        vertical-align: middle;\n",
       "    }\n",
       "\n",
       "    .dataframe tbody tr th {\n",
       "        vertical-align: top;\n",
       "    }\n",
       "\n",
       "    .dataframe thead th {\n",
       "        text-align: right;\n",
       "    }\n",
       "</style>\n",
       "<table border=\"1\" class=\"dataframe\">\n",
       "  <thead>\n",
       "    <tr style=\"text-align: right;\">\n",
       "      <th></th>\n",
       "      <th>firing_rate</th>\n",
       "      <th>ecephys_structure_acronym</th>\n",
       "    </tr>\n",
       "  </thead>\n",
       "  <tbody>\n",
       "    <tr>\n",
       "      <th>0</th>\n",
       "      <td>0.000000</td>\n",
       "      <td>VISp</td>\n",
       "    </tr>\n",
       "    <tr>\n",
       "      <th>1</th>\n",
       "      <td>79.952029</td>\n",
       "      <td>VISp</td>\n",
       "    </tr>\n",
       "    <tr>\n",
       "      <th>2</th>\n",
       "      <td>12.666099</td>\n",
       "      <td>VISp</td>\n",
       "    </tr>\n",
       "    <tr>\n",
       "      <th>3</th>\n",
       "      <td>17.890688</td>\n",
       "      <td>VISp</td>\n",
       "    </tr>\n",
       "    <tr>\n",
       "      <th>4</th>\n",
       "      <td>10.611937</td>\n",
       "      <td>VISp</td>\n",
       "    </tr>\n",
       "  </tbody>\n",
       "</table>\n",
       "</div>"
      ],
      "text/plain": [
       "   firing_rate ecephys_structure_acronym\n",
       "0     0.000000                      VISp\n",
       "1    79.952029                      VISp\n",
       "2    12.666099                      VISp\n",
       "3    17.890688                      VISp\n",
       "4    10.611937                      VISp"
      ]
     },
     "execution_count": 12,
     "metadata": {},
     "output_type": "execute_result"
    }
   ],
   "source": [
    "cell_p = cell_type_VISp[['ef__avg_firing_rate']].fillna(0)\n",
    "cell_p['firing_rate'] = cell_p['ef__avg_firing_rate']\n",
    "cell_p = cell_p.drop(['ef__avg_firing_rate'],axis=1)\n",
    "cell_p['ecephys_structure_acronym'] = cell_type_VISp['structure_parent__acronym']\n",
    "cell_p.head()"
   ]
  },
  {
   "cell_type": "code",
   "execution_count": 13,
   "metadata": {},
   "outputs": [
    {
     "name": "stdout",
     "output_type": "stream",
     "text": [
      "['VISp']\n"
     ]
    }
   ],
   "source": [
    "#This dataset contains data from VISpm, VISpor, and VISpl neurons, which must be deleted so that only VISp data remains.\n",
    "cell_p = cell_p[cell_p['ecephys_structure_acronym']!= 'VISpl']\n",
    "cell_p = cell_p[cell_p['ecephys_structure_acronym']!= 'VISpm']\n",
    "cell_p = cell_p[cell_p['ecephys_structure_acronym']!= 'VISpor']\n",
    "print(cell_p.ecephys_structure_acronym.unique())"
   ]
  },
  {
   "cell_type": "code",
   "execution_count": 14,
   "metadata": {},
   "outputs": [
    {
     "data": {
      "text/html": [
       "<div>\n",
       "<style scoped>\n",
       "    .dataframe tbody tr th:only-of-type {\n",
       "        vertical-align: middle;\n",
       "    }\n",
       "\n",
       "    .dataframe tbody tr th {\n",
       "        vertical-align: top;\n",
       "    }\n",
       "\n",
       "    .dataframe thead th {\n",
       "        text-align: right;\n",
       "    }\n",
       "</style>\n",
       "<table border=\"1\" class=\"dataframe\">\n",
       "  <thead>\n",
       "    <tr style=\"text-align: right;\">\n",
       "      <th></th>\n",
       "      <th>firing_rate</th>\n",
       "      <th>ecephys_structure_acronym</th>\n",
       "    </tr>\n",
       "  </thead>\n",
       "  <tbody>\n",
       "    <tr>\n",
       "      <th>0</th>\n",
       "      <td>39.570967</td>\n",
       "      <td>VISpm</td>\n",
       "    </tr>\n",
       "    <tr>\n",
       "      <th>1</th>\n",
       "      <td>41.345379</td>\n",
       "      <td>VISpm</td>\n",
       "    </tr>\n",
       "    <tr>\n",
       "      <th>2</th>\n",
       "      <td>21.317416</td>\n",
       "      <td>VISpm</td>\n",
       "    </tr>\n",
       "    <tr>\n",
       "      <th>3</th>\n",
       "      <td>73.053430</td>\n",
       "      <td>VISpm</td>\n",
       "    </tr>\n",
       "    <tr>\n",
       "      <th>4</th>\n",
       "      <td>16.740791</td>\n",
       "      <td>VISpm</td>\n",
       "    </tr>\n",
       "  </tbody>\n",
       "</table>\n",
       "</div>"
      ],
      "text/plain": [
       "   firing_rate ecephys_structure_acronym\n",
       "0    39.570967                     VISpm\n",
       "1    41.345379                     VISpm\n",
       "2    21.317416                     VISpm\n",
       "3    73.053430                     VISpm\n",
       "4    16.740791                     VISpm"
      ]
     },
     "execution_count": 14,
     "metadata": {},
     "output_type": "execute_result"
    }
   ],
   "source": [
    "cell_pm = cell_type_VISpm[['ef__avg_firing_rate']].fillna(0)\n",
    "cell_pm['firing_rate'] = cell_pm['ef__avg_firing_rate']\n",
    "cell_pm = cell_pm.drop(['ef__avg_firing_rate'],axis=1)\n",
    "cell_pm['ecephys_structure_acronym'] = cell_type_VISpm['structure_parent__acronym']\n",
    "cell_pm.head()"
   ]
  },
  {
   "cell_type": "markdown",
   "metadata": {},
   "source": [
    "Creating an EphysProjectCache object for the Neuropixels data and retrieving all sessions."
   ]
  },
  {
   "cell_type": "code",
   "execution_count": 15,
   "metadata": {},
   "outputs": [
    {
     "name": "stdout",
     "output_type": "stream",
     "text": [
      "Total number of sessions: 58\n"
     ]
    },
    {
     "data": {
      "text/html": [
       "<div>\n",
       "<style scoped>\n",
       "    .dataframe tbody tr th:only-of-type {\n",
       "        vertical-align: middle;\n",
       "    }\n",
       "\n",
       "    .dataframe tbody tr th {\n",
       "        vertical-align: top;\n",
       "    }\n",
       "\n",
       "    .dataframe thead th {\n",
       "        text-align: right;\n",
       "    }\n",
       "</style>\n",
       "<table border=\"1\" class=\"dataframe\">\n",
       "  <thead>\n",
       "    <tr style=\"text-align: right;\">\n",
       "      <th></th>\n",
       "      <th>published_at</th>\n",
       "      <th>specimen_id</th>\n",
       "      <th>session_type</th>\n",
       "      <th>age_in_days</th>\n",
       "      <th>sex</th>\n",
       "      <th>full_genotype</th>\n",
       "      <th>unit_count</th>\n",
       "      <th>channel_count</th>\n",
       "      <th>probe_count</th>\n",
       "      <th>ecephys_structure_acronyms</th>\n",
       "    </tr>\n",
       "    <tr>\n",
       "      <th>id</th>\n",
       "      <th></th>\n",
       "      <th></th>\n",
       "      <th></th>\n",
       "      <th></th>\n",
       "      <th></th>\n",
       "      <th></th>\n",
       "      <th></th>\n",
       "      <th></th>\n",
       "      <th></th>\n",
       "      <th></th>\n",
       "    </tr>\n",
       "  </thead>\n",
       "  <tbody>\n",
       "    <tr>\n",
       "      <th>715093703</th>\n",
       "      <td>2019-10-03T00:00:00Z</td>\n",
       "      <td>699733581</td>\n",
       "      <td>brain_observatory_1.1</td>\n",
       "      <td>118.0</td>\n",
       "      <td>M</td>\n",
       "      <td>Sst-IRES-Cre/wt;Ai32(RCL-ChR2(H134R)_EYFP)/wt</td>\n",
       "      <td>884</td>\n",
       "      <td>2219</td>\n",
       "      <td>6</td>\n",
       "      <td>[CA1, VISrl, nan, PO, LP, LGd, CA3, DG, VISl, ...</td>\n",
       "    </tr>\n",
       "    <tr>\n",
       "      <th>719161530</th>\n",
       "      <td>2019-10-03T00:00:00Z</td>\n",
       "      <td>703279284</td>\n",
       "      <td>brain_observatory_1.1</td>\n",
       "      <td>122.0</td>\n",
       "      <td>M</td>\n",
       "      <td>Sst-IRES-Cre/wt;Ai32(RCL-ChR2(H134R)_EYFP)/wt</td>\n",
       "      <td>755</td>\n",
       "      <td>2214</td>\n",
       "      <td>6</td>\n",
       "      <td>[TH, Eth, APN, POL, LP, DG, CA1, VISpm, nan, N...</td>\n",
       "    </tr>\n",
       "    <tr>\n",
       "      <th>721123822</th>\n",
       "      <td>2019-10-03T00:00:00Z</td>\n",
       "      <td>707296982</td>\n",
       "      <td>brain_observatory_1.1</td>\n",
       "      <td>125.0</td>\n",
       "      <td>M</td>\n",
       "      <td>Pvalb-IRES-Cre/wt;Ai32(RCL-ChR2(H134R)_EYFP)/wt</td>\n",
       "      <td>444</td>\n",
       "      <td>2229</td>\n",
       "      <td>6</td>\n",
       "      <td>[MB, SCig, PPT, NOT, DG, CA1, VISam, nan, LP, ...</td>\n",
       "    </tr>\n",
       "    <tr>\n",
       "      <th>732592105</th>\n",
       "      <td>2019-10-03T00:00:00Z</td>\n",
       "      <td>717038288</td>\n",
       "      <td>brain_observatory_1.1</td>\n",
       "      <td>100.0</td>\n",
       "      <td>M</td>\n",
       "      <td>wt/wt</td>\n",
       "      <td>824</td>\n",
       "      <td>1847</td>\n",
       "      <td>5</td>\n",
       "      <td>[grey, VISpm, nan, VISp, VISl, VISal, VISrl]</td>\n",
       "    </tr>\n",
       "    <tr>\n",
       "      <th>737581020</th>\n",
       "      <td>2019-10-03T00:00:00Z</td>\n",
       "      <td>718643567</td>\n",
       "      <td>brain_observatory_1.1</td>\n",
       "      <td>108.0</td>\n",
       "      <td>M</td>\n",
       "      <td>wt/wt</td>\n",
       "      <td>568</td>\n",
       "      <td>2218</td>\n",
       "      <td>6</td>\n",
       "      <td>[grey, VISmma, nan, VISpm, VISp, VISl, VISrl]</td>\n",
       "    </tr>\n",
       "  </tbody>\n",
       "</table>\n",
       "</div>"
      ],
      "text/plain": [
       "                   published_at  specimen_id           session_type  \\\n",
       "id                                                                    \n",
       "715093703  2019-10-03T00:00:00Z    699733581  brain_observatory_1.1   \n",
       "719161530  2019-10-03T00:00:00Z    703279284  brain_observatory_1.1   \n",
       "721123822  2019-10-03T00:00:00Z    707296982  brain_observatory_1.1   \n",
       "732592105  2019-10-03T00:00:00Z    717038288  brain_observatory_1.1   \n",
       "737581020  2019-10-03T00:00:00Z    718643567  brain_observatory_1.1   \n",
       "\n",
       "           age_in_days sex                                    full_genotype  \\\n",
       "id                                                                            \n",
       "715093703        118.0   M    Sst-IRES-Cre/wt;Ai32(RCL-ChR2(H134R)_EYFP)/wt   \n",
       "719161530        122.0   M    Sst-IRES-Cre/wt;Ai32(RCL-ChR2(H134R)_EYFP)/wt   \n",
       "721123822        125.0   M  Pvalb-IRES-Cre/wt;Ai32(RCL-ChR2(H134R)_EYFP)/wt   \n",
       "732592105        100.0   M                                            wt/wt   \n",
       "737581020        108.0   M                                            wt/wt   \n",
       "\n",
       "           unit_count  channel_count  probe_count  \\\n",
       "id                                                  \n",
       "715093703         884           2219            6   \n",
       "719161530         755           2214            6   \n",
       "721123822         444           2229            6   \n",
       "732592105         824           1847            5   \n",
       "737581020         568           2218            6   \n",
       "\n",
       "                                  ecephys_structure_acronyms  \n",
       "id                                                            \n",
       "715093703  [CA1, VISrl, nan, PO, LP, LGd, CA3, DG, VISl, ...  \n",
       "719161530  [TH, Eth, APN, POL, LP, DG, CA1, VISpm, nan, N...  \n",
       "721123822  [MB, SCig, PPT, NOT, DG, CA1, VISam, nan, LP, ...  \n",
       "732592105       [grey, VISpm, nan, VISp, VISl, VISal, VISrl]  \n",
       "737581020      [grey, VISmma, nan, VISpm, VISp, VISl, VISrl]  "
      ]
     },
     "execution_count": 15,
     "metadata": {},
     "output_type": "execute_result"
    }
   ],
   "source": [
    "cache = EcephysProjectCache.fixed(manifest=manifest_path)\n",
    "sessions = cache.get_session_table()\n",
    "print('Total number of sessions: ' + str(len(sessions)))\n",
    "sessions.head()"
   ]
  },
  {
   "cell_type": "markdown",
   "metadata": {},
   "source": [
    "We are looking at experiments performed on a specific genotype Pvalb"
   ]
  },
  {
   "cell_type": "code",
   "execution_count": 16,
   "metadata": {},
   "outputs": [],
   "source": [
    "pvalb_sessions = sessions[sessions.full_genotype.str.match('Pvalb')]"
   ]
  },
  {
   "cell_type": "markdown",
   "metadata": {},
   "source": [
    "We select one of the above sessions to extract information about the optotagging stimuli that were delivered. We use session.optogenetic_stimulation_epochs to load a DataFrame that contains the information about the optotagging stimuli."
   ]
  },
  {
   "cell_type": "code",
   "execution_count": 69,
   "metadata": {},
   "outputs": [
    {
     "data": {
      "text/html": [
       "<div>\n",
       "<style scoped>\n",
       "    .dataframe tbody tr th:only-of-type {\n",
       "        vertical-align: middle;\n",
       "    }\n",
       "\n",
       "    .dataframe tbody tr th {\n",
       "        vertical-align: top;\n",
       "    }\n",
       "\n",
       "    .dataframe thead th {\n",
       "        text-align: right;\n",
       "    }\n",
       "</style>\n",
       "<table border=\"1\" class=\"dataframe\">\n",
       "  <thead>\n",
       "    <tr style=\"text-align: right;\">\n",
       "      <th></th>\n",
       "      <th>start_time</th>\n",
       "      <th>stop_time</th>\n",
       "      <th>condition</th>\n",
       "      <th>level</th>\n",
       "      <th>name</th>\n",
       "      <th>duration</th>\n",
       "    </tr>\n",
       "    <tr>\n",
       "      <th>id</th>\n",
       "      <th></th>\n",
       "      <th></th>\n",
       "      <th></th>\n",
       "      <th></th>\n",
       "      <th></th>\n",
       "      <th></th>\n",
       "    </tr>\n",
       "  </thead>\n",
       "  <tbody>\n",
       "    <tr>\n",
       "      <th>0</th>\n",
       "      <td>9224.96415</td>\n",
       "      <td>9224.97415</td>\n",
       "      <td>a single square pulse</td>\n",
       "      <td>2.5</td>\n",
       "      <td>pulse</td>\n",
       "      <td>0.01</td>\n",
       "    </tr>\n",
       "    <tr>\n",
       "      <th>1</th>\n",
       "      <td>9226.92424</td>\n",
       "      <td>9226.93424</td>\n",
       "      <td>a single square pulse</td>\n",
       "      <td>1.0</td>\n",
       "      <td>pulse</td>\n",
       "      <td>0.01</td>\n",
       "    </tr>\n",
       "    <tr>\n",
       "      <th>2</th>\n",
       "      <td>9229.04429</td>\n",
       "      <td>9230.04429</td>\n",
       "      <td>half-period of a cosine wave</td>\n",
       "      <td>2.5</td>\n",
       "      <td>raised_cosine</td>\n",
       "      <td>1.00</td>\n",
       "    </tr>\n",
       "    <tr>\n",
       "      <th>3</th>\n",
       "      <td>9231.02438</td>\n",
       "      <td>9232.02438</td>\n",
       "      <td>half-period of a cosine wave</td>\n",
       "      <td>1.0</td>\n",
       "      <td>raised_cosine</td>\n",
       "      <td>1.00</td>\n",
       "    </tr>\n",
       "    <tr>\n",
       "      <th>4</th>\n",
       "      <td>9233.01461</td>\n",
       "      <td>9233.02461</td>\n",
       "      <td>a single square pulse</td>\n",
       "      <td>2.5</td>\n",
       "      <td>pulse</td>\n",
       "      <td>0.01</td>\n",
       "    </tr>\n",
       "  </tbody>\n",
       "</table>\n",
       "</div>"
      ],
      "text/plain": [
       "    start_time   stop_time                     condition  level  \\\n",
       "id                                                                \n",
       "0   9224.96415  9224.97415         a single square pulse    2.5   \n",
       "1   9226.92424  9226.93424         a single square pulse    1.0   \n",
       "2   9229.04429  9230.04429  half-period of a cosine wave    2.5   \n",
       "3   9231.02438  9232.02438  half-period of a cosine wave    1.0   \n",
       "4   9233.01461  9233.02461         a single square pulse    2.5   \n",
       "\n",
       "             name  duration  \n",
       "id                           \n",
       "0           pulse      0.01  \n",
       "1           pulse      0.01  \n",
       "2   raised_cosine      1.00  \n",
       "3   raised_cosine      1.00  \n",
       "4           pulse      0.01  "
      ]
     },
     "execution_count": 69,
     "metadata": {},
     "output_type": "execute_result"
    }
   ],
   "source": [
    "session = cache.get_session_data(pvalb_sessions.index.values[2])\n",
    "session.optogenetic_stimulation_epochs.head()"
   ]
  },
  {
   "cell_type": "markdown",
   "metadata": {},
   "source": [
    "Under the stimulus condition of 10ms pulses, we align spikes in VISp to the start of each light pulse so that we can the average firing rate for each unit in VISp as a function of time."
   ]
  },
  {
   "cell_type": "code",
   "execution_count": 18,
   "metadata": {},
   "outputs": [],
   "source": [
    "trials = session.optogenetic_stimulation_epochs[(session.optogenetic_stimulation_epochs.duration > 0.009) & \\\n",
    "                                                (session.optogenetic_stimulation_epochs.duration < 0.02)]\n",
    "units1 = session.units[session.units.ecephys_structure_acronym.str.match('VISp')]\n",
    "#str.match gives us all the IDs that contain 'VISp', selecting only 'VISp' here\n",
    "units = units1[units1['ecephys_structure_acronym']=='VISp']\n",
    "units\n",
    "\n",
    "time_resolution = 0.0005 # 0.5 ms bins\n",
    "\n",
    "bin_edges = np.arange(-0.01, 0.025, time_resolution)\n",
    "\n",
    "def optotagging_spike_counts(bin_edges, trials, units):\n",
    "    \n",
    "    time_resolution = np.mean(np.diff(bin_edges))\n",
    "\n",
    "    spike_matrix = np.zeros( (len(trials), len(bin_edges), len(units)) )\n",
    "\n",
    "    for unit_idx, unit_id in enumerate(units.index.values):\n",
    "\n",
    "        spike_times = session.spike_times[unit_id]\n",
    "\n",
    "        for trial_idx, trial_start in enumerate(trials.start_time.values):\n",
    "\n",
    "            in_range = (spike_times > (trial_start + bin_edges[0])) * \\\n",
    "                       (spike_times < (trial_start + bin_edges[-1]))\n",
    "\n",
    "            binned_times = ((spike_times[in_range] - (trial_start + bin_edges[0])) / time_resolution).astype('int')\n",
    "            spike_matrix[trial_idx, binned_times, unit_idx] = 1\n",
    "\n",
    "    return xr.DataArray(\n",
    "        name='spike_counts',\n",
    "        data=spike_matrix,\n",
    "        coords={\n",
    "            'trial_id': trials.index.values,\n",
    "            'time_relative_to_stimulus_onset': bin_edges,\n",
    "            'unit_id': units.index.values\n",
    "        },\n",
    "        dims=['trial_id', 'time_relative_to_stimulus_onset', 'unit_id']\n",
    "    )\n",
    "\n",
    "da_visp = optotagging_spike_counts(bin_edges, trials, units)\n"
   ]
  },
  {
   "cell_type": "markdown",
   "metadata": {},
   "source": [
    "Selecting units in VISp that increase their firing rate during the 10 ms pulse"
   ]
  },
  {
   "cell_type": "code",
   "execution_count": 19,
   "metadata": {},
   "outputs": [],
   "source": [
    "baseline_visp = da_visp.sel(time_relative_to_stimulus_onset=slice(-0.01,-0.002))\n",
    "\n",
    "baseline_rate_visp = baseline_visp.sum(dim='time_relative_to_stimulus_onset').mean(dim='trial_id') / 0.008\n",
    "\n",
    "evoked_visp = da_visp.sel(time_relative_to_stimulus_onset=slice(0.001,0.009))\n",
    "\n",
    "evoked_rate_visp = evoked_visp.sum(dim='time_relative_to_stimulus_onset').mean(dim='trial_id') / 0.008"
   ]
  },
  {
   "cell_type": "markdown",
   "metadata": {},
   "source": [
    "Selecting a threshold: 2x increase in firing rate to find PV+ insterneurons in VISp"
   ]
  },
  {
   "cell_type": "code",
   "execution_count": 20,
   "metadata": {},
   "outputs": [
    {
     "data": {
      "text/plain": [
       "array([951851862, 951851916, 951851994, 951852233, 951852493, 951852577])"
      ]
     },
     "execution_count": 20,
     "metadata": {},
     "output_type": "execute_result"
    }
   ],
   "source": [
    "cre_pos_units_visp = da_visp.unit_id[(evoked_rate_visp / (baseline_rate_visp + 1)) > 2].values\n",
    "\n",
    "cre_pos_units_visp"
   ]
  },
  {
   "cell_type": "markdown",
   "metadata": {},
   "source": [
    "Adding a cell_type column to the VISp units dataset and assigning \"PV+\" or \"PV-\"to each VISp units"
   ]
  },
  {
   "cell_type": "code",
   "execution_count": 68,
   "metadata": {},
   "outputs": [
    {
     "data": {
      "text/html": [
       "<div>\n",
       "<style scoped>\n",
       "    .dataframe tbody tr th:only-of-type {\n",
       "        vertical-align: middle;\n",
       "    }\n",
       "\n",
       "    .dataframe tbody tr th {\n",
       "        vertical-align: top;\n",
       "    }\n",
       "\n",
       "    .dataframe thead th {\n",
       "        text-align: right;\n",
       "    }\n",
       "</style>\n",
       "<table border=\"1\" class=\"dataframe\">\n",
       "  <thead>\n",
       "    <tr style=\"text-align: right;\">\n",
       "      <th></th>\n",
       "      <th>waveform_duration</th>\n",
       "      <th>firing_rate</th>\n",
       "      <th>waveform_PT_ratio</th>\n",
       "      <th>d_prime</th>\n",
       "      <th>waveform_recovery_slope</th>\n",
       "      <th>waveform_velocity_below</th>\n",
       "      <th>presence_ratio</th>\n",
       "      <th>L_ratio</th>\n",
       "      <th>waveform_amplitude</th>\n",
       "      <th>max_drift</th>\n",
       "      <th>...</th>\n",
       "      <th>ecephys_structure_acronym</th>\n",
       "      <th>anterior_posterior_ccf_coordinate</th>\n",
       "      <th>dorsal_ventral_ccf_coordinate</th>\n",
       "      <th>left_right_ccf_coordinate</th>\n",
       "      <th>probe_description</th>\n",
       "      <th>location</th>\n",
       "      <th>probe_sampling_rate</th>\n",
       "      <th>probe_lfp_sampling_rate</th>\n",
       "      <th>probe_has_lfp_data</th>\n",
       "      <th>cell_type</th>\n",
       "    </tr>\n",
       "    <tr>\n",
       "      <th>unit_id</th>\n",
       "      <th></th>\n",
       "      <th></th>\n",
       "      <th></th>\n",
       "      <th></th>\n",
       "      <th></th>\n",
       "      <th></th>\n",
       "      <th></th>\n",
       "      <th></th>\n",
       "      <th></th>\n",
       "      <th></th>\n",
       "      <th></th>\n",
       "      <th></th>\n",
       "      <th></th>\n",
       "      <th></th>\n",
       "      <th></th>\n",
       "      <th></th>\n",
       "      <th></th>\n",
       "      <th></th>\n",
       "      <th></th>\n",
       "      <th></th>\n",
       "      <th></th>\n",
       "    </tr>\n",
       "  </thead>\n",
       "  <tbody>\n",
       "    <tr>\n",
       "      <th>951842332</th>\n",
       "      <td>0.315913</td>\n",
       "      <td>18.898412</td>\n",
       "      <td>0.790630</td>\n",
       "      <td>6.522781</td>\n",
       "      <td>-0.084343</td>\n",
       "      <td>0.392438</td>\n",
       "      <td>0.99</td>\n",
       "      <td>0.003595</td>\n",
       "      <td>98.587320</td>\n",
       "      <td>50.87</td>\n",
       "      <td>...</td>\n",
       "      <td>VISpm</td>\n",
       "      <td>7467</td>\n",
       "      <td>1300</td>\n",
       "      <td>7737</td>\n",
       "      <td>probeB</td>\n",
       "      <td></td>\n",
       "      <td>29999.916411</td>\n",
       "      <td>1249.996517</td>\n",
       "      <td>True</td>\n",
       "      <td>PV-</td>\n",
       "    </tr>\n",
       "    <tr>\n",
       "      <th>951842382</th>\n",
       "      <td>0.865327</td>\n",
       "      <td>3.090630</td>\n",
       "      <td>0.439941</td>\n",
       "      <td>3.012829</td>\n",
       "      <td>-0.009557</td>\n",
       "      <td>-0.412060</td>\n",
       "      <td>0.99</td>\n",
       "      <td>0.003020</td>\n",
       "      <td>52.860990</td>\n",
       "      <td>42.34</td>\n",
       "      <td>...</td>\n",
       "      <td>VISpm</td>\n",
       "      <td>7475</td>\n",
       "      <td>1167</td>\n",
       "      <td>7750</td>\n",
       "      <td>probeB</td>\n",
       "      <td></td>\n",
       "      <td>29999.916411</td>\n",
       "      <td>1249.996517</td>\n",
       "      <td>True</td>\n",
       "      <td>PV-</td>\n",
       "    </tr>\n",
       "    <tr>\n",
       "      <th>951842395</th>\n",
       "      <td>0.727973</td>\n",
       "      <td>1.357394</td>\n",
       "      <td>0.692553</td>\n",
       "      <td>3.901022</td>\n",
       "      <td>-0.017789</td>\n",
       "      <td>0.068677</td>\n",
       "      <td>0.99</td>\n",
       "      <td>0.012965</td>\n",
       "      <td>74.413755</td>\n",
       "      <td>43.20</td>\n",
       "      <td>...</td>\n",
       "      <td>VISpm</td>\n",
       "      <td>7476</td>\n",
       "      <td>1150</td>\n",
       "      <td>7751</td>\n",
       "      <td>probeB</td>\n",
       "      <td></td>\n",
       "      <td>29999.916411</td>\n",
       "      <td>1249.996517</td>\n",
       "      <td>True</td>\n",
       "      <td>PV-</td>\n",
       "    </tr>\n",
       "    <tr>\n",
       "      <th>951842379</th>\n",
       "      <td>0.741709</td>\n",
       "      <td>1.236169</td>\n",
       "      <td>0.863803</td>\n",
       "      <td>3.400814</td>\n",
       "      <td>-0.022361</td>\n",
       "      <td>0.000000</td>\n",
       "      <td>0.98</td>\n",
       "      <td>0.000261</td>\n",
       "      <td>101.024235</td>\n",
       "      <td>46.01</td>\n",
       "      <td>...</td>\n",
       "      <td>VISpm</td>\n",
       "      <td>7476</td>\n",
       "      <td>1158</td>\n",
       "      <td>7751</td>\n",
       "      <td>probeB</td>\n",
       "      <td></td>\n",
       "      <td>29999.916411</td>\n",
       "      <td>1249.996517</td>\n",
       "      <td>True</td>\n",
       "      <td>PV-</td>\n",
       "    </tr>\n",
       "    <tr>\n",
       "      <th>951843078</th>\n",
       "      <td>0.796650</td>\n",
       "      <td>2.880720</td>\n",
       "      <td>0.766510</td>\n",
       "      <td>3.490068</td>\n",
       "      <td>-0.025930</td>\n",
       "      <td>0.000000</td>\n",
       "      <td>0.99</td>\n",
       "      <td>0.004844</td>\n",
       "      <td>80.856945</td>\n",
       "      <td>28.32</td>\n",
       "      <td>...</td>\n",
       "      <td>VISpm</td>\n",
       "      <td>7477</td>\n",
       "      <td>1141</td>\n",
       "      <td>7751</td>\n",
       "      <td>probeB</td>\n",
       "      <td></td>\n",
       "      <td>29999.916411</td>\n",
       "      <td>1249.996517</td>\n",
       "      <td>True</td>\n",
       "      <td>PV-</td>\n",
       "    </tr>\n",
       "  </tbody>\n",
       "</table>\n",
       "<p>5 rows × 90 columns</p>\n",
       "</div>"
      ],
      "text/plain": [
       "           waveform_duration  firing_rate  waveform_PT_ratio   d_prime  \\\n",
       "unit_id                                                                  \n",
       "951842332           0.315913    18.898412           0.790630  6.522781   \n",
       "951842382           0.865327     3.090630           0.439941  3.012829   \n",
       "951842395           0.727973     1.357394           0.692553  3.901022   \n",
       "951842379           0.741709     1.236169           0.863803  3.400814   \n",
       "951843078           0.796650     2.880720           0.766510  3.490068   \n",
       "\n",
       "           waveform_recovery_slope  waveform_velocity_below  presence_ratio  \\\n",
       "unit_id                                                                       \n",
       "951842332                -0.084343                 0.392438            0.99   \n",
       "951842382                -0.009557                -0.412060            0.99   \n",
       "951842395                -0.017789                 0.068677            0.99   \n",
       "951842379                -0.022361                 0.000000            0.98   \n",
       "951843078                -0.025930                 0.000000            0.99   \n",
       "\n",
       "            L_ratio  waveform_amplitude  max_drift  ...  \\\n",
       "unit_id                                             ...   \n",
       "951842332  0.003595           98.587320      50.87  ...   \n",
       "951842382  0.003020           52.860990      42.34  ...   \n",
       "951842395  0.012965           74.413755      43.20  ...   \n",
       "951842379  0.000261          101.024235      46.01  ...   \n",
       "951843078  0.004844           80.856945      28.32  ...   \n",
       "\n",
       "           ecephys_structure_acronym  anterior_posterior_ccf_coordinate  \\\n",
       "unit_id                                                                   \n",
       "951842332                      VISpm                               7467   \n",
       "951842382                      VISpm                               7475   \n",
       "951842395                      VISpm                               7476   \n",
       "951842379                      VISpm                               7476   \n",
       "951843078                      VISpm                               7477   \n",
       "\n",
       "           dorsal_ventral_ccf_coordinate  left_right_ccf_coordinate  \\\n",
       "unit_id                                                               \n",
       "951842332                           1300                       7737   \n",
       "951842382                           1167                       7750   \n",
       "951842395                           1150                       7751   \n",
       "951842379                           1158                       7751   \n",
       "951843078                           1141                       7751   \n",
       "\n",
       "           probe_description  location  probe_sampling_rate  \\\n",
       "unit_id                                                       \n",
       "951842332             probeB                   29999.916411   \n",
       "951842382             probeB                   29999.916411   \n",
       "951842395             probeB                   29999.916411   \n",
       "951842379             probeB                   29999.916411   \n",
       "951843078             probeB                   29999.916411   \n",
       "\n",
       "           probe_lfp_sampling_rate  probe_has_lfp_data  cell_type  \n",
       "unit_id                                                            \n",
       "951842332              1249.996517                True        PV-  \n",
       "951842382              1249.996517                True        PV-  \n",
       "951842395              1249.996517                True        PV-  \n",
       "951842379              1249.996517                True        PV-  \n",
       "951843078              1249.996517                True        PV-  \n",
       "\n",
       "[5 rows x 90 columns]"
      ]
     },
     "execution_count": 68,
     "metadata": {},
     "output_type": "execute_result"
    }
   ],
   "source": [
    "cre_pos_units_visp=list(cre_pos_units_visp)\n",
    "df_visp_units=session.units[session.units.ecephys_structure_acronym.str.match('VISp')]\n",
    "df_visp_units_index = df_visp_units.index.values.tolist()\n",
    "df_visp_units['cell_type']=''\n",
    "id = df_visp_units.index.values.tolist()\n",
    "\n",
    "\n",
    "df_visp_units_rows = len(df_visp_units.axes[0])\n",
    "\n",
    "\n",
    "for i in range(df_visp_units_rows):\n",
    "    if id[i] in cre_pos_units_visp:\n",
    "        df_visp_units.at[id [i],'cell_type']='PV+'\n",
    "    else:\n",
    "        df_visp_units.at[id [i],'cell_type']='PV-'\n",
    "\n",
    "df_visp_units.head()"
   ]
  },
  {
   "cell_type": "markdown",
   "metadata": {},
   "source": [
    "Generating a dataframe with VISp neurons firing rate "
   ]
  },
  {
   "cell_type": "code",
   "execution_count": 22,
   "metadata": {},
   "outputs": [
    {
     "name": "stderr",
     "output_type": "stream",
     "text": [
      "/opt/conda/lib/python3.6/site-packages/ipykernel_launcher.py:2: SettingWithCopyWarning: \n",
      "A value is trying to be set on a copy of a slice from a DataFrame.\n",
      "Try using .loc[row_indexer,col_indexer] = value instead\n",
      "\n",
      "See the caveats in the documentation: http://pandas.pydata.org/pandas-docs/stable/user_guide/indexing.html#returning-a-view-versus-a-copy\n",
      "  \n"
     ]
    },
    {
     "data": {
      "text/html": [
       "<div>\n",
       "<style scoped>\n",
       "    .dataframe tbody tr th:only-of-type {\n",
       "        vertical-align: middle;\n",
       "    }\n",
       "\n",
       "    .dataframe tbody tr th {\n",
       "        vertical-align: top;\n",
       "    }\n",
       "\n",
       "    .dataframe thead th {\n",
       "        text-align: right;\n",
       "    }\n",
       "</style>\n",
       "<table border=\"1\" class=\"dataframe\">\n",
       "  <thead>\n",
       "    <tr style=\"text-align: right;\">\n",
       "      <th></th>\n",
       "      <th>firing_rate</th>\n",
       "      <th>region</th>\n",
       "    </tr>\n",
       "    <tr>\n",
       "      <th>unit_id</th>\n",
       "      <th></th>\n",
       "      <th></th>\n",
       "    </tr>\n",
       "  </thead>\n",
       "  <tbody>\n",
       "    <tr>\n",
       "      <th>951842332</th>\n",
       "      <td>18.898412</td>\n",
       "      <td>VISp</td>\n",
       "    </tr>\n",
       "    <tr>\n",
       "      <th>951842382</th>\n",
       "      <td>3.090630</td>\n",
       "      <td>VISp</td>\n",
       "    </tr>\n",
       "    <tr>\n",
       "      <th>951842395</th>\n",
       "      <td>1.357394</td>\n",
       "      <td>VISp</td>\n",
       "    </tr>\n",
       "    <tr>\n",
       "      <th>951842379</th>\n",
       "      <td>1.236169</td>\n",
       "      <td>VISp</td>\n",
       "    </tr>\n",
       "    <tr>\n",
       "      <th>951843078</th>\n",
       "      <td>2.880720</td>\n",
       "      <td>VISp</td>\n",
       "    </tr>\n",
       "    <tr>\n",
       "      <th>...</th>\n",
       "      <td>...</td>\n",
       "      <td>...</td>\n",
       "    </tr>\n",
       "    <tr>\n",
       "      <th>951852455</th>\n",
       "      <td>0.805628</td>\n",
       "      <td>VISp</td>\n",
       "    </tr>\n",
       "    <tr>\n",
       "      <th>951852509</th>\n",
       "      <td>1.997127</td>\n",
       "      <td>VISp</td>\n",
       "    </tr>\n",
       "    <tr>\n",
       "      <th>951852502</th>\n",
       "      <td>1.538178</td>\n",
       "      <td>VISp</td>\n",
       "    </tr>\n",
       "    <tr>\n",
       "      <th>951852493</th>\n",
       "      <td>2.496928</td>\n",
       "      <td>VISp</td>\n",
       "    </tr>\n",
       "    <tr>\n",
       "      <th>951852577</th>\n",
       "      <td>18.142854</td>\n",
       "      <td>VISp</td>\n",
       "    </tr>\n",
       "  </tbody>\n",
       "</table>\n",
       "<p>116 rows × 2 columns</p>\n",
       "</div>"
      ],
      "text/plain": [
       "           firing_rate region\n",
       "unit_id                      \n",
       "951842332    18.898412   VISp\n",
       "951842382     3.090630   VISp\n",
       "951842395     1.357394   VISp\n",
       "951842379     1.236169   VISp\n",
       "951843078     2.880720   VISp\n",
       "...                ...    ...\n",
       "951852455     0.805628   VISp\n",
       "951852509     1.997127   VISp\n",
       "951852502     1.538178   VISp\n",
       "951852493     2.496928   VISp\n",
       "951852577    18.142854   VISp\n",
       "\n",
       "[116 rows x 2 columns]"
      ]
     },
     "execution_count": 22,
     "metadata": {},
     "output_type": "execute_result"
    }
   ],
   "source": [
    "df_visp_firing_rate = df_visp_units[['firing_rate',]]\n",
    "df_visp_firing_rate['region']='VISp'\n",
    "df_visp_firing_rate.columns=['firing_rate','region']\n",
    "df_visp_firing_rate"
   ]
  },
  {
   "cell_type": "markdown",
   "metadata": {},
   "source": [
    "Under the stimulus condition of 10ms pulses, aligning spikes in VISpm to the start of each light pulse so that we can the average firing rate for each unit in VISpm as a function of time."
   ]
  },
  {
   "cell_type": "code",
   "execution_count": 23,
   "metadata": {},
   "outputs": [],
   "source": [
    "trials = session.optogenetic_stimulation_epochs[(session.optogenetic_stimulation_epochs.duration > 0.009) & \\\n",
    "                                                (session.optogenetic_stimulation_epochs.duration < 0.02)]\n",
    "\n",
    "units = session.units[session.units.ecephys_structure_acronym.str.match('VISpm')]\n",
    "\n",
    "time_resolution = 0.0005 # 0.5 ms bins\n",
    "\n",
    "bin_edges = np.arange(-0.01, 0.025, time_resolution)\n",
    "\n",
    "def optotagging_spike_counts(bin_edges, trials, units):\n",
    "    \n",
    "    time_resolution = np.mean(np.diff(bin_edges))\n",
    "\n",
    "    spike_matrix = np.zeros( (len(trials), len(bin_edges), len(units)) )\n",
    "\n",
    "    for unit_idx, unit_id in enumerate(units.index.values):\n",
    "\n",
    "        spike_times = session.spike_times[unit_id]\n",
    "\n",
    "        for trial_idx, trial_start in enumerate(trials.start_time.values):\n",
    "\n",
    "            in_range = (spike_times > (trial_start + bin_edges[0])) * \\\n",
    "                       (spike_times < (trial_start + bin_edges[-1]))\n",
    "\n",
    "            binned_times = ((spike_times[in_range] - (trial_start + bin_edges[0])) / time_resolution).astype('int')\n",
    "            spike_matrix[trial_idx, binned_times, unit_idx] = 1\n",
    "\n",
    "    return xr.DataArray(\n",
    "        name='spike_counts',\n",
    "        data=spike_matrix,\n",
    "        coords={\n",
    "            'trial_id': trials.index.values,\n",
    "            'time_relative_to_stimulus_onset': bin_edges,\n",
    "            'unit_id': units.index.values\n",
    "        },\n",
    "        dims=['trial_id', 'time_relative_to_stimulus_onset', 'unit_id']\n",
    "    )\n",
    "\n",
    "da_vispm = optotagging_spike_counts(bin_edges, trials, units)\n"
   ]
  },
  {
   "cell_type": "markdown",
   "metadata": {},
   "source": [
    "Selecting units in VISpm that increase their firing rate during the 10ms pulse "
   ]
  },
  {
   "cell_type": "code",
   "execution_count": 24,
   "metadata": {},
   "outputs": [],
   "source": [
    "baseline_vispm = da_vispm.sel(time_relative_to_stimulus_onset=slice(-0.01,-0.002))\n",
    "\n",
    "baseline_rate_vispm = baseline_vispm.sum(dim='time_relative_to_stimulus_onset').mean(dim='trial_id') / 0.008\n",
    "\n",
    "evoked_vispm = da_vispm.sel(time_relative_to_stimulus_onset=slice(0.001,0.009))\n",
    "\n",
    "evoked_rate_vispm = evoked_vispm.sum(dim='time_relative_to_stimulus_onset').mean(dim='trial_id') / 0.008"
   ]
  },
  {
   "cell_type": "markdown",
   "metadata": {},
   "source": [
    "Selecting a threshold: 2x increase in firing rate (red line) to find PV+ insterneurons in VISpm"
   ]
  },
  {
   "cell_type": "code",
   "execution_count": 25,
   "metadata": {},
   "outputs": [
    {
     "data": {
      "text/plain": [
       "array([951842502, 951842512, 951842680, 951842745, 951842935])"
      ]
     },
     "execution_count": 25,
     "metadata": {},
     "output_type": "execute_result"
    }
   ],
   "source": [
    "cre_pos_units_vispm = da_vispm.unit_id[(evoked_rate_vispm / (baseline_rate_vispm + 1)) > 2].values \n",
    "cre_pos_units_vispm"
   ]
  },
  {
   "cell_type": "markdown",
   "metadata": {},
   "source": [
    "Adding a cell_type column to the VISp units dataset and assigning \"PV+\" or \"PV-\"to each VISp units"
   ]
  },
  {
   "cell_type": "code",
   "execution_count": 63,
   "metadata": {},
   "outputs": [
    {
     "data": {
      "text/html": [
       "<div>\n",
       "<style scoped>\n",
       "    .dataframe tbody tr th:only-of-type {\n",
       "        vertical-align: middle;\n",
       "    }\n",
       "\n",
       "    .dataframe tbody tr th {\n",
       "        vertical-align: top;\n",
       "    }\n",
       "\n",
       "    .dataframe thead th {\n",
       "        text-align: right;\n",
       "    }\n",
       "</style>\n",
       "<table border=\"1\" class=\"dataframe\">\n",
       "  <thead>\n",
       "    <tr style=\"text-align: right;\">\n",
       "      <th></th>\n",
       "      <th>waveform_duration</th>\n",
       "      <th>firing_rate</th>\n",
       "      <th>waveform_PT_ratio</th>\n",
       "      <th>d_prime</th>\n",
       "      <th>waveform_recovery_slope</th>\n",
       "      <th>waveform_velocity_below</th>\n",
       "      <th>presence_ratio</th>\n",
       "      <th>L_ratio</th>\n",
       "      <th>waveform_amplitude</th>\n",
       "      <th>max_drift</th>\n",
       "      <th>...</th>\n",
       "      <th>ecephys_structure_acronym</th>\n",
       "      <th>anterior_posterior_ccf_coordinate</th>\n",
       "      <th>dorsal_ventral_ccf_coordinate</th>\n",
       "      <th>left_right_ccf_coordinate</th>\n",
       "      <th>probe_description</th>\n",
       "      <th>location</th>\n",
       "      <th>probe_sampling_rate</th>\n",
       "      <th>probe_lfp_sampling_rate</th>\n",
       "      <th>probe_has_lfp_data</th>\n",
       "      <th>cell_type</th>\n",
       "    </tr>\n",
       "    <tr>\n",
       "      <th>unit_id</th>\n",
       "      <th></th>\n",
       "      <th></th>\n",
       "      <th></th>\n",
       "      <th></th>\n",
       "      <th></th>\n",
       "      <th></th>\n",
       "      <th></th>\n",
       "      <th></th>\n",
       "      <th></th>\n",
       "      <th></th>\n",
       "      <th></th>\n",
       "      <th></th>\n",
       "      <th></th>\n",
       "      <th></th>\n",
       "      <th></th>\n",
       "      <th></th>\n",
       "      <th></th>\n",
       "      <th></th>\n",
       "      <th></th>\n",
       "      <th></th>\n",
       "      <th></th>\n",
       "    </tr>\n",
       "  </thead>\n",
       "  <tbody>\n",
       "    <tr>\n",
       "      <th>951842332</th>\n",
       "      <td>0.315913</td>\n",
       "      <td>18.898412</td>\n",
       "      <td>0.790630</td>\n",
       "      <td>6.522781</td>\n",
       "      <td>-0.084343</td>\n",
       "      <td>0.392438</td>\n",
       "      <td>0.99</td>\n",
       "      <td>0.003595</td>\n",
       "      <td>98.587320</td>\n",
       "      <td>50.87</td>\n",
       "      <td>...</td>\n",
       "      <td>VISpm</td>\n",
       "      <td>7467</td>\n",
       "      <td>1300</td>\n",
       "      <td>7737</td>\n",
       "      <td>probeB</td>\n",
       "      <td></td>\n",
       "      <td>29999.916411</td>\n",
       "      <td>1249.996517</td>\n",
       "      <td>True</td>\n",
       "      <td>PV-</td>\n",
       "    </tr>\n",
       "    <tr>\n",
       "      <th>951842382</th>\n",
       "      <td>0.865327</td>\n",
       "      <td>3.090630</td>\n",
       "      <td>0.439941</td>\n",
       "      <td>3.012829</td>\n",
       "      <td>-0.009557</td>\n",
       "      <td>-0.412060</td>\n",
       "      <td>0.99</td>\n",
       "      <td>0.003020</td>\n",
       "      <td>52.860990</td>\n",
       "      <td>42.34</td>\n",
       "      <td>...</td>\n",
       "      <td>VISpm</td>\n",
       "      <td>7475</td>\n",
       "      <td>1167</td>\n",
       "      <td>7750</td>\n",
       "      <td>probeB</td>\n",
       "      <td></td>\n",
       "      <td>29999.916411</td>\n",
       "      <td>1249.996517</td>\n",
       "      <td>True</td>\n",
       "      <td>PV-</td>\n",
       "    </tr>\n",
       "    <tr>\n",
       "      <th>951842395</th>\n",
       "      <td>0.727973</td>\n",
       "      <td>1.357394</td>\n",
       "      <td>0.692553</td>\n",
       "      <td>3.901022</td>\n",
       "      <td>-0.017789</td>\n",
       "      <td>0.068677</td>\n",
       "      <td>0.99</td>\n",
       "      <td>0.012965</td>\n",
       "      <td>74.413755</td>\n",
       "      <td>43.20</td>\n",
       "      <td>...</td>\n",
       "      <td>VISpm</td>\n",
       "      <td>7476</td>\n",
       "      <td>1150</td>\n",
       "      <td>7751</td>\n",
       "      <td>probeB</td>\n",
       "      <td></td>\n",
       "      <td>29999.916411</td>\n",
       "      <td>1249.996517</td>\n",
       "      <td>True</td>\n",
       "      <td>PV-</td>\n",
       "    </tr>\n",
       "    <tr>\n",
       "      <th>951842379</th>\n",
       "      <td>0.741709</td>\n",
       "      <td>1.236169</td>\n",
       "      <td>0.863803</td>\n",
       "      <td>3.400814</td>\n",
       "      <td>-0.022361</td>\n",
       "      <td>0.000000</td>\n",
       "      <td>0.98</td>\n",
       "      <td>0.000261</td>\n",
       "      <td>101.024235</td>\n",
       "      <td>46.01</td>\n",
       "      <td>...</td>\n",
       "      <td>VISpm</td>\n",
       "      <td>7476</td>\n",
       "      <td>1158</td>\n",
       "      <td>7751</td>\n",
       "      <td>probeB</td>\n",
       "      <td></td>\n",
       "      <td>29999.916411</td>\n",
       "      <td>1249.996517</td>\n",
       "      <td>True</td>\n",
       "      <td>PV-</td>\n",
       "    </tr>\n",
       "    <tr>\n",
       "      <th>951843078</th>\n",
       "      <td>0.796650</td>\n",
       "      <td>2.880720</td>\n",
       "      <td>0.766510</td>\n",
       "      <td>3.490068</td>\n",
       "      <td>-0.025930</td>\n",
       "      <td>0.000000</td>\n",
       "      <td>0.99</td>\n",
       "      <td>0.004844</td>\n",
       "      <td>80.856945</td>\n",
       "      <td>28.32</td>\n",
       "      <td>...</td>\n",
       "      <td>VISpm</td>\n",
       "      <td>7477</td>\n",
       "      <td>1141</td>\n",
       "      <td>7751</td>\n",
       "      <td>probeB</td>\n",
       "      <td></td>\n",
       "      <td>29999.916411</td>\n",
       "      <td>1249.996517</td>\n",
       "      <td>True</td>\n",
       "      <td>PV-</td>\n",
       "    </tr>\n",
       "  </tbody>\n",
       "</table>\n",
       "<p>5 rows × 90 columns</p>\n",
       "</div>"
      ],
      "text/plain": [
       "           waveform_duration  firing_rate  waveform_PT_ratio   d_prime  \\\n",
       "unit_id                                                                  \n",
       "951842332           0.315913    18.898412           0.790630  6.522781   \n",
       "951842382           0.865327     3.090630           0.439941  3.012829   \n",
       "951842395           0.727973     1.357394           0.692553  3.901022   \n",
       "951842379           0.741709     1.236169           0.863803  3.400814   \n",
       "951843078           0.796650     2.880720           0.766510  3.490068   \n",
       "\n",
       "           waveform_recovery_slope  waveform_velocity_below  presence_ratio  \\\n",
       "unit_id                                                                       \n",
       "951842332                -0.084343                 0.392438            0.99   \n",
       "951842382                -0.009557                -0.412060            0.99   \n",
       "951842395                -0.017789                 0.068677            0.99   \n",
       "951842379                -0.022361                 0.000000            0.98   \n",
       "951843078                -0.025930                 0.000000            0.99   \n",
       "\n",
       "            L_ratio  waveform_amplitude  max_drift  ...  \\\n",
       "unit_id                                             ...   \n",
       "951842332  0.003595           98.587320      50.87  ...   \n",
       "951842382  0.003020           52.860990      42.34  ...   \n",
       "951842395  0.012965           74.413755      43.20  ...   \n",
       "951842379  0.000261          101.024235      46.01  ...   \n",
       "951843078  0.004844           80.856945      28.32  ...   \n",
       "\n",
       "           ecephys_structure_acronym  anterior_posterior_ccf_coordinate  \\\n",
       "unit_id                                                                   \n",
       "951842332                      VISpm                               7467   \n",
       "951842382                      VISpm                               7475   \n",
       "951842395                      VISpm                               7476   \n",
       "951842379                      VISpm                               7476   \n",
       "951843078                      VISpm                               7477   \n",
       "\n",
       "           dorsal_ventral_ccf_coordinate  left_right_ccf_coordinate  \\\n",
       "unit_id                                                               \n",
       "951842332                           1300                       7737   \n",
       "951842382                           1167                       7750   \n",
       "951842395                           1150                       7751   \n",
       "951842379                           1158                       7751   \n",
       "951843078                           1141                       7751   \n",
       "\n",
       "           probe_description  location  probe_sampling_rate  \\\n",
       "unit_id                                                       \n",
       "951842332             probeB                   29999.916411   \n",
       "951842382             probeB                   29999.916411   \n",
       "951842395             probeB                   29999.916411   \n",
       "951842379             probeB                   29999.916411   \n",
       "951843078             probeB                   29999.916411   \n",
       "\n",
       "           probe_lfp_sampling_rate  probe_has_lfp_data  cell_type  \n",
       "unit_id                                                            \n",
       "951842332              1249.996517                True        PV-  \n",
       "951842382              1249.996517                True        PV-  \n",
       "951842395              1249.996517                True        PV-  \n",
       "951842379              1249.996517                True        PV-  \n",
       "951843078              1249.996517                True        PV-  \n",
       "\n",
       "[5 rows x 90 columns]"
      ]
     },
     "execution_count": 63,
     "metadata": {},
     "output_type": "execute_result"
    }
   ],
   "source": [
    "df_vispm_units=session.units[session.units.ecephys_structure_acronym.str.match('VISpm')]\n",
    "df_vispm_units['cell_type']=''\n",
    "cre_pos_units_vispm=list(cre_pos_units_vispm)\n",
    "df_vispm_units_index = df_vispm_units.index.values.tolist()\n",
    "id = df_vispm_units.index.values.tolist()\n",
    "\n",
    "\n",
    "df_vispm_units_rows = len(df_vispm_units.axes[0])\n",
    "\n",
    "\n",
    "for i in range(df_vispm_units_rows):\n",
    "    if id[i] in cre_pos_units_vispm:\n",
    "        df_vispm_units.at[id [i],'cell_type']='PV+'\n",
    "    else:\n",
    "        df_vispm_units.at[id [i],'cell_type']='PV-'\n",
    "\n",
    "df_vispm_units.head()"
   ]
  },
  {
   "cell_type": "markdown",
   "metadata": {},
   "source": [
    "Generating a dataframe with VISpm neurons firing rate "
   ]
  },
  {
   "cell_type": "code",
   "execution_count": 64,
   "metadata": {},
   "outputs": [
    {
     "name": "stderr",
     "output_type": "stream",
     "text": [
      "/opt/conda/lib/python3.6/site-packages/ipykernel_launcher.py:2: SettingWithCopyWarning: \n",
      "A value is trying to be set on a copy of a slice from a DataFrame.\n",
      "Try using .loc[row_indexer,col_indexer] = value instead\n",
      "\n",
      "See the caveats in the documentation: http://pandas.pydata.org/pandas-docs/stable/user_guide/indexing.html#returning-a-view-versus-a-copy\n",
      "  \n"
     ]
    },
    {
     "data": {
      "text/html": [
       "<div>\n",
       "<style scoped>\n",
       "    .dataframe tbody tr th:only-of-type {\n",
       "        vertical-align: middle;\n",
       "    }\n",
       "\n",
       "    .dataframe tbody tr th {\n",
       "        vertical-align: top;\n",
       "    }\n",
       "\n",
       "    .dataframe thead th {\n",
       "        text-align: right;\n",
       "    }\n",
       "</style>\n",
       "<table border=\"1\" class=\"dataframe\">\n",
       "  <thead>\n",
       "    <tr style=\"text-align: right;\">\n",
       "      <th></th>\n",
       "      <th>firing_rate</th>\n",
       "      <th>region</th>\n",
       "    </tr>\n",
       "    <tr>\n",
       "      <th>unit_id</th>\n",
       "      <th></th>\n",
       "      <th></th>\n",
       "    </tr>\n",
       "  </thead>\n",
       "  <tbody>\n",
       "    <tr>\n",
       "      <th>951842332</th>\n",
       "      <td>18.898412</td>\n",
       "      <td>VISpm</td>\n",
       "    </tr>\n",
       "    <tr>\n",
       "      <th>951842382</th>\n",
       "      <td>3.090630</td>\n",
       "      <td>VISpm</td>\n",
       "    </tr>\n",
       "    <tr>\n",
       "      <th>951842395</th>\n",
       "      <td>1.357394</td>\n",
       "      <td>VISpm</td>\n",
       "    </tr>\n",
       "    <tr>\n",
       "      <th>951842379</th>\n",
       "      <td>1.236169</td>\n",
       "      <td>VISpm</td>\n",
       "    </tr>\n",
       "    <tr>\n",
       "      <th>951843078</th>\n",
       "      <td>2.880720</td>\n",
       "      <td>VISpm</td>\n",
       "    </tr>\n",
       "  </tbody>\n",
       "</table>\n",
       "</div>"
      ],
      "text/plain": [
       "           firing_rate region\n",
       "unit_id                      \n",
       "951842332    18.898412  VISpm\n",
       "951842382     3.090630  VISpm\n",
       "951842395     1.357394  VISpm\n",
       "951842379     1.236169  VISpm\n",
       "951843078     2.880720  VISpm"
      ]
     },
     "execution_count": 64,
     "metadata": {},
     "output_type": "execute_result"
    }
   ],
   "source": [
    "df_vispm_firing_rate = df_vispm_units[['firing_rate']]\n",
    "df_vispm_firing_rate['region']='VISpm'\n",
    "df_vispm_firing_rate.columns=['firing_rate','region']\n",
    "df_vispm_firing_rate.head()"
   ]
  },
  {
   "cell_type": "markdown",
   "metadata": {},
   "source": [
    "Combining cell_visp and df_visp_firing_rate to have a data frame that has VISp neuron firing rate from both Allen Brain Cell Type and Neuropixels datasets."
   ]
  },
  {
   "cell_type": "code",
   "execution_count": 28,
   "metadata": {},
   "outputs": [],
   "source": [
    "frames_visp = [cell_visp, df_visp_firing_rate]\n",
    "merged_visp= pd.concat(frames_visp)"
   ]
  },
  {
   "cell_type": "markdown",
   "metadata": {},
   "source": [
    "Combining cell_vispm and df_vispm_firing_rate to have a data frame that has VISpm neuron firing rate from both Allen Brain Cell Type and Neuropixels datasets."
   ]
  },
  {
   "cell_type": "code",
   "execution_count": 29,
   "metadata": {},
   "outputs": [],
   "source": [
    "frames_vispm = [cell_vispm, df_vispm_firing_rate]\n",
    "merged_vispm = pd.concat(frames_vispm)"
   ]
  },
  {
   "cell_type": "markdown",
   "metadata": {},
   "source": [
    "VISp and VISpm neurons firing rate means and standard deviations"
   ]
  },
  {
   "cell_type": "code",
   "execution_count": 30,
   "metadata": {},
   "outputs": [
    {
     "name": "stdout",
     "output_type": "stream",
     "text": [
      "27.19603871701781\n",
      "32.552366354086296\n",
      "23.8600511884674\n",
      "30.81126847909443\n"
     ]
    }
   ],
   "source": [
    "means_visp =merged_visp['firing_rate'].mean()\n",
    "std_visp = merged_visp['firing_rate'].std()\n",
    "means_vispm =merged_vispm['firing_rate'].mean()\n",
    "std_vispm = merged_vispm['firing_rate'].std()\n",
    "\n",
    "print (means_visp)\n",
    "print (std_visp)\n",
    "print (means_vispm)\n",
    "print (std_vispm)"
   ]
  },
  {
   "cell_type": "markdown",
   "metadata": {},
   "source": [
    "Generating a dataframe with firing rate and cell type from Neuropixels VISp neurons"
   ]
  },
  {
   "cell_type": "code",
   "execution_count": 31,
   "metadata": {},
   "outputs": [
    {
     "data": {
      "text/html": [
       "<div>\n",
       "<style scoped>\n",
       "    .dataframe tbody tr th:only-of-type {\n",
       "        vertical-align: middle;\n",
       "    }\n",
       "\n",
       "    .dataframe tbody tr th {\n",
       "        vertical-align: top;\n",
       "    }\n",
       "\n",
       "    .dataframe thead th {\n",
       "        text-align: right;\n",
       "    }\n",
       "</style>\n",
       "<table border=\"1\" class=\"dataframe\">\n",
       "  <thead>\n",
       "    <tr style=\"text-align: right;\">\n",
       "      <th></th>\n",
       "      <th>firing_rate</th>\n",
       "      <th>cell_type</th>\n",
       "      <th>ecephys_structure_acronym</th>\n",
       "    </tr>\n",
       "    <tr>\n",
       "      <th>unit_id</th>\n",
       "      <th></th>\n",
       "      <th></th>\n",
       "      <th></th>\n",
       "    </tr>\n",
       "  </thead>\n",
       "  <tbody>\n",
       "    <tr>\n",
       "      <th>951851095</th>\n",
       "      <td>6.778089</td>\n",
       "      <td>PV-</td>\n",
       "      <td>VISp</td>\n",
       "    </tr>\n",
       "    <tr>\n",
       "      <th>951851008</th>\n",
       "      <td>6.172256</td>\n",
       "      <td>PV-</td>\n",
       "      <td>VISp</td>\n",
       "    </tr>\n",
       "    <tr>\n",
       "      <th>951851120</th>\n",
       "      <td>2.274263</td>\n",
       "      <td>PV-</td>\n",
       "      <td>VISp</td>\n",
       "    </tr>\n",
       "    <tr>\n",
       "      <th>951851233</th>\n",
       "      <td>2.042762</td>\n",
       "      <td>PV-</td>\n",
       "      <td>VISp</td>\n",
       "    </tr>\n",
       "    <tr>\n",
       "      <th>951851300</th>\n",
       "      <td>1.929454</td>\n",
       "      <td>PV-</td>\n",
       "      <td>VISp</td>\n",
       "    </tr>\n",
       "  </tbody>\n",
       "</table>\n",
       "</div>"
      ],
      "text/plain": [
       "           firing_rate cell_type ecephys_structure_acronym\n",
       "unit_id                                                   \n",
       "951851095     6.778089       PV-                      VISp\n",
       "951851008     6.172256       PV-                      VISp\n",
       "951851120     2.274263       PV-                      VISp\n",
       "951851233     2.042762       PV-                      VISp\n",
       "951851300     1.929454       PV-                      VISp"
      ]
     },
     "execution_count": 31,
     "metadata": {},
     "output_type": "execute_result"
    }
   ],
   "source": [
    "pixels_p = df_visp_units[['firing_rate', 'cell_type', 'ecephys_structure_acronym']]\n",
    "pixels_p = pixels_p[pixels_p['ecephys_structure_acronym'] != 'VISpm']\n",
    "pixels_p.head()"
   ]
  },
  {
   "cell_type": "markdown",
   "metadata": {},
   "source": [
    "Generating a dataframe with firing rate and cell type from Neuropixels VISpm neurons"
   ]
  },
  {
   "cell_type": "code",
   "execution_count": 32,
   "metadata": {},
   "outputs": [
    {
     "data": {
      "text/html": [
       "<div>\n",
       "<style scoped>\n",
       "    .dataframe tbody tr th:only-of-type {\n",
       "        vertical-align: middle;\n",
       "    }\n",
       "\n",
       "    .dataframe tbody tr th {\n",
       "        vertical-align: top;\n",
       "    }\n",
       "\n",
       "    .dataframe thead th {\n",
       "        text-align: right;\n",
       "    }\n",
       "</style>\n",
       "<table border=\"1\" class=\"dataframe\">\n",
       "  <thead>\n",
       "    <tr style=\"text-align: right;\">\n",
       "      <th></th>\n",
       "      <th>firing_rate</th>\n",
       "      <th>cell_type</th>\n",
       "      <th>ecephys_structure_acronym</th>\n",
       "    </tr>\n",
       "    <tr>\n",
       "      <th>unit_id</th>\n",
       "      <th></th>\n",
       "      <th></th>\n",
       "      <th></th>\n",
       "    </tr>\n",
       "  </thead>\n",
       "  <tbody>\n",
       "    <tr>\n",
       "      <th>951842332</th>\n",
       "      <td>18.898412</td>\n",
       "      <td>PV-</td>\n",
       "      <td>VISpm</td>\n",
       "    </tr>\n",
       "    <tr>\n",
       "      <th>951842382</th>\n",
       "      <td>3.090630</td>\n",
       "      <td>PV-</td>\n",
       "      <td>VISpm</td>\n",
       "    </tr>\n",
       "    <tr>\n",
       "      <th>951842395</th>\n",
       "      <td>1.357394</td>\n",
       "      <td>PV-</td>\n",
       "      <td>VISpm</td>\n",
       "    </tr>\n",
       "    <tr>\n",
       "      <th>951842379</th>\n",
       "      <td>1.236169</td>\n",
       "      <td>PV-</td>\n",
       "      <td>VISpm</td>\n",
       "    </tr>\n",
       "    <tr>\n",
       "      <th>951843078</th>\n",
       "      <td>2.880720</td>\n",
       "      <td>PV-</td>\n",
       "      <td>VISpm</td>\n",
       "    </tr>\n",
       "  </tbody>\n",
       "</table>\n",
       "</div>"
      ],
      "text/plain": [
       "           firing_rate cell_type ecephys_structure_acronym\n",
       "unit_id                                                   \n",
       "951842332    18.898412       PV-                     VISpm\n",
       "951842382     3.090630       PV-                     VISpm\n",
       "951842395     1.357394       PV-                     VISpm\n",
       "951842379     1.236169       PV-                     VISpm\n",
       "951843078     2.880720       PV-                     VISpm"
      ]
     },
     "execution_count": 32,
     "metadata": {},
     "output_type": "execute_result"
    }
   ],
   "source": [
    "pixels_pm = df_vispm_units[['firing_rate', 'cell_type', 'ecephys_structure_acronym']]\n",
    "pixels_pm.head()"
   ]
  },
  {
   "cell_type": "markdown",
   "metadata": {},
   "source": [
    "Combining the two dataframes "
   ]
  },
  {
   "cell_type": "code",
   "execution_count": 65,
   "metadata": {},
   "outputs": [
    {
     "data": {
      "text/html": [
       "<div>\n",
       "<style scoped>\n",
       "    .dataframe tbody tr th:only-of-type {\n",
       "        vertical-align: middle;\n",
       "    }\n",
       "\n",
       "    .dataframe tbody tr th {\n",
       "        vertical-align: top;\n",
       "    }\n",
       "\n",
       "    .dataframe thead th {\n",
       "        text-align: right;\n",
       "    }\n",
       "</style>\n",
       "<table border=\"1\" class=\"dataframe\">\n",
       "  <thead>\n",
       "    <tr style=\"text-align: right;\">\n",
       "      <th></th>\n",
       "      <th>firing_rate</th>\n",
       "      <th>cell_type</th>\n",
       "      <th>ecephys_structure_acronym</th>\n",
       "    </tr>\n",
       "    <tr>\n",
       "      <th>unit_id</th>\n",
       "      <th></th>\n",
       "      <th></th>\n",
       "      <th></th>\n",
       "    </tr>\n",
       "  </thead>\n",
       "  <tbody>\n",
       "    <tr>\n",
       "      <th>951851095</th>\n",
       "      <td>6.778089</td>\n",
       "      <td>PV-</td>\n",
       "      <td>VISp</td>\n",
       "    </tr>\n",
       "    <tr>\n",
       "      <th>951851008</th>\n",
       "      <td>6.172256</td>\n",
       "      <td>PV-</td>\n",
       "      <td>VISp</td>\n",
       "    </tr>\n",
       "    <tr>\n",
       "      <th>951851120</th>\n",
       "      <td>2.274263</td>\n",
       "      <td>PV-</td>\n",
       "      <td>VISp</td>\n",
       "    </tr>\n",
       "    <tr>\n",
       "      <th>951851233</th>\n",
       "      <td>2.042762</td>\n",
       "      <td>PV-</td>\n",
       "      <td>VISp</td>\n",
       "    </tr>\n",
       "    <tr>\n",
       "      <th>951851300</th>\n",
       "      <td>1.929454</td>\n",
       "      <td>PV-</td>\n",
       "      <td>VISp</td>\n",
       "    </tr>\n",
       "  </tbody>\n",
       "</table>\n",
       "</div>"
      ],
      "text/plain": [
       "           firing_rate cell_type ecephys_structure_acronym\n",
       "unit_id                                                   \n",
       "951851095     6.778089       PV-                      VISp\n",
       "951851008     6.172256       PV-                      VISp\n",
       "951851120     2.274263       PV-                      VISp\n",
       "951851233     2.042762       PV-                      VISp\n",
       "951851300     1.929454       PV-                      VISp"
      ]
     },
     "execution_count": 65,
     "metadata": {},
     "output_type": "execute_result"
    }
   ],
   "source": [
    "both_pixels = pd.concat([pixels_p, pixels_pm],axis=0)\n",
    "both_pixels.head()"
   ]
  },
  {
   "cell_type": "markdown",
   "metadata": {},
   "source": [
    "Adding a cell_type column to cell_p and cell_pm dataframes. Assigning 0 to the cell_type column for both dataframes. Combine the two dataframes as both_cells"
   ]
  },
  {
   "cell_type": "code",
   "execution_count": 66,
   "metadata": {},
   "outputs": [
    {
     "data": {
      "text/html": [
       "<div>\n",
       "<style scoped>\n",
       "    .dataframe tbody tr th:only-of-type {\n",
       "        vertical-align: middle;\n",
       "    }\n",
       "\n",
       "    .dataframe tbody tr th {\n",
       "        vertical-align: top;\n",
       "    }\n",
       "\n",
       "    .dataframe thead th {\n",
       "        text-align: right;\n",
       "    }\n",
       "</style>\n",
       "<table border=\"1\" class=\"dataframe\">\n",
       "  <thead>\n",
       "    <tr style=\"text-align: right;\">\n",
       "      <th></th>\n",
       "      <th>firing_rate</th>\n",
       "      <th>ecephys_structure_acronym</th>\n",
       "      <th>cell_type</th>\n",
       "    </tr>\n",
       "  </thead>\n",
       "  <tbody>\n",
       "    <tr>\n",
       "      <th>0</th>\n",
       "      <td>0.000000</td>\n",
       "      <td>VISp</td>\n",
       "      <td>0</td>\n",
       "    </tr>\n",
       "    <tr>\n",
       "      <th>1</th>\n",
       "      <td>79.952029</td>\n",
       "      <td>VISp</td>\n",
       "      <td>0</td>\n",
       "    </tr>\n",
       "    <tr>\n",
       "      <th>2</th>\n",
       "      <td>12.666099</td>\n",
       "      <td>VISp</td>\n",
       "      <td>0</td>\n",
       "    </tr>\n",
       "    <tr>\n",
       "      <th>3</th>\n",
       "      <td>17.890688</td>\n",
       "      <td>VISp</td>\n",
       "      <td>0</td>\n",
       "    </tr>\n",
       "    <tr>\n",
       "      <th>4</th>\n",
       "      <td>10.611937</td>\n",
       "      <td>VISp</td>\n",
       "      <td>0</td>\n",
       "    </tr>\n",
       "  </tbody>\n",
       "</table>\n",
       "</div>"
      ],
      "text/plain": [
       "   firing_rate ecephys_structure_acronym  cell_type\n",
       "0     0.000000                      VISp          0\n",
       "1    79.952029                      VISp          0\n",
       "2    12.666099                      VISp          0\n",
       "3    17.890688                      VISp          0\n",
       "4    10.611937                      VISp          0"
      ]
     },
     "execution_count": 66,
     "metadata": {},
     "output_type": "execute_result"
    }
   ],
   "source": [
    "cell_p['cell_type'] = 0\n",
    "cell_pm['cell_type'] = 0\n",
    "both_pixels = both_pixels.reindex(columns=['firing_rate', 'ecephys_structure_acronym', 'cell_type'])\n",
    "both_cells = pd.concat([cell_p,cell_pm],axis=0)\n",
    "both_cells.head()"
   ]
  },
  {
   "cell_type": "markdown",
   "metadata": {},
   "source": [
    "Combining the two datasets from Neuropixels and Allen Brain Cell Type: both_pixels and both_cells "
   ]
  },
  {
   "cell_type": "code",
   "execution_count": 67,
   "metadata": {},
   "outputs": [
    {
     "data": {
      "text/html": [
       "<div>\n",
       "<style scoped>\n",
       "    .dataframe tbody tr th:only-of-type {\n",
       "        vertical-align: middle;\n",
       "    }\n",
       "\n",
       "    .dataframe tbody tr th {\n",
       "        vertical-align: top;\n",
       "    }\n",
       "\n",
       "    .dataframe thead th {\n",
       "        text-align: right;\n",
       "    }\n",
       "</style>\n",
       "<table border=\"1\" class=\"dataframe\">\n",
       "  <thead>\n",
       "    <tr style=\"text-align: right;\">\n",
       "      <th></th>\n",
       "      <th>firing_rate</th>\n",
       "      <th>ecephys_structure_acronym</th>\n",
       "      <th>cell_type</th>\n",
       "    </tr>\n",
       "  </thead>\n",
       "  <tbody>\n",
       "    <tr>\n",
       "      <th>951851095</th>\n",
       "      <td>6.778089</td>\n",
       "      <td>VISp</td>\n",
       "      <td>PV-</td>\n",
       "    </tr>\n",
       "    <tr>\n",
       "      <th>951851008</th>\n",
       "      <td>6.172256</td>\n",
       "      <td>VISp</td>\n",
       "      <td>PV-</td>\n",
       "    </tr>\n",
       "    <tr>\n",
       "      <th>951851120</th>\n",
       "      <td>2.274263</td>\n",
       "      <td>VISp</td>\n",
       "      <td>PV-</td>\n",
       "    </tr>\n",
       "    <tr>\n",
       "      <th>951851233</th>\n",
       "      <td>2.042762</td>\n",
       "      <td>VISp</td>\n",
       "      <td>PV-</td>\n",
       "    </tr>\n",
       "    <tr>\n",
       "      <th>951851300</th>\n",
       "      <td>1.929454</td>\n",
       "      <td>VISp</td>\n",
       "      <td>PV-</td>\n",
       "    </tr>\n",
       "  </tbody>\n",
       "</table>\n",
       "</div>"
      ],
      "text/plain": [
       "           firing_rate ecephys_structure_acronym cell_type\n",
       "951851095     6.778089                      VISp       PV-\n",
       "951851008     6.172256                      VISp       PV-\n",
       "951851120     2.274263                      VISp       PV-\n",
       "951851233     2.042762                      VISp       PV-\n",
       "951851300     1.929454                      VISp       PV-"
      ]
     },
     "execution_count": 67,
     "metadata": {},
     "output_type": "execute_result"
    }
   ],
   "source": [
    "neuropix_and_celltypes = pd.concat([both_pixels, both_cells], axis = 0)\n",
    "neuropix_and_celltypes.head()"
   ]
  },
  {
   "cell_type": "markdown",
   "metadata": {},
   "source": [
    "Creating a new dataset to combine both Neuropixel and Cell Types data, with another column specifying which dataset the data is from."
   ]
  },
  {
   "cell_type": "code",
   "execution_count": 36,
   "metadata": {},
   "outputs": [],
   "source": [
    "specific_both_cells = both_cells['dataset'] = 'Cell Types'\n",
    "specific_both_pixels = both_pixels['dataset'] = 'Neuropixels'\n",
    "specific_both = pd.concat([both_cells, both_pixels], axis = 0)"
   ]
  },
  {
   "cell_type": "markdown",
   "metadata": {},
   "source": [
    "## Data Analysis & Results"
   ]
  },
  {
   "cell_type": "markdown",
   "metadata": {},
   "source": [
    "Performing PCA on the VISp Cell Types dataset"
   ]
  },
  {
   "cell_type": "code",
   "execution_count": 37,
   "metadata": {},
   "outputs": [
    {
     "data": {
      "image/png": "[encoded data removed]",
      "text/plain": [
       "<Figure size 505.125x360 with 1 Axes>"
      ]
     },
     "metadata": {
      "needs_background": "light"
     },
     "output_type": "display_data"
    }
   ],
   "source": [
    "visp_data = visp_features.drop('structure_parent__acronym',axis=1)\n",
    "visp_data = (visp_data - visp_data.mean())/visp_data.std()\n",
    "pca = PCA(n_components = 2)           \n",
    "VISP_2D = pca.fit_transform(visp_data)  \n",
    "visp_features['PCA1'] = VISP_2D[:, 0]\n",
    "visp_features['PCA2'] = VISP_2D[:, 1]\n",
    "sns.lmplot(\"PCA1\", \"PCA2\",hue='structure_parent__acronym', data=visp_features, fit_reg=False, palette=\"Set1\")\n",
    "sns.set_palette('Paired')\n",
    "plt.title('PCA for VISp Neurons in Cell Types Dataset')\n",
    "\n",
    "plt.show()"
   ]
  },
  {
   "cell_type": "markdown",
   "metadata": {},
   "source": [
    "Performing PCA on the VISpm Cell Types dataset"
   ]
  },
  {
   "cell_type": "code",
   "execution_count": 38,
   "metadata": {},
   "outputs": [
    {
     "name": "stderr",
     "output_type": "stream",
     "text": [
      "/opt/conda/lib/python3.6/site-packages/ipykernel_launcher.py:5: SettingWithCopyWarning: \n",
      "A value is trying to be set on a copy of a slice from a DataFrame.\n",
      "Try using .loc[row_indexer,col_indexer] = value instead\n",
      "\n",
      "See the caveats in the documentation: http://pandas.pydata.org/pandas-docs/stable/user_guide/indexing.html#returning-a-view-versus-a-copy\n",
      "  \"\"\"\n",
      "/opt/conda/lib/python3.6/site-packages/ipykernel_launcher.py:6: SettingWithCopyWarning: \n",
      "A value is trying to be set on a copy of a slice from a DataFrame.\n",
      "Try using .loc[row_indexer,col_indexer] = value instead\n",
      "\n",
      "See the caveats in the documentation: http://pandas.pydata.org/pandas-docs/stable/user_guide/indexing.html#returning-a-view-versus-a-copy\n",
      "  \n"
     ]
    },
    {
     "data": {
      "image/png": "[encoded data removed]",
      "text/plain": [
       "<Figure size 505.125x360 with 1 Axes>"
      ]
     },
     "metadata": {
      "needs_background": "light"
     },
     "output_type": "display_data"
    }
   ],
   "source": [
    "vispm_data = vispm_features.drop('structure_parent__acronym',axis=1)\n",
    "vispm_data = (vispm_data - vispm_data.mean())/vispm_data.std()\n",
    "pca = PCA(n_components = 2)           \n",
    "VISPM_2D = pca.fit_transform(vispm_data)  \n",
    "vispm_features['PCA1'] = VISPM_2D[:, 0]\n",
    "vispm_features['PCA2'] = VISPM_2D[:, 1]\n",
    "sns.lmplot(\"PCA1\", \"PCA2\",hue='structure_parent__acronym', data=vispm_features, fit_reg=False, palette=\"Set1\")\n",
    "plt.title('PCA for VISpm Neurons in Cell Types Dataset')\n",
    "plt.show()"
   ]
  },
  {
   "cell_type": "markdown",
   "metadata": {},
   "source": [
    "PCA for VISp and VISpm from the Cell Types Dataset"
   ]
  },
  {
   "cell_type": "code",
   "execution_count": 39,
   "metadata": {},
   "outputs": [
    {
     "data": {
      "image/png": "[encoded data removed]",
      "text/plain": [
       "<Figure size 505.125x360 with 1 Axes>"
      ]
     },
     "metadata": {
      "needs_background": "light"
     },
     "output_type": "display_data"
    }
   ],
   "source": [
    "visp_and_m_data = visp_and_m_features.drop('structure_parent__acronym',axis=1)\n",
    "visp_and_m_data = (visp_and_m_data - visp_and_m_data.mean())/visp_and_m_data.std()\n",
    "pca = PCA(n_components = 2)           \n",
    "VISPM_2D = pca.fit_transform(visp_and_m_data)  \n",
    "visp_and_m_features['PCA1'] = VISPM_2D[:, 0]\n",
    "visp_and_m_features['PCA2'] = VISPM_2D[:, 1]\n",
    "sns.lmplot(\"PCA1\", \"PCA2\",hue='structure_parent__acronym', data=visp_and_m_features, fit_reg=False, palette=\"Set1\")\n",
    "plt.title('PCA for VISp and VISpm Neurons in Cell Types Dataset')\n",
    "plt.show()"
   ]
  },
  {
   "cell_type": "markdown",
   "metadata": {},
   "source": [
    "K-Means Clustering of n=2 for VISp and VISpm combined data from the Cell Types"
   ]
  },
  {
   "cell_type": "code",
   "execution_count": 40,
   "metadata": {},
   "outputs": [
    {
     "data": {
      "image/png": "[encoded data removed]",
      "text/plain": [
       "<Figure size 441.375x360 with 1 Axes>"
      ]
     },
     "metadata": {
      "needs_background": "light"
     },
     "output_type": "display_data"
    }
   ],
   "source": [
    "from sklearn.cluster import KMeans #Import the KMeans model\n",
    "\n",
    "kmeans = KMeans(n_clusters=2) # Set up a kmeans model with 3 clusters\n",
    "\n",
    "kmeans.fit(VISPM_2D) # Fit our two dimensional data\n",
    "y_kmeans = kmeans.predict(VISPM_2D) \n",
    "visp_and_m_features['kmeans_group'] = y_kmeans\n",
    "\n",
    "sns.lmplot(\"PCA1\", \"PCA2\", hue='kmeans_group', data=visp_and_m_features, fit_reg=False, palette=\"Set1\")\n",
    "centers = kmeans.cluster_centers_\n",
    "plt.scatter(centers[:, 0], centers[:, 1], c='black', s=200, alpha=0.5)\n",
    "plt.title('K-Means Clustering for VISp and VISpm Neurons in Cell Types Dataset')\n",
    "plt.show()"
   ]
  },
  {
   "cell_type": "markdown",
   "metadata": {},
   "source": [
    "Heatmap for correlations between electrophysiology properties of VISp neurons from Cell Types dataset"
   ]
  },
  {
   "cell_type": "code",
   "execution_count": 41,
   "metadata": {},
   "outputs": [
    {
     "data": {
      "image/png": "[encoded data removed]",
      "text/plain": [
       "<Figure size 432x288 with 2 Axes>"
      ]
     },
     "metadata": {
      "needs_background": "light"
     },
     "output_type": "display_data"
    }
   ],
   "source": [
    "import seaborn as sns\n",
    "\n",
    "s=sns.heatmap(visp_data.corr(), cmap='coolwarm') \n",
    "s.set_yticklabels(s.get_yticklabels(),rotation=0,fontsize=8)\n",
    "s.set_xticklabels(s.get_xticklabels(),rotation=50,fontsize=8)\n",
    "plt.title('Heatmap for VISp Neurons in Cell Types Dataset')\n",
    "plt.show()"
   ]
  },
  {
   "cell_type": "markdown",
   "metadata": {},
   "source": [
    "Heatmap for correlations between electrophysiology properties of VISpm neurons from Cell Types dataset"
   ]
  },
  {
   "cell_type": "code",
   "execution_count": 42,
   "metadata": {},
   "outputs": [
    {
     "data": {
      "image/png": "[encoded data removed]",
      "text/plain": [
       "<Figure size 432x288 with 2 Axes>"
      ]
     },
     "metadata": {
      "needs_background": "light"
     },
     "output_type": "display_data"
    }
   ],
   "source": [
    "import seaborn as sns\n",
    "s=sns.heatmap(vispm_data.corr(),cmap='coolwarm') \n",
    "s.set_yticklabels(s.get_yticklabels(),rotation=30,fontsize=7)\n",
    "s.set_xticklabels(s.get_xticklabels(),rotation=30,fontsize=7)\n",
    "plt.title('Heatmap for VISpm Neurons in Cell Types Dataset')\n",
    "plt.show()"
   ]
  },
  {
   "cell_type": "markdown",
   "metadata": {},
   "source": [
    "Heatmap for correlations between electrophysiology properties of VISp and VISpm neurons from Cell Types dataset"
   ]
  },
  {
   "cell_type": "code",
   "execution_count": 43,
   "metadata": {},
   "outputs": [
    {
     "data": {
      "image/png": "[encoded data removed]",
      "text/plain": [
       "<Figure size 432x288 with 2 Axes>"
      ]
     },
     "metadata": {
      "needs_background": "light"
     },
     "output_type": "display_data"
    }
   ],
   "source": [
    "import seaborn as sns\n",
    "s=sns.heatmap(visp_and_m_data.corr(),cmap='coolwarm') \n",
    "s.set_yticklabels(s.get_yticklabels(),rotation=30,fontsize=7)\n",
    "s.set_xticklabels(s.get_xticklabels(),rotation=30,fontsize=7)\n",
    "plt.title('PCA for VISp and VISpm Neurons in Cell Types Dataset')\n",
    "plt.show()"
   ]
  },
  {
   "cell_type": "markdown",
   "metadata": {},
   "source": [
    "Average Firing Rate for VISp and VISpm Units from Neuropixels Data"
   ]
  },
  {
   "cell_type": "markdown",
   "metadata": {},
   "source": [
    "We use the Dataarray da_visp created before to plot the average firing rate for each unit in VISp as a function of time, using Neuropixels data"
   ]
  },
  {
   "cell_type": "code",
   "execution_count": 44,
   "metadata": {},
   "outputs": [
    {
     "data": {
      "image/png": "[encoded data removed]",
      "text/plain": [
       "<Figure size 360x720 with 2 Axes>"
      ]
     },
     "metadata": {
      "needs_background": "light"
     },
     "output_type": "display_data"
    }
   ],
   "source": [
    "def plot_optotagging_response(da_visp):\n",
    "\n",
    "    plt.figure(figsize=(5,10))\n",
    "\n",
    "    plt.imshow(da_visp.mean(dim='trial_id').T / time_resolution, \n",
    "               extent=[np.min(bin_edges), np.max(bin_edges),\n",
    "                       0, len(units)],\n",
    "               aspect='auto', vmin=0, vmax=200)    \n",
    "\n",
    "    for bound in [0.0005, 0.0095]:\n",
    "        plt.plot([bound, bound],[0, len(units)], ':', color='white', linewidth=1.0)\n",
    "\n",
    "    plt.xlabel('Time (s)')\n",
    "    plt.ylabel('Unit #')\n",
    "    plt.title('Average Firing Rate in VISp')\n",
    "\n",
    "    cb = plt.colorbar(fraction=0.046, pad=0.04)\n",
    "    cb.set_label('Mean firing rate (Hz)')\n",
    "    \n",
    "plot_optotagging_response(da_visp)\n",
    "plt.show()"
   ]
  },
  {
   "cell_type": "markdown",
   "metadata": {},
   "source": [
    "We use the Dataarray da_vispm created before to plot the average firing rate for each unit in VISpm as a function of time, using Neuropixels data"
   ]
  },
  {
   "cell_type": "code",
   "execution_count": 45,
   "metadata": {},
   "outputs": [
    {
     "data": {
      "image/png": "[encoded data removed]",
      "text/plain": [
       "<Figure size 360x720 with 2 Axes>"
      ]
     },
     "metadata": {
      "needs_background": "light"
     },
     "output_type": "display_data"
    }
   ],
   "source": [
    "def plot_optotagging_response(da_vispm):\n",
    "\n",
    "    plt.figure(figsize=(5,10))\n",
    "\n",
    "    plt.imshow(da_vispm.mean(dim='trial_id').T / time_resolution, \n",
    "               extent=[np.min(bin_edges), np.max(bin_edges),\n",
    "                       0, len(units)],\n",
    "               aspect='auto', vmin=0, vmax=200)    \n",
    "\n",
    "    for bound in [0.0005, 0.0095]:\n",
    "        plt.plot([bound, bound],[0, len(units)], ':', color='white', linewidth=1.0)\n",
    "\n",
    "    plt.xlabel('Time (s)')\n",
    "    plt.ylabel('Unit #')\n",
    "\n",
    "    cb = plt.colorbar(fraction=0.046, pad=0.04)\n",
    "    cb.set_label('Mean firing rate (Hz)')\n",
    "    \n",
    "plot_optotagging_response(da_vispm)\n",
    "plt.title('Average Firing Rate in VISpm')\n",
    "plt.show()"
   ]
  },
  {
   "cell_type": "markdown",
   "metadata": {},
   "source": [
    "Box plot of VISp and VISpm neuron firing rate using both datasets: Neuropixels and Cell Types"
   ]
  },
  {
   "cell_type": "code",
   "execution_count": 52,
   "metadata": {},
   "outputs": [
    {
     "data": {
      "image/png": "[encoded data removed]",
      "text/plain": [
       "<Figure size 432x288 with 1 Axes>"
      ]
     },
     "metadata": {
      "needs_background": "light"
     },
     "output_type": "display_data"
    }
   ],
   "source": [
    "fig,ax = plt.subplots()\n",
    "firing_rate_visp = merged_visp['firing_rate']\n",
    "firing_rate_vispm = merged_vispm['firing_rate']\n",
    "data = [firing_rate_visp, firing_rate_vispm]\n",
    "\n",
    "ax.boxplot(data)\n",
    "ax.set_xticklabels(['VISp','VISpm'])\n",
    "ax.set_xlabel('Cell Type')\n",
    "ax.set_ylabel('Firing Rate (Hz)')\n",
    "ax.set_title('Firing Rate Between VISp and VISpm Using Both Datasets ')\n",
    "plt.show()\n"
   ]
  },
  {
   "cell_type": "markdown",
   "metadata": {},
   "source": [
    "Number of VISp neurons collected in Allen Cell Type and Neuropixels "
   ]
  },
  {
   "cell_type": "code",
   "execution_count": 53,
   "metadata": {},
   "outputs": [
    {
     "name": "stdout",
     "output_type": "stream",
     "text": [
      "[18.8984121946508, 3.09063006777896, 1.3573944954056, 1.23616885342927, 2.88072048703265, 2.59460301986382, 6.95061669698573, 4.94311590717364, 2.70210500425792, 4.27273602770249, 10.6920808288915, 3.70372407355461, 7.32593793843902, 18.6643822460327, 7.46910063912633, 5.14543588940857, 0.772995410029151, 3.8281726957207, 22.2100763231859, 19.0285790074762, 1.19634945302023, 5.7350333299298, 16.7296584282476, 5.74511813891068, 10.9977441114047, 8.90561409983551, 1.31144103592572, 2.60728700641709, 2.69732251752472, 7.25742361763079, 2.23404510702171, 3.63957637106799, 6.21962399652642, 1.77149546623897, 5.07848107514377, 0.846604118879271, 16.4509226253844, 0.570675427794218, 0.237252928807871, 1.69258443514117, 0.7407656081315, 2.33510113103628, 0.902226518928443, 2.23290146888986, 6.7780889331894, 6.17225643360919, 2.27426277038706, 2.04276157330999, 1.92945384775364, 8.2187602804238, 0.661966602149409, 9.8140083138071, 3.44247581607724, 1.40428813260621, 11.9902443087816, 15.7325178133951, 2.81377386730217, 1.46530798113977, 5.19739418565738, 8.07665783929028, 2.00086890046668, 4.59571976774896, 2.94132302258441, 6.56893742509822, 10.8544643001314, 3.83967656777524, 17.4950246820263, 2.23174638529298, 9.4648334054183, 13.0944228967262, 5.06277629153309, 9.99270187365239, 5.76850670327811, 2.07976850018895, 7.92083372863985, 27.4848158985084, 7.70679647458432, 11.3679873865979, 13.7730218255628, 2.19525921862299, 8.96669522113753, 5.93867619569623, 4.99967740216363, 4.77368566330169, 3.60266591248305, 4.41203650989752, 8.7565041926284, 11.5388845433085, 1.70606090993657, 5.76632371040042, 2.04837498356691, 3.05951649410512, 7.49255131644519, 2.31657125139755, 5.21413046438634, 10.3968674121506, 15.9705679891053, 19.8808279932592, 1.61499892132431, 10.0134922820114, 1.72643551012836, 1.6111526957779, 1.8601178358765, 15.1914474358531, 6.53754390847619, 1.79046996787397, 3.16752266552994, 6.02183782913209, 0.651675350011722, 0.834630943570604, 0.266740939245506, 0.80562832390985, 1.99712662696207, 1.53817836243794, 2.49692804391156, 18.1428538064916]\n",
      "Allen Cell Types ViSp Firing Rate n = 1720\n",
      "Neuropixels ViSp Firing Rate n = 116\n"
     ]
    }
   ],
   "source": [
    "allen_plist = cell_visp['firing_rate'].tolist()\n",
    "pixels_plist = df_visp_firing_rate['firing_rate'].tolist()\n",
    "print(pixels_plist)\n",
    "print('Allen Cell Types ViSp Firing Rate n = ' + str(len(allen_plist)))\n",
    "print('Neuropixels ViSp Firing Rate n = ' + str(len(pixels_plist)))"
   ]
  },
  {
   "cell_type": "markdown",
   "metadata": {},
   "source": [
    "Number of VISpm neurons collected in Allen Cell Type and Neuropixels"
   ]
  },
  {
   "cell_type": "code",
   "execution_count": 54,
   "metadata": {},
   "outputs": [
    {
     "name": "stdout",
     "output_type": "stream",
     "text": [
      "[18.8984121946508, 3.09063006777896, 1.3573944954056, 1.23616885342927, 2.88072048703265, 2.59460301986382, 6.95061669698573, 4.94311590717364, 2.70210500425792, 4.27273602770249, 10.6920808288915, 3.70372407355461, 7.32593793843902, 18.6643822460327, 7.46910063912633, 5.14543588940857, 0.772995410029151, 3.8281726957207, 22.2100763231859, 19.0285790074762, 1.19634945302023, 5.7350333299298, 16.7296584282476, 5.74511813891068, 10.9977441114047, 8.90561409983551, 1.31144103592572, 2.60728700641709, 2.69732251752472, 7.25742361763079, 2.23404510702171, 3.63957637106799, 6.21962399652642, 1.77149546623897, 5.07848107514377, 0.846604118879271, 16.4509226253844, 0.570675427794218, 0.237252928807871, 1.69258443514117, 0.7407656081315, 2.33510113103628, 0.902226518928443, 2.23290146888986]\n",
      "Allen ViSpm Firing Rate n = 89\n",
      "Neuropixels ViSpm Firing Rate n = 44\n"
     ]
    }
   ],
   "source": [
    "allen_pmlist = cell_vispm['firing_rate'].tolist()\n",
    "pixels_pmlist = df_vispm_firing_rate['firing_rate'].tolist()\n",
    "print(pixels_pmlist)\n",
    "print('Allen ViSpm Firing Rate n = ' + str(len(allen_pmlist)))\n",
    "print('Neuropixels ViSpm Firing Rate n = ' + str(len(pixels_pmlist)))"
   ]
  },
  {
   "cell_type": "markdown",
   "metadata": {},
   "source": [
    "Skew Test for VISp and VISpm datasets "
   ]
  },
  {
   "cell_type": "code",
   "execution_count": 55,
   "metadata": {},
   "outputs": [
    {
     "name": "stdout",
     "output_type": "stream",
     "text": [
      "3.7340551189750735e-161\n",
      "4.1421159126548525e-14\n",
      "The ViSp and ViSpm datasets are not likely to be skewed.\n"
     ]
    }
   ],
   "source": [
    "visp_list = firing_rate_visp.tolist()\n",
    "vispm_list = firing_rate_vispm.tolist()\n",
    "#SKEW TEST FOR VISP\n",
    "stat,pvalue = stats.skewtest(visp_list)\n",
    "print(pvalue)\n",
    "#SKEW TEST FOR VISPM\n",
    "statpm,pvaluepm = stats.skewtest(vispm_list)\n",
    "print(pvaluepm)\n",
    "\n",
    "print('The ViSp and ViSpm datasets are not likely to be skewed.')"
   ]
  },
  {
   "cell_type": "markdown",
   "metadata": {},
   "source": [
    "T-test comparing VISp and VISpm using both Neuropixels and Allen Cell Type"
   ]
  },
  {
   "cell_type": "code",
   "execution_count": 56,
   "metadata": {},
   "outputs": [
    {
     "name": "stdout",
     "output_type": "stream",
     "text": [
      "t-value = 1.145, p = 0.252\n",
      "The results are not statistically significant.\n"
     ]
    }
   ],
   "source": [
    "#STUDENT'S INDEPENDENT T-TEST COMPARING VISP AND VISPM\n",
    "t,p = sp.stats.ttest_ind(visp_list,vispm_list)\n",
    "print('t-value = %.3f, p = %.3f' % (t, p))\n",
    "print('The results are not statistically significant.')"
   ]
  },
  {
   "cell_type": "code",
   "execution_count": 57,
   "metadata": {},
   "outputs": [
    {
     "name": "stdout",
     "output_type": "stream",
     "text": [
      "Allen Visp skew p = 6.159214076353638e-147\n",
      "Allen Vispm skew p = 1.3347391019908031e-08\n",
      "Neuropixels Visp skew p = 2.6027068680404845e-07\n",
      "Neuropixels Vispm skew p = 0.00035842187588469446\n"
     ]
    }
   ],
   "source": [
    "#SKEW TEST FOR ALLEN CELL TYPES VISP\n",
    "stat,pvalue = stats.skewtest(cell_visp['firing_rate'])\n",
    "print('Allen Visp skew p = ' + str(pvalue))\n",
    "#SKEW TEST FOR ALLEN CELL TYPES VISPM\n",
    "stat,pvalue = stats.skewtest(cell_vispm['firing_rate'])\n",
    "print('Allen Vispm skew p = ' + str(pvalue))\n",
    "#SKEW TEST FOR NEUROPIXELS VISP\n",
    "stat,pvalue = stats.skewtest(df_visp_firing_rate['firing_rate'])\n",
    "print('Neuropixels Visp skew p = ' + str(pvalue))\n",
    "#SKEW TEST FOR NEUROPIXELS VISPM\n",
    "stat,pvalue = stats.skewtest(df_vispm_firing_rate['firing_rate'])\n",
    "print('Neuropixels Vispm skew p = ' + str(pvalue))"
   ]
  },
  {
   "cell_type": "code",
   "execution_count": 58,
   "metadata": {},
   "outputs": [
    {
     "name": "stdout",
     "output_type": "stream",
     "text": [
      "VISP Data Set T-Test: t-value = 7.296, p = 0.000\n",
      "VISPM Data Set T-Test: t-value = 5.195, p = 0.000\n"
     ]
    }
   ],
   "source": [
    "allen_visp = cell_visp['firing_rate']\n",
    "np_visp = df_visp_firing_rate['firing_rate']\n",
    "allen_vispm = cell_vispm['firing_rate']\n",
    "np_vispm = df_vispm_firing_rate['firing_rate']\n",
    "\n",
    "#STUDENT'S INDEPENDENT T-TEST COMPARING VISP FOR ALLEN VS NEUROPIXELS\n",
    "t,p = sp.stats.ttest_ind(allen_visp,np_visp)\n",
    "print('VISP Data Set T-Test: t-value = %.3f, p = %.3f' % (t, p))\n",
    "#STUDENT'S INDEPENDENT T-TEST COMPARING VISPM FOR ALLEN VS NEUROPIXELS\n",
    "t,p = sp.stats.ttest_ind(allen_vispm,np_vispm)\n",
    "print('VISPM Data Set T-Test: t-value = %.3f, p = %.3f' % (t, p))"
   ]
  },
  {
   "cell_type": "markdown",
   "metadata": {},
   "source": [
    "VISp and VISpm PV+ or PV- neurons"
   ]
  },
  {
   "cell_type": "markdown",
   "metadata": {},
   "source": [
    "We compare the baseline and evoked rates and see a subset of units in VISp with a light-evoked increase in firing rate from Neuropixels data"
   ]
  },
  {
   "cell_type": "code",
   "execution_count": 59,
   "metadata": {},
   "outputs": [
    {
     "data": {
      "image/png": "[encoded data removed]",
      "text/plain": [
       "<Figure size 360x360 with 1 Axes>"
      ]
     },
     "metadata": {
      "needs_background": "light"
     },
     "output_type": "display_data"
    }
   ],
   "source": [
    "plt.figure(figsize=(5,5))\n",
    "\n",
    "plt.scatter(baseline_rate_visp, evoked_rate_visp, s=15, color = 'Blue')\n",
    "\n",
    "axis_limit = 50\n",
    "plt.plot([0,axis_limit],[0,axis_limit], ':k')\n",
    "plt.plot([0,axis_limit],[0,axis_limit*2], ':r')\n",
    "plt.xlim([0,axis_limit])\n",
    "plt.ylim([0,axis_limit])\n",
    "\n",
    "plt.xlabel('Baseline rate (Hz)')\n",
    "_ = plt.ylabel('Evoked rate (Hz)')\n",
    "plt.title('VISp Units Baseline Rate vs Evoked Rate')\n",
    "plt.show()"
   ]
  },
  {
   "cell_type": "markdown",
   "metadata": {},
   "source": [
    "We compare the baseline and evoked rates and see a subset of units in VISpm with a light-evoked increase in firing rate from Neuropixels data"
   ]
  },
  {
   "cell_type": "code",
   "execution_count": 60,
   "metadata": {},
   "outputs": [
    {
     "data": {
      "image/png": "[encoded data removed]",
      "text/plain": [
       "<Figure size 360x360 with 1 Axes>"
      ]
     },
     "metadata": {
      "needs_background": "light"
     },
     "output_type": "display_data"
    }
   ],
   "source": [
    "#We compared the baseline and evoked rates and saw a subset of units in VISpm with a light-evoked increase in firing rate\n",
    "plt.figure(figsize=(5,5))\n",
    "\n",
    "plt.scatter(baseline_rate_vispm, evoked_rate_vispm, s=15, color = 'Blue')\n",
    "\n",
    "axis_limit = 50\n",
    "plt.plot([0,axis_limit],[0,axis_limit], ':k')\n",
    "plt.plot([0,axis_limit],[0,axis_limit*2], ':r')\n",
    "plt.xlim([0,axis_limit])\n",
    "plt.ylim([0,axis_limit])\n",
    "\n",
    "plt.xlabel('Baseline rate (Hz)')\n",
    "_ = plt.ylabel('Evoked rate (Hz)')\n",
    "\n",
    "plt.title('VISpm Baseline Rate vs Evoked Rate')\n",
    "plt.show()"
   ]
  },
  {
   "cell_type": "markdown",
   "metadata": {},
   "source": [
    "Comparing Both Neuropixels and Allen Brain Cell Type Datasets, with data grouped by structure acronym, using a Violin plot"
   ]
  },
  {
   "cell_type": "code",
   "execution_count": 61,
   "metadata": {},
   "outputs": [
    {
     "name": "stderr",
     "output_type": "stream",
     "text": [
      "/opt/conda/lib/python3.6/site-packages/scipy/stats/stats.py:1713: FutureWarning: Using a non-tuple sequence for multidimensional indexing is deprecated; use `arr[tuple(seq)]` instead of `arr[seq]`. In the future this will be interpreted as an array index, `arr[np.array(seq)]`, which will result either in an error or a different result.\n",
      "  return np.add.reduce(sorted[indexer] * weights, axis=axis) / sumval\n"
     ]
    },
    {
     "data": {
      "text/plain": [
       "<Figure size 360x360 with 0 Axes>"
      ]
     },
     "metadata": {},
     "output_type": "display_data"
    },
    {
     "data": {
      "image/png": "[encoded data removed]",
      "text/plain": [
       "<Figure size 360x360 with 1 Axes>"
      ]
     },
     "metadata": {
      "needs_background": "light"
     },
     "output_type": "display_data"
    }
   ],
   "source": [
    "plt.figure(figsize=(5,5))\n",
    "ax = sns.catplot(x=\"ecephys_structure_acronym\", y=\"firing_rate\",\n",
    "            kind=\"violin\", data=neuropix_and_celltypes, palette=\"Set1\");\n",
    "ax.set(xlabel='Cell Region', ylabel='Firing Rate (Hz)', title = 'VISp vs VISpm Firing Rate from Both Datasets')\n",
    "ax.set_xticklabels(['VISpm','VISp'])\n",
    "plt.show()"
   ]
  },
  {
   "cell_type": "markdown",
   "metadata": {},
   "source": [
    "Comparing the two datasets against each other"
   ]
  },
  {
   "cell_type": "code",
   "execution_count": 62,
   "metadata": {},
   "outputs": [
    {
     "data": {
      "image/png": "[encoded data removed]",
      "text/plain": [
       "<Figure size 504x360 with 1 Axes>"
      ]
     },
     "metadata": {
      "needs_background": "light"
     },
     "output_type": "display_data"
    }
   ],
   "source": [
    "plt.figure(figsize=(7,5))\n",
    "ax = sns.violinplot(x=\"ecephys_structure_acronym\", y=\"firing_rate\", hue=\"dataset\",\n",
    "                    data=specific_both, palette=\"Set1\")\n",
    "ax.set(xlabel='Cell Region', ylabel='Firing Rate (Hz)', title = 'VISp vs VISpm Firing Rate')\n",
    "ax.set_xticklabels(['VISp','VISpm'])\n",
    "plt.show()"
   ]
  },
  {
   "cell_type": "markdown",
   "metadata": {},
   "source": [
    "## Discussion"
   ]
  },
  {
   "cell_type": "markdown",
   "metadata": {},
   "source": [
    "**VISp PCA: Cell Types Dataset** \n",
    "\n",
    "\n",
    "Principal Components Analysis (PCA) was performed for the VISp neurons from the Cell Types dataset to reduce the dimensionality of the VISp electrophysiology data containing 4 electrophysiological features related to the temporal activity of the neurons. These four features are time constant, adaptation index, average firing rate, and time to first action potential peak after a steady ramp of current stimulus. An n-component of 2 was used, and resulted in a wide distribution of scatter along the horizontal axis represented by PCA1 on the x-axis. This horizontal spread may indicate that most of the data has a wider spread of variance along PCA1, but not as much along PCA2 on the y-axis. A K-Means clustering model was not performed, as the purpose of the project is to compare VISp and VISpm rather than the complexity of VISp neurons. However, with more data points, a K-Means clustering model would demonstrate how the VISp neurons could be differentiated into two distinct clusters and therefore two distinct properties such as excitatory or inhibitory. A heatmap of the electrophysiological properties of VISp neurons was produced to understand how each property was correlated to each other. Boxes with red colors indicated higher correlation, while blue colors indicated lower correlations. From the heatmap, it is evident that average firing rate and time to the first spike evoked from a steady ramp of injected current are highly correlated, while time constant and adaptation index are the least correlated. These correlations do not make sense, as a neuron that fires frequently would be assumed to have a lower threshold voltage or smaller refractory period that allows it to fire quickly - which would be associated with a shorter time required to fire the first action potential. Time constant would also be assumed to be directly proportional to adaptation index, as a higher time constant indicates a longer time interval is required to hyperpolarize to resting potential. This increased time interval would be associated with a higher adaptation index: a lengthened ratio of time between the first and last interspike interval. This analysis is under the assumption that the correlation between electrophysiological properties are compared for proportionality to each other.\n",
    "\n",
    "\n",
    "**VISpm PCA: Cell Types Dataset**\n",
    "\n",
    "\n",
    "A PCA was performed for VISpm neurons from the Cell Types dataset, using the same 4 electrophysiology properties as the previous PCA. An n-component of 2 was used, resulting in again a wide scatter of data, with a large vertical spread, indicating more diversity of variance in the data from PCA2 on the y-axis but not as much from PCA1 on the x-axis. A K-Means clustering model was not performed for this PCA, as only one cell type: VISpm was analyzed, and the aim of this project is to compare VISp to VISpm rather than VISpm alone. A clustering model would be useful for understanding how VISpm neurons can be separated by different properties such as neuron versus interneuron. A heatmap of the electrophysiological properties of VISpm neurons was produced to understand how each property was correlated to each other. The heat map demonstrates that time to the first action potential spike evoked from a steady ramp of injected current was least correlated with time constant, as demonstrated again from the VISp heatmap. This similarity between VISp and VISpm may be due to morphological similarities that contribute to the inversely proportional relationship between these two temporal properties. However, the highest correlation was between this time to the first spike from a steady ramp current and the average firing rate. This relationship also does not match expectations, as an increased firing frequency would indicate either a lower threshold voltage or decreased refractory period that allows for more frequent firing, but a higher time to first spike would indicate a slower rate of firing. Again, the analysis of the heatmap correlations between electrophysiology properties is under the assumption that higher correlation is associated with a direct proportionality between the two properties.\n",
    "\n",
    "\n",
    "**VISp and VISpm PCA: Cell Types Dataset**\n",
    "\n",
    "\n",
    "A PCA was performed with n = 2  to determine how the dimensionality of the data could be reduced due to the use of 4 electrophysiology features in a dataset containing both VISp and VISpm neuron data from the Cell Types dataset. The resulting data are nested within each other, with one cluster in red much larger than the other cluster in blue. A K-Means cluster model with n=2 was performed to determine whether the two K-Means clusters was similar to the PCA data. The two K-Means clusters are not located in a similar spatial manner as the VISp and VISpm PCA plots respectively. Thus, it is apparent that the K-Means cluster model separated the combined VISp and VISpm data by a different means than cell type, assuming that the PCA is accurate. No matter the case,  more VISp and VISpm data are required to accurately assess whether the partitioning of the two clusters was arranged by cell type (VISp and VISpm) rather than other factors, as this comparison between PCA and K-Mean clusters is not sufficient to make any conclusions. Determining the identities of these K-Means clusters - how the electrophysiological data of VISp and VISpm neurons can be divided into two groups, could be studied in the future, as it is seems apparent that the clustering is not by cell type. \n",
    "\n",
    "\n",
    "**VISp Firing Rate: Neuropixels Dataset**\n",
    "\n",
    "\n",
    "The plot depicts the number of neurons firing in a time interval of -0.010 to 0.020 seconds. The interval of -0.010 to 0.000 seconds demonstrates how many neurons are firing at baseline, before any visual stimulus. After 0.000 seconds, the change in the number of neurons firing is a result of the visual stimulus. Each vertical dotted line represents the time, from its x-coordinate, that a visual stimulus is presented. The stimulus is presented every 0.010 seconds, so this plot depicts two events of a flash stimulus. The y axis depicts unit number, which represents a single neuron in VISp for each unit. The color of the boxes in the plot reflect the average firing frequency of one unit VISp neuron: yellow for a higher firing frequency and violet for a lower firing frequency. From this plot of VISp neurons from the Neuropixels dataset, the most interesting patterns are that some neurons which are firing at an intermediate frequency before the stimulus increase their firing frequency after the first stimulus but decrease their frequency after the second stimulus, and neurons which are not firing or fire at a lower frequency remain at this frequency after both stimuli. In total, all neurons are firing less after the second flash stimulus, which can be linked to electrophysiology as a decrease in firing frequency may be due to long refractory periods, in which neurons cannot fire in a rapid succession.\n",
    "\n",
    "\n",
    "Statistically, the Neuropixels n=116 and Allen Cell Types n=1720 so there was enough data to run statistical analyses between datasets as well as comparing between VISp and VISpm regions. In the skew test of VISp data sets, the p value was 3.734e-161, which was close enough to 0 to say that the dataset was not likely to be skewed. From there, a student’s t-test was run to test for similarity between the Neuropixels and Allen Cell Types datasets because the data sets satisfied the parametric assumptions and did not have a true independent variable. The t-test was also chosen because the size of the data sets was not equal, so we could not run a paired t-test. The t-value for VISp was 7.296 and p=0.000, meaning the results of this test were statistically significant. The t-value shows that the data sets are likely to be highly similar. This is a positive result because it indicates that the two independently gathered data sets had high similarity when recording from the same anatomical region.\n",
    "\n",
    "\n",
    "\n",
    "**VISpm Firing Rate: Neuropixels Dataset**\n",
    "This plot maintains the same axes and color scale as the previous firing rate plot, but represents VISpm neurons from the Cell Types Dataset. The same pattern emerges, in which neurons which are firing at intermediate frequencies before the stimulus fire at higher frequencies after the first stimulus but a lower frequency after the second stimulus. However, there is a new pattern for the VISpm plot, in which some neurons which fire at low frequencies before and after the first stimulus, fire at a higher frequency after the second stimulus. This pattern may be due to another electrophysiological process, in which the neuron has a higher threshold for activation. Perhaps it requires the succession of both stimuli to reach threshold and fire an action potential. This may be due to a lower density of Na+ channels, which leads to an increased membrane resistance that requires a larger current or voltage stimulation to reach threshold. To test whether this may be the case, voltage clamp experiments on VISpm and VISp neurons could be performed to determine the difference in threshold voltage. If VISpm neurons do have a higher threshold voltage, more research must be conducted to determine structural and electrophysiological differences in VISpm and VISp which may contribute to this property.\n",
    "\n",
    "\n",
    "ViSpm data sets had n=89 for Allen Cell Types and n=44 for Neuropixels, which was not enough data to have statistical power. However, in analyzing the individual data sets, we determined that neither of the Neuropixels data sets were likely to be skewed because they had values close to 0. Allen ViSpm data showed a skew p-value of 2.602e-7 and Neuropixels had a skew p-value of 0.000. The t-test yielded a t-value of 5.195 and p=0.000. This indicates statistical significance and shows that the data sets were highly likely to be similar. This is important because it demonstrates similarity between recordings from two data sets of the same region.\n",
    "\n",
    "\n",
    "**VISp: PV+/-: Neuropixels Dataset**\n",
    "\n",
    "\n",
    "This plot depicts the distinction of parvalbumin positive (PV+) and negative (PV-) VISp neurons. The black dotted line represents the baseline firing rate. The slope of the red dotted line is twice the slope of the black dotted line. Neurons that are above the red dotted line have evoked firing rates that double their baseline firing rates. Therefore, these neurons are classified as PV+ inhibitory interneurons while the others are classified as PV- neurons. We cannot conclude whether these PV- neurons are excitatory or inhibitory based on the information we have.\n",
    "\n",
    "\n",
    "**VISpm: PV+/-: Neuropixels Dataset**\n",
    "\n",
    "\n",
    "This plot depicts the distinction of parvalbumin positive (PV+) and negative (PV-) VISpm neurons. The black dotted line represents the baseline firing rate. The slope of the red dotted line is twice the slope of the black dotted line. Neurons that are above the red dotted line have evoked firing rates that double their baseline firing rates. Therefore, these neurons are classified as PV+ inhibitory interneurons while the others are classified as PV- neurons. We cannot conclude whether these PV- neurons are excitatory or inhibitory based on the information we have.\n",
    "\n",
    "\n",
    "**VISp versus VISpm Firing Rate Statistical Analysis: Cell Types and Neuropixels Datasets**\n",
    "\n",
    "\n",
    "This research project asked whether VISp and VISpm regions had differing firing rates and predicted that they differed because of their regional function. When analyzing VISp and VISpm data, the data from both Allen Cell Types and Neuropixels were combined and tested for skewness. The VISp skew p-value was 3.734e-161, which was extremely small and close to 0, and VISpm skew p-value was 4.142e-14, which was also close to 0. Both of these data sets passed the skew test and were compared using a student’s independent t-test because they were parametrically related and were two groups of different size n. The t-test yielded a t-value of 1.145 and p=0.252. This indicates that the result was not statistically significant and any conclusion we could draw from our data would not be reliable. Comparing the VISp and VISpm regions in terms of their firing rate does not give a conclusive result, and more research would need to be conducted to yield a statistically significant result. The statistical significance could also be improved by additional data from the VISpm region as the n was low compared to VISp: it had n=133 compared to n=1836.\n"
   ]
  },
  {
   "cell_type": "markdown",
   "metadata": {},
   "source": [
    "## Conclusion"
   ]
  },
  {
   "cell_type": "markdown",
   "metadata": {},
   "source": [
    "\n",
    "The use of PCA and K-Means for analysis of the electrophysiological properties of VISp and VISpm neurons is limited in scope, as the PCA only reflected the variance of each VISp and VISpm neuron from the new Principle Components (PC1 and PC2) without a clear explanation of the significance of PC1 and PC2. The variances of each neuron from PC1 and PC2 were examined by plotting a heatmap, which demonstrated the correlation between each electrophysiological property of VISp, VISpm, or both. However, the patterns of correlation for all three heatmaps were inconclusive, as they deviated expected patterns. K-Means clustering was also performed for the PCA calculated from the dataset containing both VISp and VISpm to determine whether there would be distinct clusters based on the two cell types. Since the data from VISp and VISpm are located within the same region, they could not be spatially separated into distinct clusters and may belong to a common larger cluster, perhaps categorized by the visual region they both are located in. \n",
    "\n",
    "\n",
    "Based on the data analysis of this project, we can conclude that firing rates differ between VISp and VISpv neurons, with VISp neurons from a combined dataset of ALLEN Cell Types and Neuropixels having an average of 27.196 Hz with a standard deviation of 32.552 Hz, which is much larger than VISpm neurons which have an average of 23.860 Hz and a standard deviation of 30.811 Hz. Though skew tests performed on the separate VISp and VISpm neuron datasets that combined ALLEN Cell Types and Neuropixels data respectively resulted in p-values near 0.000, indicating a lack of skewness in the distribution of the data, an independent t-test for VISp and VISpm datasets resulted a p-value of 0.252, which indicates the data is not statistically significant. Thus, it is evident that more data points are required for a more in-depth analysis between the relationship of firing rates between VISp and VISpm neurons. No conclusion can be made as to whether VISp and VISpm neurons differ or not in firing rate. \n",
    "\n",
    "\n",
    "A limitation of the project is the lack of common electrophysiology data between the two datasets, as only firing rate was used for analysis. With more common electrophysiological properties for VISp and VISpm between ALLEN Cell Types and Neuropixels datasets, a more robust dataset would allow for analysis that better encompasses the multi-faceted relationship of data acquisition and the relationship between neuron electrical activity and cell type.\n",
    "\n",
    "\n",
    "Future experiments may narrow the specificity between the VISp and VISpm neurons, and may look into the differences between subsets of these neurons which are inhibitory versus excitatory or which are located in layer 4 versus layer 6.\n"
   ]
  },
  {
   "cell_type": "markdown",
   "metadata": {},
   "source": [
    "## Reflection"
   ]
  },
  {
   "cell_type": "markdown",
   "metadata": {},
   "source": [
    "We completely changed our final project plan from our original cell types project and experienced both pros and cons. A benefit of changing our project entirely is that it allowed us to obtain more results compared to the previous project. It was more difficult to interpret the data for the visual regions compared to the hippocampus CA1/CA3 data we originally looked at, but we had greater numbers of data points to work with in this project. Incorporating PCA and K-Means clustering was the next logical step for us but we also were confused about how to analyze the clusters and Principle Components. The time constraint was the most difficult aspect of this project, as most of us spent hours every day troubleshooting code and working only to result in incremental progress as the deadline loomed closer. Though the deadline was extended multiple times, time was the biggest issue we faced. In all honesty, we believe this project does not reflect the best of our abilities due to the changes in school structure from coronavirus fears and preparation for finals, but we are still proud of the effort and thought we put into this project."
   ]
  },
  {
   "cell_type": "code",
   "execution_count": null,
   "metadata": {},
   "outputs": [],
   "source": []
  }
 ],
 "metadata": {
  "kernelspec": {
   "display_name": "Python 3",
   "language": "python",
   "name": "python3"
  },
  "language_info": {
   "codemirror_mode": {
    "name": "ipython",
    "version": 3
   },
   "file_extension": ".py",
   "mimetype": "text/x-python",
   "name": "python",
   "nbconvert_exporter": "python",
   "pygments_lexer": "ipython3",
   "version": "3.6.10"
  }
 },
 "nbformat": 4,
 "nbformat_minor": 4
}
