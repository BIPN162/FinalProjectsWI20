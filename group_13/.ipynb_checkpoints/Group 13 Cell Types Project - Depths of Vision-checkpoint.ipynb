{
 "cells": [
  {
   "cell_type": "markdown",
   "metadata": {},
   "source": [
    "# DEPTHS OF VISION"
   ]
  },
  {
   "cell_type": "markdown",
   "metadata": {},
   "source": [
    "*Exploring Mouse Visual Cortex Layer Interconnectivity by Associating Cell Properties of Electrophysiology and Direction Selectivity*"
   ]
  },
  {
   "cell_type": "markdown",
   "metadata": {},
   "source": [
    "## Table of Contents"
   ]
  },
  {
   "cell_type": "markdown",
   "metadata": {},
   "source": [
    "### Abstract\n",
    "\n",
    "### Research Question\n",
    "\n",
    "### Background and Prior Work\n",
    "\n",
    "### Hypothesis\n",
    "\n",
    "### Setup\n",
    "\n",
    "### Let's Wrangle some Data, Pard'ner\n",
    "\n",
    "### Data Visualization\n",
    "\n",
    "### Data Analysis & Results\n",
    "\n",
    "### Discussion & Conclusion\n",
    "\n",
    "### Reflection"
   ]
  },
  {
   "cell_type": "markdown",
   "metadata": {},
   "source": [
    "<a id='one'></a>\n",
    "## Abstract"
   ]
  },
  {
   "cell_type": "markdown",
   "metadata": {},
   "source": [
    "Our project explored the electrophysiological differences between mouse visual cortex (VISp) layer 4 and layer 5 cells, and whether they related to directional selectivity of VISp as a whole, in order to get a better sense for any pattern behind visual network formation in rodent VISp, currently considered random in nature. Despite our hypothesis that layer 4 cells would have higher firing rates and DSI (directional selectivity index) values due to their strong thalamic input, only resting potential was seen to be distinct between the two layers. Furthermore, despite the layout of DSI distributions being statistically significant, a strong association could not be made between the two datasets, other than suggestions of patterms of synaptic mapping made possible by the connectivity data. These trials show the difficult process of designing functional map models for visual perception in rodents, but provide space for asking more specific and valuable questions about visual cortical layer roles in the formation of these networks."
   ]
  },
  {
   "cell_type": "markdown",
   "metadata": {},
   "source": [
    "<a id='two'></a>\n",
    "## Research Question"
   ]
  },
  {
   "cell_type": "markdown",
   "metadata": {},
   "source": [
    "*How do layer 4 and layer 5 mouse visual cortex cells differ electrophysiologically (by adaptation, resting potential, upstroke-downstroke ratio, time constant, and average interspike interval), and how may this correspond to their particular directional selectivity (DSI) values and connectivity to other brain regions?*"
   ]
  },
  {
   "cell_type": "markdown",
   "metadata": {},
   "source": [
    "<a id='three'></a>\n",
    "## Background and Prior Work"
   ]
  },
  {
   "cell_type": "markdown",
   "metadata": {},
   "source": [
    "*Mouse Visual Cortex - Clean and Easy... or is it?*\n",
    "\n",
    "Among mammals, mice serve as excellent model organisms, due to their small size and ease of breeding. As a result, the study of the perceptual capacity of the mammalian visual cortex has focused extensively on their analog in rodents. Primary visual cortex (V1) in mice composes the core of visual cortical mass, with at least nine extrastriatal regions (though the exact number is heavily debated) possessing their own distinct functionality$^{1}$. These regions do present overlap through inter-layer connectivity. In mammals such as primates, cellular superstructures known as ocular dominance columns allow all neurons within them to exhibit similar functional features. On the other hand, mice are said to have a salt-and-pepper visual cortical cell distribution, demonstrating no real functional mapping$^{1}$. This makes it difficult to understand how interlayer cortical connectivity corresponds to overall rodent visual perception.\n",
    "\n",
    "*Direction Selectivity - Decoding the Puzzle of Rodent Functionality*\n",
    "\n",
    "Luckily, rodent visual cortical neurons do exhibit specific functionality via traits such as direction selectivity, where cells exhibit firing preferences for certain directions of motion of an observed object. In primates, the columnar layout of the cortex allows neurons to share direction selectivity across layers, but this architecture is missing in rodents$^{2}$. \n",
    "\n",
    "A recent study has explored how direction-selective neurons in Layer 4 of visual cortex nevertheless pass on this quality to Layer 2/3 even when feedforward and recurrent connectivity is random$^{2}$. Despite a lack of organized input/output patterns between cells in adjacent layers, direction selectivity is related to these connections, with this study considering spatial frequency to be a dependent factor$^{2}$. The number and layout of synapses could thus provide the key to tracing selectivity across cortical layers in mice in real time.\n",
    "\n",
    "Furthermore, directional selectivity requires a period of development after the onset of visual experience (i.e. when the rodent can first open its eyes)$^{3}$. As a result, preferences for one direction are made after some \"practice\" by the rodent, and thus a stronger discrimination of direction is seen in more downstream neurons within the visual cortex$^{3}$. This finding means that visual wiring for direction happens as the mouse explores its surroundings, such that directional preferences may be an additional clue in uncovering how interlayer connectivity takes shape overall.\n",
    "\n",
    "*Working with the Datasets*\n",
    "\n",
    "This project hopes to examine our research question by working with three open-source datasets. The first is a general Cell Features Data file, downloaded in CSV format, from the Allen Brain Atlas’ Cell Features Search database. The CSV format was simply the only one available on the website, and thus required extra data wrangling to extrapolate the electrophysiological information of interest. Nevertheless, the Allen Institute produced a quality dataset, obtaining ephys values by whole cell current clamp recordings of identified Cre-positive neurons from brain slices of adult mice. Thus, by choosing a particular Cre line, one could select for neuronal zones of interest and their metrics. The Institute's creation of customized Cre driver lines allowed us to choose Rorb-IRES2-Cre, which has: strong expression in the thalamus; dense, patchy expression in VISp Layer 4; and sparse expression in Layer 5$^{4}$. This line fits the parameters of our research question and focuses on relevant regions, making it our choice for subsequent data wrangling. \n",
    "\n",
    "The second dataset is from a compilation known collectively as the Allen Brain Observatory, containing raw data on directional selectivity and other visual coding properties of cell populations in the mouse visual cortex. Again, these data were produced by Allen Institute efforts with a high level of sophistication, and the files of note were obtained directly from the website using Allen toolboxes, facilitating data wrangling. Visual coding was assessed using passively viewed stimuli on mice habituated to extended periods of head-fixation, and two-photon calcium imaging was peformed in order to designate areas of hieghtened activity in the visual cortex. Among these mice were ones with the Rorb-IRES2-Cre line, enabling a look at directional preferences of the layer 4 and 5 cells it selects for.\n",
    "\n",
    "The third dataset is from another compendium known as the Allen Mouse Brain Connectivity Atlas, a comprehensive database of neural projections standardized across a high-resolution 3D map. All anterograde and retrograde mapping was done by the Allen Institute using more than 100 different Cre driver lines and/or viral tracers, then visualized using serial two-photon tomography. Of course, our Rorb Cre line is among the choices available, and will portray a projection map for our layers that could hint at whether connectivity between these layers and other brain regions mirrors that between each other.\n",
    "\n",
    "\n",
    "### References\n",
    "(1) \"Visual cortical areas of the mouse: comparison of parcellation and network structure with primates.\" https://www.frontiersin.org/article/10.3389/fncir.2014.00149\n",
    "\n",
    "(2) \"Emergent Orientation Selectivity from Random Networks in Mouse Visual Cortex.\" https://doi.org/10.1016/j.celrep.2018.07.054\n",
    "\n",
    "(3) \"Does experience provide a permissive or instructive influence on the development of direction selectivity in visual cortex?\"\n",
    "https://dx.doi.org/10.1186%2Fs13064-018-0113-x\n",
    "\n",
    "(4) \"Anatomical characterization of Cre driver mice for neural circuit mapping and manipulation.\"\n",
    "https://dx.doi.org/10.3389%2Ffncir.2014.00076"
   ]
  },
  {
   "cell_type": "markdown",
   "metadata": {},
   "source": [
    "<a id='four'></a>\n",
    "## Hypothesis"
   ]
  },
  {
   "cell_type": "markdown",
   "metadata": {},
   "source": [
    "Our team hypothesizes that layer 4 cells in the mouse visual cortex that exhibit a combination of the following - lower resting potential, smaller interspike interval, smaller time constant, faster adaptation, and a greater upstroke-downstroke ratio - will reflect higher DSI values, and that layer 5 cells with similar electrophysiological metrics will match accordingly. \n",
    "\n",
    "The logical basis for our prediction is that since layer 4 integrates thalamic input into the visual cortex, its qualities will strongly influence those of the adjacent layers which receive its efferent signals. As firing frequency corresponds to a preference for a specific direction, a direct comparison between layers can be made to surmise the interactions between the two in terms of functionality."
   ]
  },
  {
   "cell_type": "markdown",
   "metadata": {},
   "source": [
    "<a id='five'></a>\n",
    "## Setup\n",
    "\n",
    "To begin exploring our question, let's download all the necessary items first in order to easily draw from Jupyter. Our first step is to access the Cell Features dataset. Follow <a href=\"https://celltypes.brain-map.org/data\">this</a> link to open the Cell Features Search page, and click on \"Download Cell Feature Data\" on the upper-right hand of the page to obtain the appropriate CSV file. Upload it into Jupyter before continuing. Ultimately, this file will then be converted into a Pandas dataframe, the index reset to Specimen ID, and then the `drop` method and Booleans used to create two further dataframes. These will represent mouse primary visual cortex layer 4 (VISp4) and layer 5 (VISp5), each of which can be selected for by their shared Cre line, Rorb-IRES2-Cre. 130 entries are available across the two cell types, providing information on electrophysiological properties which will then be filtered out and plotted for presentation and analysis.\n",
    "\n",
    "In the Data Visualization portion below, we will import the standard Numpy and Matplotlib toolboxes in order to most easily plot our filtered dataframes. Additionally, for the directionality data, Allen specific toolboxes such as the Brain Observatory Stimulus Info and Brain Observatory Cache will be imported in order to make data analysis possible. Again, we will filter by targeted structure (VISp) and select for our same Cre line, Rorb-IRES2-Cre. These will be converted into dataframes and then containers, such that all experiments with these parameters are included in our subsequent plots and analyses of direction selectivity. Those commands are performed later in order to streamline the step-by-step nature of this notebook.\n",
    "\n",
    "The Data Analysis portion will also use the standard Scipy package in order to run quick statistics on our results.\n",
    "\n",
    "For now, import the Pandas package, as well as the OS module (in order to interface with the underlying OS that Python is running on)."
   ]
  },
  {
   "cell_type": "code",
   "execution_count": 10,
   "metadata": {},
   "outputs": [],
   "source": [
    "import pandas as pd\n",
    "import os"
   ]
  },
  {
   "cell_type": "markdown",
   "metadata": {},
   "source": [
    "<a id='six'></a>\n",
    "## Let's Wrangle some Data, Pard'ner"
   ]
  },
  {
   "cell_type": "markdown",
   "metadata": {},
   "source": [
    "Now that the datasets are accessible, let's form a dataframe that contains *all* the entries in the Cell Features Database. Remember, our goal is to ultimately select for electrophysiological properties of those cells in mouse visual cortex layers 4 and 5. This data wrangling will involve filtering down to that point.\n",
    "\n",
    "Using `pd`, we take the first step below. For the sake of brevity, we can see just the first five rows using the the `head()` method."
   ]
  },
  {
   "cell_type": "code",
   "execution_count": 11,
   "metadata": {},
   "outputs": [
    {
     "data": {
      "text/html": [
       "<div>\n",
       "<style scoped>\n",
       "    .dataframe tbody tr th:only-of-type {\n",
       "        vertical-align: middle;\n",
       "    }\n",
       "\n",
       "    .dataframe tbody tr th {\n",
       "        vertical-align: top;\n",
       "    }\n",
       "\n",
       "    .dataframe thead th {\n",
       "        text-align: right;\n",
       "    }\n",
       "</style>\n",
       "<table border=\"1\" class=\"dataframe\">\n",
       "  <thead>\n",
       "    <tr style=\"text-align: right;\">\n",
       "      <th></th>\n",
       "      <th>line_name</th>\n",
       "      <th>specimen__id</th>\n",
       "      <th>specimen__name</th>\n",
       "      <th>specimen__hemisphere</th>\n",
       "      <th>structure__id</th>\n",
       "      <th>structure__name</th>\n",
       "      <th>structure__acronym</th>\n",
       "      <th>structure_parent__id</th>\n",
       "      <th>structure_parent__acronym</th>\n",
       "      <th>structure__layer</th>\n",
       "      <th>...</th>\n",
       "      <th>ephys_thumb_path</th>\n",
       "      <th>ephys_inst_thresh_thumb_path</th>\n",
       "      <th>donor__age</th>\n",
       "      <th>donor__sex</th>\n",
       "      <th>donor__disease_state</th>\n",
       "      <th>donor__race</th>\n",
       "      <th>donor__years_of_seizure_history</th>\n",
       "      <th>donor__species</th>\n",
       "      <th>donor__id</th>\n",
       "      <th>donor__name</th>\n",
       "    </tr>\n",
       "  </thead>\n",
       "  <tbody>\n",
       "    <tr>\n",
       "      <th>0</th>\n",
       "      <td>NaN</td>\n",
       "      <td>525011903</td>\n",
       "      <td>H16.03.003.01.14.02</td>\n",
       "      <td>right</td>\n",
       "      <td>12113</td>\n",
       "      <td>\"frontal lobe\"</td>\n",
       "      <td>FroL</td>\n",
       "      <td>12113</td>\n",
       "      <td>FroL</td>\n",
       "      <td>3</td>\n",
       "      <td>...</td>\n",
       "      <td>/api/v2/well_known_file_download/529903140</td>\n",
       "      <td>/api/v2/well_known_file_download/529903142</td>\n",
       "      <td>25 yrs</td>\n",
       "      <td>Male</td>\n",
       "      <td>epilepsy</td>\n",
       "      <td>White or Caucasian</td>\n",
       "      <td>9.0</td>\n",
       "      <td>Homo Sapiens</td>\n",
       "      <td>524848408</td>\n",
       "      <td>H16.03.003</td>\n",
       "    </tr>\n",
       "    <tr>\n",
       "      <th>1</th>\n",
       "      <td>Oxtr-T2A-Cre</td>\n",
       "      <td>565871768</td>\n",
       "      <td>Oxtr-2A-Cre;Ai14-293837.03.01.02</td>\n",
       "      <td>left</td>\n",
       "      <td>778</td>\n",
       "      <td>\"Primary visual area, layer 5\"</td>\n",
       "      <td>VISp5</td>\n",
       "      <td>385</td>\n",
       "      <td>VISp</td>\n",
       "      <td>5</td>\n",
       "      <td>...</td>\n",
       "      <td>/api/v2/well_known_file_download/566738214</td>\n",
       "      <td>/api/v2/well_known_file_download/566738219</td>\n",
       "      <td>NaN</td>\n",
       "      <td>NaN</td>\n",
       "      <td>NaN</td>\n",
       "      <td>NaN</td>\n",
       "      <td>NaN</td>\n",
       "      <td>Mus musculus</td>\n",
       "      <td>563340157</td>\n",
       "      <td>Oxtr-T2A-Cre;Ai14-293837</td>\n",
       "    </tr>\n",
       "    <tr>\n",
       "      <th>2</th>\n",
       "      <td>Pvalb-IRES-Cre</td>\n",
       "      <td>469801138</td>\n",
       "      <td>Pvalb-IRES-Cre;Ai14-170927.05.02.01</td>\n",
       "      <td>right</td>\n",
       "      <td>721</td>\n",
       "      <td>\"Primary visual area, layer 4\"</td>\n",
       "      <td>VISp4</td>\n",
       "      <td>385</td>\n",
       "      <td>VISp</td>\n",
       "      <td>4</td>\n",
       "      <td>...</td>\n",
       "      <td>/api/v2/well_known_file_download/487618917</td>\n",
       "      <td>/api/v2/well_known_file_download/491380580</td>\n",
       "      <td>NaN</td>\n",
       "      <td>NaN</td>\n",
       "      <td>NaN</td>\n",
       "      <td>NaN</td>\n",
       "      <td>NaN</td>\n",
       "      <td>Mus musculus</td>\n",
       "      <td>319194354</td>\n",
       "      <td>Pvalb-IRES-Cre;Ai14(IVSCC)-170927</td>\n",
       "    </tr>\n",
       "    <tr>\n",
       "      <th>3</th>\n",
       "      <td>NaN</td>\n",
       "      <td>528642047</td>\n",
       "      <td>H16.06.009.01.02.06.05</td>\n",
       "      <td>left</td>\n",
       "      <td>12141</td>\n",
       "      <td>\"middle temporal gyrus\"</td>\n",
       "      <td>MTG</td>\n",
       "      <td>12141</td>\n",
       "      <td>MTG</td>\n",
       "      <td>5</td>\n",
       "      <td>...</td>\n",
       "      <td>/api/v2/well_known_file_download/660970973</td>\n",
       "      <td>/api/v2/well_known_file_download/660970975</td>\n",
       "      <td>48 yrs</td>\n",
       "      <td>Female</td>\n",
       "      <td>epilepsy</td>\n",
       "      <td>unknown</td>\n",
       "      <td>33.0</td>\n",
       "      <td>Homo Sapiens</td>\n",
       "      <td>528574320</td>\n",
       "      <td>H16.06.009</td>\n",
       "    </tr>\n",
       "    <tr>\n",
       "      <th>4</th>\n",
       "      <td>Slc32a1-T2A-FlpO|Vipr2-IRES2-Cre</td>\n",
       "      <td>605889373</td>\n",
       "      <td>Vipr2-IRES2-Cre;Slc32a1-T2A-FlpO;Ai65-337419.0...</td>\n",
       "      <td>right</td>\n",
       "      <td>821</td>\n",
       "      <td>\"Primary visual area, layer 2/3\"</td>\n",
       "      <td>VISp2/3</td>\n",
       "      <td>385</td>\n",
       "      <td>VISp</td>\n",
       "      <td>2/3</td>\n",
       "      <td>...</td>\n",
       "      <td>/api/v2/well_known_file_download/657612184</td>\n",
       "      <td>/api/v2/well_known_file_download/657612186</td>\n",
       "      <td>NaN</td>\n",
       "      <td>NaN</td>\n",
       "      <td>NaN</td>\n",
       "      <td>NaN</td>\n",
       "      <td>NaN</td>\n",
       "      <td>Mus musculus</td>\n",
       "      <td>605622695</td>\n",
       "      <td>Vipr2-IRES2-Cre;Slc32a1-T2A-FlpO;Ai65-337419</td>\n",
       "    </tr>\n",
       "  </tbody>\n",
       "</table>\n",
       "<p>5 rows × 54 columns</p>\n",
       "</div>"
      ],
      "text/plain": [
       "                          line_name  specimen__id  \\\n",
       "0                               NaN     525011903   \n",
       "1                      Oxtr-T2A-Cre     565871768   \n",
       "2                    Pvalb-IRES-Cre     469801138   \n",
       "3                               NaN     528642047   \n",
       "4  Slc32a1-T2A-FlpO|Vipr2-IRES2-Cre     605889373   \n",
       "\n",
       "                                      specimen__name specimen__hemisphere  \\\n",
       "0                                H16.03.003.01.14.02                right   \n",
       "1                   Oxtr-2A-Cre;Ai14-293837.03.01.02                 left   \n",
       "2                Pvalb-IRES-Cre;Ai14-170927.05.02.01                right   \n",
       "3                             H16.06.009.01.02.06.05                 left   \n",
       "4  Vipr2-IRES2-Cre;Slc32a1-T2A-FlpO;Ai65-337419.0...                right   \n",
       "\n",
       "   structure__id                   structure__name structure__acronym  \\\n",
       "0          12113                    \"frontal lobe\"               FroL   \n",
       "1            778    \"Primary visual area, layer 5\"              VISp5   \n",
       "2            721    \"Primary visual area, layer 4\"              VISp4   \n",
       "3          12141           \"middle temporal gyrus\"                MTG   \n",
       "4            821  \"Primary visual area, layer 2/3\"            VISp2/3   \n",
       "\n",
       "   structure_parent__id structure_parent__acronym structure__layer  ...  \\\n",
       "0                 12113                      FroL                3  ...   \n",
       "1                   385                      VISp                5  ...   \n",
       "2                   385                      VISp                4  ...   \n",
       "3                 12141                       MTG                5  ...   \n",
       "4                   385                      VISp              2/3  ...   \n",
       "\n",
       "                             ephys_thumb_path  \\\n",
       "0  /api/v2/well_known_file_download/529903140   \n",
       "1  /api/v2/well_known_file_download/566738214   \n",
       "2  /api/v2/well_known_file_download/487618917   \n",
       "3  /api/v2/well_known_file_download/660970973   \n",
       "4  /api/v2/well_known_file_download/657612184   \n",
       "\n",
       "                 ephys_inst_thresh_thumb_path  donor__age  donor__sex  \\\n",
       "0  /api/v2/well_known_file_download/529903142      25 yrs        Male   \n",
       "1  /api/v2/well_known_file_download/566738219         NaN         NaN   \n",
       "2  /api/v2/well_known_file_download/491380580         NaN         NaN   \n",
       "3  /api/v2/well_known_file_download/660970975      48 yrs      Female   \n",
       "4  /api/v2/well_known_file_download/657612186         NaN         NaN   \n",
       "\n",
       "   donor__disease_state         donor__race  donor__years_of_seizure_history  \\\n",
       "0              epilepsy  White or Caucasian                              9.0   \n",
       "1                   NaN                 NaN                              NaN   \n",
       "2                   NaN                 NaN                              NaN   \n",
       "3              epilepsy             unknown                             33.0   \n",
       "4                   NaN                 NaN                              NaN   \n",
       "\n",
       "   donor__species  donor__id                                   donor__name  \n",
       "0    Homo Sapiens  524848408                                    H16.03.003  \n",
       "1    Mus musculus  563340157                      Oxtr-T2A-Cre;Ai14-293837  \n",
       "2    Mus musculus  319194354             Pvalb-IRES-Cre;Ai14(IVSCC)-170927  \n",
       "3    Homo Sapiens  528574320                                    H16.06.009  \n",
       "4    Mus musculus  605622695  Vipr2-IRES2-Cre;Slc32a1-T2A-FlpO;Ai65-337419  \n",
       "\n",
       "[5 rows x 54 columns]"
      ]
     },
     "execution_count": 11,
     "metadata": {},
     "output_type": "execute_result"
    }
   ],
   "source": [
    "cell_df = pd.read_csv('cell_types_specimen_details.csv')\n",
    "\n",
    "cell_df.head()"
   ]
  },
  {
   "cell_type": "markdown",
   "metadata": {},
   "source": [
    "As the dataframe shows, there are many columns for each entry in this dataframe, spread across human and mouse subjects. We can inspect these by using the `.columns` attribute."
   ]
  },
  {
   "cell_type": "code",
   "execution_count": 12,
   "metadata": {},
   "outputs": [
    {
     "data": {
      "text/plain": [
       "Index(['line_name', 'specimen__id', 'specimen__name', 'specimen__hemisphere',\n",
       "       'structure__id', 'structure__name', 'structure__acronym',\n",
       "       'structure_parent__id', 'structure_parent__acronym', 'structure__layer',\n",
       "       'nr__max_euclidean_distance', 'nr__number_stems',\n",
       "       'nr__number_bifurcations', 'nr__average_contraction',\n",
       "       'nr__average_parent_daughter_ratio', 'nr__reconstruction_type',\n",
       "       'nrwkf__id', 'erwkf__id', 'ef__fast_trough_v_long_square',\n",
       "       'ef__upstroke_downstroke_ratio_long_square', 'ef__adaptation',\n",
       "       'ef__f_i_curve_slope', 'ef__threshold_i_long_square', 'ef__tau',\n",
       "       'ef__avg_isi', 'ef__avg_firing_rate', 'ef__ri', 'ef__peak_t_ramp',\n",
       "       'ef__vrest', 'si__height', 'si__width', 'si__path', 'csl__x', 'csl__y',\n",
       "       'csl__z', 'csl__normalized_depth', 'cell_reporter_status', 'm__glif',\n",
       "       'm__biophys', 'm__biophys_perisomatic', 'm__biophys_all_active',\n",
       "       'tag__apical', 'tag__dendrite_type', 'morph_thumb_path',\n",
       "       'ephys_thumb_path', 'ephys_inst_thresh_thumb_path', 'donor__age',\n",
       "       'donor__sex', 'donor__disease_state', 'donor__race',\n",
       "       'donor__years_of_seizure_history', 'donor__species', 'donor__id',\n",
       "       'donor__name'],\n",
       "      dtype='object')"
      ]
     },
     "execution_count": 12,
     "metadata": {},
     "output_type": "execute_result"
    }
   ],
   "source": [
    "cell_df.columns"
   ]
  },
  {
   "cell_type": "markdown",
   "metadata": {},
   "source": [
    "Before we interact with the values within these categories, we will make a new dataframe `Rorb_df`, a duplicate of the original, by using the `reset_index` method so that we can keep the original file as a reference. Then, use the `drop` method to have this dataframe contain only the rows for the Cre line of interest, Rorb-IRES2-Cre, which is found in layers 4 and 5 of VISp (as well as other visual cortical regions)."
   ]
  },
  {
   "cell_type": "code",
   "execution_count": 13,
   "metadata": {},
   "outputs": [],
   "source": [
    "Rorb_df = cell_df.reset_index()\n",
    "\n",
    "Rorb_df.drop(Rorb_df.index[Rorb_df['line_name'] != 'Rorb-IRES2-Cre'], inplace = True)"
   ]
  },
  {
   "cell_type": "markdown",
   "metadata": {},
   "source": [
    "We filter further by selecting for the rows that correspond to this Cre-line for Layer 4 cells specifically, again with the `drop` method. We can then print the length of this new variable using the `len` method, and use `head()` once more."
   ]
  },
  {
   "cell_type": "code",
   "execution_count": 14,
   "metadata": {},
   "outputs": [
    {
     "name": "stdout",
     "output_type": "stream",
     "text": [
      "79\n"
     ]
    },
    {
     "data": {
      "text/html": [
       "<div>\n",
       "<style scoped>\n",
       "    .dataframe tbody tr th:only-of-type {\n",
       "        vertical-align: middle;\n",
       "    }\n",
       "\n",
       "    .dataframe tbody tr th {\n",
       "        vertical-align: top;\n",
       "    }\n",
       "\n",
       "    .dataframe thead th {\n",
       "        text-align: right;\n",
       "    }\n",
       "</style>\n",
       "<table border=\"1\" class=\"dataframe\">\n",
       "  <thead>\n",
       "    <tr style=\"text-align: right;\">\n",
       "      <th></th>\n",
       "      <th>index</th>\n",
       "      <th>line_name</th>\n",
       "      <th>specimen__id</th>\n",
       "      <th>specimen__name</th>\n",
       "      <th>specimen__hemisphere</th>\n",
       "      <th>structure__id</th>\n",
       "      <th>structure__name</th>\n",
       "      <th>structure__acronym</th>\n",
       "      <th>structure_parent__id</th>\n",
       "      <th>structure_parent__acronym</th>\n",
       "      <th>...</th>\n",
       "      <th>ephys_thumb_path</th>\n",
       "      <th>ephys_inst_thresh_thumb_path</th>\n",
       "      <th>donor__age</th>\n",
       "      <th>donor__sex</th>\n",
       "      <th>donor__disease_state</th>\n",
       "      <th>donor__race</th>\n",
       "      <th>donor__years_of_seizure_history</th>\n",
       "      <th>donor__species</th>\n",
       "      <th>donor__id</th>\n",
       "      <th>donor__name</th>\n",
       "    </tr>\n",
       "  </thead>\n",
       "  <tbody>\n",
       "    <tr>\n",
       "      <th>16</th>\n",
       "      <td>16</td>\n",
       "      <td>Rorb-IRES2-Cre</td>\n",
       "      <td>480087928</td>\n",
       "      <td>Rorb-IRES2-Cre-D;Ai14-197330.06.01.01</td>\n",
       "      <td>left</td>\n",
       "      <td>721</td>\n",
       "      <td>\"Primary visual area, layer 4\"</td>\n",
       "      <td>VISp4</td>\n",
       "      <td>385</td>\n",
       "      <td>VISp</td>\n",
       "      <td>...</td>\n",
       "      <td>/api/v2/well_known_file_download/491382097</td>\n",
       "      <td>/api/v2/well_known_file_download/491382099</td>\n",
       "      <td>NaN</td>\n",
       "      <td>NaN</td>\n",
       "      <td>NaN</td>\n",
       "      <td>NaN</td>\n",
       "      <td>NaN</td>\n",
       "      <td>Mus musculus</td>\n",
       "      <td>479695183</td>\n",
       "      <td>Rorb-IRES2-Cre-D;Ai14-197330</td>\n",
       "    </tr>\n",
       "    <tr>\n",
       "      <th>55</th>\n",
       "      <td>55</td>\n",
       "      <td>Rorb-IRES2-Cre</td>\n",
       "      <td>480169202</td>\n",
       "      <td>Rorb-IRES2-Cre-D;Ai14-197353.03.02.01</td>\n",
       "      <td>right</td>\n",
       "      <td>721</td>\n",
       "      <td>\"Primary visual area, layer 4\"</td>\n",
       "      <td>VISp4</td>\n",
       "      <td>385</td>\n",
       "      <td>VISp</td>\n",
       "      <td>...</td>\n",
       "      <td>/api/v2/well_known_file_download/490150543</td>\n",
       "      <td>/api/v2/well_known_file_download/491377915</td>\n",
       "      <td>NaN</td>\n",
       "      <td>NaN</td>\n",
       "      <td>NaN</td>\n",
       "      <td>NaN</td>\n",
       "      <td>NaN</td>\n",
       "      <td>Mus musculus</td>\n",
       "      <td>479695203</td>\n",
       "      <td>Rorb-IRES2-Cre-D;Ai14-197353</td>\n",
       "    </tr>\n",
       "    <tr>\n",
       "      <th>68</th>\n",
       "      <td>68</td>\n",
       "      <td>Rorb-IRES2-Cre</td>\n",
       "      <td>488491756</td>\n",
       "      <td>Rorb-IRES2-Cre-D;Ai14-212868.04.02.01</td>\n",
       "      <td>right</td>\n",
       "      <td>721</td>\n",
       "      <td>\"Primary visual area, layer 4\"</td>\n",
       "      <td>VISp4</td>\n",
       "      <td>385</td>\n",
       "      <td>VISp</td>\n",
       "      <td>...</td>\n",
       "      <td>/api/v2/well_known_file_download/488492715</td>\n",
       "      <td>/api/v2/well_known_file_download/491378033</td>\n",
       "      <td>NaN</td>\n",
       "      <td>NaN</td>\n",
       "      <td>NaN</td>\n",
       "      <td>NaN</td>\n",
       "      <td>NaN</td>\n",
       "      <td>Mus musculus</td>\n",
       "      <td>487607576</td>\n",
       "      <td>Rorb-IRES2-Cre-D;Ai14-212868</td>\n",
       "    </tr>\n",
       "    <tr>\n",
       "      <th>74</th>\n",
       "      <td>74</td>\n",
       "      <td>Rorb-IRES2-Cre</td>\n",
       "      <td>486514107</td>\n",
       "      <td>Rorb-IRES2-Cre-D;Ai14-206931.03.02.01</td>\n",
       "      <td>right</td>\n",
       "      <td>721</td>\n",
       "      <td>\"Primary visual area, layer 4\"</td>\n",
       "      <td>VISp4</td>\n",
       "      <td>385</td>\n",
       "      <td>VISp</td>\n",
       "      <td>...</td>\n",
       "      <td>/api/v2/well_known_file_download/486521819</td>\n",
       "      <td>/api/v2/well_known_file_download/491378840</td>\n",
       "      <td>NaN</td>\n",
       "      <td>NaN</td>\n",
       "      <td>NaN</td>\n",
       "      <td>NaN</td>\n",
       "      <td>NaN</td>\n",
       "      <td>Mus musculus</td>\n",
       "      <td>486247124</td>\n",
       "      <td>Rorb-IRES2-Cre-D;Ai14-206931</td>\n",
       "    </tr>\n",
       "    <tr>\n",
       "      <th>91</th>\n",
       "      <td>91</td>\n",
       "      <td>Rorb-IRES2-Cre</td>\n",
       "      <td>322723785</td>\n",
       "      <td>Rorb-IRES2-Cre-D;Ai14-172650.03.01.01</td>\n",
       "      <td>left</td>\n",
       "      <td>721</td>\n",
       "      <td>\"Primary visual area, layer 4\"</td>\n",
       "      <td>VISp4</td>\n",
       "      <td>385</td>\n",
       "      <td>VISp</td>\n",
       "      <td>...</td>\n",
       "      <td>/api/v2/well_known_file_download/487622101</td>\n",
       "      <td>/api/v2/well_known_file_download/491382349</td>\n",
       "      <td>NaN</td>\n",
       "      <td>NaN</td>\n",
       "      <td>NaN</td>\n",
       "      <td>NaN</td>\n",
       "      <td>NaN</td>\n",
       "      <td>Mus musculus</td>\n",
       "      <td>320827639</td>\n",
       "      <td>Rorb-IRES2-Cre-D;Ai14(IVSCC)-172650</td>\n",
       "    </tr>\n",
       "  </tbody>\n",
       "</table>\n",
       "<p>5 rows × 55 columns</p>\n",
       "</div>"
      ],
      "text/plain": [
       "    index       line_name  specimen__id  \\\n",
       "16     16  Rorb-IRES2-Cre     480087928   \n",
       "55     55  Rorb-IRES2-Cre     480169202   \n",
       "68     68  Rorb-IRES2-Cre     488491756   \n",
       "74     74  Rorb-IRES2-Cre     486514107   \n",
       "91     91  Rorb-IRES2-Cre     322723785   \n",
       "\n",
       "                           specimen__name specimen__hemisphere  structure__id  \\\n",
       "16  Rorb-IRES2-Cre-D;Ai14-197330.06.01.01                 left            721   \n",
       "55  Rorb-IRES2-Cre-D;Ai14-197353.03.02.01                right            721   \n",
       "68  Rorb-IRES2-Cre-D;Ai14-212868.04.02.01                right            721   \n",
       "74  Rorb-IRES2-Cre-D;Ai14-206931.03.02.01                right            721   \n",
       "91  Rorb-IRES2-Cre-D;Ai14-172650.03.01.01                 left            721   \n",
       "\n",
       "                   structure__name structure__acronym  structure_parent__id  \\\n",
       "16  \"Primary visual area, layer 4\"              VISp4                   385   \n",
       "55  \"Primary visual area, layer 4\"              VISp4                   385   \n",
       "68  \"Primary visual area, layer 4\"              VISp4                   385   \n",
       "74  \"Primary visual area, layer 4\"              VISp4                   385   \n",
       "91  \"Primary visual area, layer 4\"              VISp4                   385   \n",
       "\n",
       "   structure_parent__acronym  ...                            ephys_thumb_path  \\\n",
       "16                      VISp  ...  /api/v2/well_known_file_download/491382097   \n",
       "55                      VISp  ...  /api/v2/well_known_file_download/490150543   \n",
       "68                      VISp  ...  /api/v2/well_known_file_download/488492715   \n",
       "74                      VISp  ...  /api/v2/well_known_file_download/486521819   \n",
       "91                      VISp  ...  /api/v2/well_known_file_download/487622101   \n",
       "\n",
       "                  ephys_inst_thresh_thumb_path  donor__age  donor__sex  \\\n",
       "16  /api/v2/well_known_file_download/491382099         NaN         NaN   \n",
       "55  /api/v2/well_known_file_download/491377915         NaN         NaN   \n",
       "68  /api/v2/well_known_file_download/491378033         NaN         NaN   \n",
       "74  /api/v2/well_known_file_download/491378840         NaN         NaN   \n",
       "91  /api/v2/well_known_file_download/491382349         NaN         NaN   \n",
       "\n",
       "    donor__disease_state  donor__race donor__years_of_seizure_history  \\\n",
       "16                   NaN          NaN                             NaN   \n",
       "55                   NaN          NaN                             NaN   \n",
       "68                   NaN          NaN                             NaN   \n",
       "74                   NaN          NaN                             NaN   \n",
       "91                   NaN          NaN                             NaN   \n",
       "\n",
       "    donor__species  donor__id                          donor__name  \n",
       "16    Mus musculus  479695183         Rorb-IRES2-Cre-D;Ai14-197330  \n",
       "55    Mus musculus  479695203         Rorb-IRES2-Cre-D;Ai14-197353  \n",
       "68    Mus musculus  487607576         Rorb-IRES2-Cre-D;Ai14-212868  \n",
       "74    Mus musculus  486247124         Rorb-IRES2-Cre-D;Ai14-206931  \n",
       "91    Mus musculus  320827639  Rorb-IRES2-Cre-D;Ai14(IVSCC)-172650  \n",
       "\n",
       "[5 rows x 55 columns]"
      ]
     },
     "execution_count": 14,
     "metadata": {},
     "output_type": "execute_result"
    }
   ],
   "source": [
    "layer_4 = Rorb_df\n",
    "layer_4.drop(layer_4.index[layer_4['structure__acronym'] != 'VISp4'], inplace = True)\n",
    "print(len(layer_4))\n",
    "layer_4.head()"
   ]
  },
  {
   "cell_type": "markdown",
   "metadata": {},
   "source": [
    "Let's do the same for Layer 5 cells. To double-check, let's also print the length of this list. The sum of entries between the lists for both layers should be 130."
   ]
  },
  {
   "cell_type": "code",
   "execution_count": 15,
   "metadata": {},
   "outputs": [
    {
     "name": "stdout",
     "output_type": "stream",
     "text": [
      "51\n"
     ]
    },
    {
     "data": {
      "text/html": [
       "<div>\n",
       "<style scoped>\n",
       "    .dataframe tbody tr th:only-of-type {\n",
       "        vertical-align: middle;\n",
       "    }\n",
       "\n",
       "    .dataframe tbody tr th {\n",
       "        vertical-align: top;\n",
       "    }\n",
       "\n",
       "    .dataframe thead th {\n",
       "        text-align: right;\n",
       "    }\n",
       "</style>\n",
       "<table border=\"1\" class=\"dataframe\">\n",
       "  <thead>\n",
       "    <tr style=\"text-align: right;\">\n",
       "      <th></th>\n",
       "      <th>index</th>\n",
       "      <th>line_name</th>\n",
       "      <th>specimen__id</th>\n",
       "      <th>specimen__name</th>\n",
       "      <th>specimen__hemisphere</th>\n",
       "      <th>structure__id</th>\n",
       "      <th>structure__name</th>\n",
       "      <th>structure__acronym</th>\n",
       "      <th>structure_parent__id</th>\n",
       "      <th>structure_parent__acronym</th>\n",
       "      <th>...</th>\n",
       "      <th>ephys_thumb_path</th>\n",
       "      <th>ephys_inst_thresh_thumb_path</th>\n",
       "      <th>donor__age</th>\n",
       "      <th>donor__sex</th>\n",
       "      <th>donor__disease_state</th>\n",
       "      <th>donor__race</th>\n",
       "      <th>donor__years_of_seizure_history</th>\n",
       "      <th>donor__species</th>\n",
       "      <th>donor__id</th>\n",
       "      <th>donor__name</th>\n",
       "    </tr>\n",
       "  </thead>\n",
       "  <tbody>\n",
       "    <tr>\n",
       "      <th>9</th>\n",
       "      <td>9</td>\n",
       "      <td>Rorb-IRES2-Cre</td>\n",
       "      <td>504615116</td>\n",
       "      <td>Rorb-IRES2-Cre-D;Ai14-234241.04.02.01</td>\n",
       "      <td>right</td>\n",
       "      <td>778</td>\n",
       "      <td>\"Primary visual area, layer 5\"</td>\n",
       "      <td>VISp5</td>\n",
       "      <td>385</td>\n",
       "      <td>VISp</td>\n",
       "      <td>...</td>\n",
       "      <td>/api/v2/well_known_file_download/511602811</td>\n",
       "      <td>/api/v2/well_known_file_download/511602813</td>\n",
       "      <td>NaN</td>\n",
       "      <td>NaN</td>\n",
       "      <td>NaN</td>\n",
       "      <td>NaN</td>\n",
       "      <td>NaN</td>\n",
       "      <td>Mus musculus</td>\n",
       "      <td>503871551</td>\n",
       "      <td>Rorb-IRES2-Cre-D;Ai14-234241</td>\n",
       "    </tr>\n",
       "    <tr>\n",
       "      <th>45</th>\n",
       "      <td>45</td>\n",
       "      <td>Rorb-IRES2-Cre</td>\n",
       "      <td>314804042</td>\n",
       "      <td>Rorb-IRES2-Cre-D;Ai14-168053.05.01.01</td>\n",
       "      <td>left</td>\n",
       "      <td>778</td>\n",
       "      <td>\"Primary visual area, layer 5\"</td>\n",
       "      <td>VISp5</td>\n",
       "      <td>385</td>\n",
       "      <td>VISp</td>\n",
       "      <td>...</td>\n",
       "      <td>/api/v2/well_known_file_download/487618825</td>\n",
       "      <td>/api/v2/well_known_file_download/491384592</td>\n",
       "      <td>NaN</td>\n",
       "      <td>NaN</td>\n",
       "      <td>NaN</td>\n",
       "      <td>NaN</td>\n",
       "      <td>NaN</td>\n",
       "      <td>Mus musculus</td>\n",
       "      <td>313403626</td>\n",
       "      <td>Rorb-IRES2-Cre-D;Ai14(IVSCC)-168053</td>\n",
       "    </tr>\n",
       "    <tr>\n",
       "      <th>51</th>\n",
       "      <td>51</td>\n",
       "      <td>Rorb-IRES2-Cre</td>\n",
       "      <td>488679042</td>\n",
       "      <td>Rorb-IRES2-Cre-D;Ai14-212872.04.02.01</td>\n",
       "      <td>right</td>\n",
       "      <td>778</td>\n",
       "      <td>\"Primary visual area, layer 5\"</td>\n",
       "      <td>VISp5</td>\n",
       "      <td>385</td>\n",
       "      <td>VISp</td>\n",
       "      <td>...</td>\n",
       "      <td>/api/v2/well_known_file_download/488679907</td>\n",
       "      <td>/api/v2/well_known_file_download/491377936</td>\n",
       "      <td>NaN</td>\n",
       "      <td>NaN</td>\n",
       "      <td>NaN</td>\n",
       "      <td>NaN</td>\n",
       "      <td>NaN</td>\n",
       "      <td>Mus musculus</td>\n",
       "      <td>488425799</td>\n",
       "      <td>Rorb-IRES2-Cre-D;Ai14-212872</td>\n",
       "    </tr>\n",
       "    <tr>\n",
       "      <th>207</th>\n",
       "      <td>207</td>\n",
       "      <td>Rorb-IRES2-Cre</td>\n",
       "      <td>488697964</td>\n",
       "      <td>Rorb-IRES2-Cre-D;Ai14-212873.05.02.01</td>\n",
       "      <td>right</td>\n",
       "      <td>778</td>\n",
       "      <td>\"Primary visual area, layer 5\"</td>\n",
       "      <td>VISp5</td>\n",
       "      <td>385</td>\n",
       "      <td>VISp</td>\n",
       "      <td>...</td>\n",
       "      <td>/api/v2/well_known_file_download/488698963</td>\n",
       "      <td>/api/v2/well_known_file_download/491383379</td>\n",
       "      <td>NaN</td>\n",
       "      <td>NaN</td>\n",
       "      <td>NaN</td>\n",
       "      <td>NaN</td>\n",
       "      <td>NaN</td>\n",
       "      <td>Mus musculus</td>\n",
       "      <td>488425803</td>\n",
       "      <td>Rorb-IRES2-Cre-D;Ai14-212873</td>\n",
       "    </tr>\n",
       "    <tr>\n",
       "      <th>263</th>\n",
       "      <td>263</td>\n",
       "      <td>Rorb-IRES2-Cre</td>\n",
       "      <td>480114344</td>\n",
       "      <td>Rorb-IRES2-Cre-D;Ai14-197332.06.02.01</td>\n",
       "      <td>right</td>\n",
       "      <td>778</td>\n",
       "      <td>\"Primary visual area, layer 5\"</td>\n",
       "      <td>VISp5</td>\n",
       "      <td>385</td>\n",
       "      <td>VISp</td>\n",
       "      <td>...</td>\n",
       "      <td>/api/v2/well_known_file_download/483108395</td>\n",
       "      <td>/api/v2/well_known_file_download/491383093</td>\n",
       "      <td>NaN</td>\n",
       "      <td>NaN</td>\n",
       "      <td>NaN</td>\n",
       "      <td>NaN</td>\n",
       "      <td>NaN</td>\n",
       "      <td>Mus musculus</td>\n",
       "      <td>479695191</td>\n",
       "      <td>Rorb-IRES2-Cre-D;Ai14-197332</td>\n",
       "    </tr>\n",
       "  </tbody>\n",
       "</table>\n",
       "<p>5 rows × 55 columns</p>\n",
       "</div>"
      ],
      "text/plain": [
       "     index       line_name  specimen__id  \\\n",
       "9        9  Rorb-IRES2-Cre     504615116   \n",
       "45      45  Rorb-IRES2-Cre     314804042   \n",
       "51      51  Rorb-IRES2-Cre     488679042   \n",
       "207    207  Rorb-IRES2-Cre     488697964   \n",
       "263    263  Rorb-IRES2-Cre     480114344   \n",
       "\n",
       "                            specimen__name specimen__hemisphere  \\\n",
       "9    Rorb-IRES2-Cre-D;Ai14-234241.04.02.01                right   \n",
       "45   Rorb-IRES2-Cre-D;Ai14-168053.05.01.01                 left   \n",
       "51   Rorb-IRES2-Cre-D;Ai14-212872.04.02.01                right   \n",
       "207  Rorb-IRES2-Cre-D;Ai14-212873.05.02.01                right   \n",
       "263  Rorb-IRES2-Cre-D;Ai14-197332.06.02.01                right   \n",
       "\n",
       "     structure__id                 structure__name structure__acronym  \\\n",
       "9              778  \"Primary visual area, layer 5\"              VISp5   \n",
       "45             778  \"Primary visual area, layer 5\"              VISp5   \n",
       "51             778  \"Primary visual area, layer 5\"              VISp5   \n",
       "207            778  \"Primary visual area, layer 5\"              VISp5   \n",
       "263            778  \"Primary visual area, layer 5\"              VISp5   \n",
       "\n",
       "     structure_parent__id structure_parent__acronym  ...  \\\n",
       "9                     385                      VISp  ...   \n",
       "45                    385                      VISp  ...   \n",
       "51                    385                      VISp  ...   \n",
       "207                   385                      VISp  ...   \n",
       "263                   385                      VISp  ...   \n",
       "\n",
       "                               ephys_thumb_path  \\\n",
       "9    /api/v2/well_known_file_download/511602811   \n",
       "45   /api/v2/well_known_file_download/487618825   \n",
       "51   /api/v2/well_known_file_download/488679907   \n",
       "207  /api/v2/well_known_file_download/488698963   \n",
       "263  /api/v2/well_known_file_download/483108395   \n",
       "\n",
       "                   ephys_inst_thresh_thumb_path  donor__age  donor__sex  \\\n",
       "9    /api/v2/well_known_file_download/511602813         NaN         NaN   \n",
       "45   /api/v2/well_known_file_download/491384592         NaN         NaN   \n",
       "51   /api/v2/well_known_file_download/491377936         NaN         NaN   \n",
       "207  /api/v2/well_known_file_download/491383379         NaN         NaN   \n",
       "263  /api/v2/well_known_file_download/491383093         NaN         NaN   \n",
       "\n",
       "     donor__disease_state  donor__race donor__years_of_seizure_history  \\\n",
       "9                     NaN          NaN                             NaN   \n",
       "45                    NaN          NaN                             NaN   \n",
       "51                    NaN          NaN                             NaN   \n",
       "207                   NaN          NaN                             NaN   \n",
       "263                   NaN          NaN                             NaN   \n",
       "\n",
       "     donor__species  donor__id                          donor__name  \n",
       "9      Mus musculus  503871551         Rorb-IRES2-Cre-D;Ai14-234241  \n",
       "45     Mus musculus  313403626  Rorb-IRES2-Cre-D;Ai14(IVSCC)-168053  \n",
       "51     Mus musculus  488425799         Rorb-IRES2-Cre-D;Ai14-212872  \n",
       "207    Mus musculus  488425803         Rorb-IRES2-Cre-D;Ai14-212873  \n",
       "263    Mus musculus  479695191         Rorb-IRES2-Cre-D;Ai14-197332  \n",
       "\n",
       "[5 rows x 55 columns]"
      ]
     },
     "execution_count": 15,
     "metadata": {},
     "output_type": "execute_result"
    }
   ],
   "source": [
    "layer_5 = cell_df.reset_index()\n",
    "layer_5.drop(layer_5.index[layer_5['line_name'] != 'Rorb-IRES2-Cre'], inplace = True)\n",
    "layer_5.drop(layer_5.index[layer_5['structure__acronym'] != 'VISp5'], inplace = True)\n",
    "print(len(layer_5))\n",
    "layer_5.head()"
   ]
  },
  {
   "cell_type": "markdown",
   "metadata": {},
   "source": [
    "<a id='seven'></a>\n",
    "## Data Visualization"
   ]
  },
  {
   "cell_type": "markdown",
   "metadata": {},
   "source": [
    "#### *Plotting the Electrophysiology Data*"
   ]
  },
  {
   "cell_type": "markdown",
   "metadata": {},
   "source": [
    "Now we are ready to visualize our data. Using boxplots, we will represent the adaptation, resting potential, upstroke-downstroke ratio, time constant, and average interspike interval for each of the cortical layers. Let's again look at the columns for one of the layers - all electrophysiological traits, including those we want, are seen roughly halfway down the list."
   ]
  },
  {
   "cell_type": "code",
   "execution_count": 16,
   "metadata": {},
   "outputs": [
    {
     "data": {
      "text/plain": [
       "Index(['index', 'line_name', 'specimen__id', 'specimen__name',\n",
       "       'specimen__hemisphere', 'structure__id', 'structure__name',\n",
       "       'structure__acronym', 'structure_parent__id',\n",
       "       'structure_parent__acronym', 'structure__layer',\n",
       "       'nr__max_euclidean_distance', 'nr__number_stems',\n",
       "       'nr__number_bifurcations', 'nr__average_contraction',\n",
       "       'nr__average_parent_daughter_ratio', 'nr__reconstruction_type',\n",
       "       'nrwkf__id', 'erwkf__id', 'ef__fast_trough_v_long_square',\n",
       "       'ef__upstroke_downstroke_ratio_long_square', 'ef__adaptation',\n",
       "       'ef__f_i_curve_slope', 'ef__threshold_i_long_square', 'ef__tau',\n",
       "       'ef__avg_isi', 'ef__avg_firing_rate', 'ef__ri', 'ef__peak_t_ramp',\n",
       "       'ef__vrest', 'si__height', 'si__width', 'si__path', 'csl__x', 'csl__y',\n",
       "       'csl__z', 'csl__normalized_depth', 'cell_reporter_status', 'm__glif',\n",
       "       'm__biophys', 'm__biophys_perisomatic', 'm__biophys_all_active',\n",
       "       'tag__apical', 'tag__dendrite_type', 'morph_thumb_path',\n",
       "       'ephys_thumb_path', 'ephys_inst_thresh_thumb_path', 'donor__age',\n",
       "       'donor__sex', 'donor__disease_state', 'donor__race',\n",
       "       'donor__years_of_seizure_history', 'donor__species', 'donor__id',\n",
       "       'donor__name'],\n",
       "      dtype='object')"
      ]
     },
     "execution_count": 16,
     "metadata": {},
     "output_type": "execute_result"
    }
   ],
   "source": [
    "layer_4.columns"
   ]
  },
  {
   "cell_type": "markdown",
   "metadata": {},
   "source": [
    "The next step is to pluck our traits out and set them to their own variables. Import the standard Matplotlib toolbox in order to prepare us for the plotting processes below, then use the `dropna()` method to remove all NaN values within each trait (as these cannot be processed onto a visual). \n",
    "\n",
    "Because the number of entries for layer 4 is greater in number than that of layer 5, we produce yet another set of variables for each layer 4 trait that slices out the last two dozen or so values. That way, our plots will be more balanced in representation and better fit for comparison. The printed lengths demonstrate this disparity that we are adjusting for."
   ]
  },
  {
   "cell_type": "code",
   "execution_count": 17,
   "metadata": {},
   "outputs": [
    {
     "name": "stdout",
     "output_type": "stream",
     "text": [
      "79 51\n",
      "79 51\n",
      "79 51\n",
      "75 49\n",
      "72 48\n"
     ]
    }
   ],
   "source": [
    "import matplotlib.pyplot as plt\n",
    "\n",
    "layer4_51rows=layer_4[:-28]\n",
    "#print(len(layer4_51rows))\n",
    "\n",
    "layer4_vrest = layer_4['ef__vrest'].dropna()\n",
    "layer5_vrest = layer_5['ef__vrest'].dropna()\n",
    "\n",
    "layer4_udr = layer_4['ef__upstroke_downstroke_ratio_long_square'].dropna()\n",
    "layer5_udr = layer_5['ef__upstroke_downstroke_ratio_long_square'].dropna()\n",
    "\n",
    "layer4_tau = layer_4['ef__tau'].dropna()\n",
    "layer5_tau = layer_5['ef__tau'].dropna()\n",
    "\n",
    "layer4_isi = layer_4['ef__avg_isi'].dropna()\n",
    "layer5_isi = layer_5['ef__avg_isi'].dropna()\n",
    "\n",
    "layer4_adp = layer_4['ef__adaptation'].dropna()\n",
    "layer5_adp = layer_5['ef__adaptation'].dropna()\n",
    "\n",
    "layer4_vrest_51rows=layer4_vrest[:-28]\n",
    "layer4_udr_51rows=layer4_udr[:-28]\n",
    "layer4_tau_51rows=layer4_tau[:-28]\n",
    "layer4_isi_49rows=layer4_isi[:-26]\n",
    "layer4_adp_49rows=layer4_adp[:-24]\n",
    "\n",
    "print(len(layer4_vrest),len(layer5_vrest))\n",
    "print(len(layer4_udr),len(layer5_udr))\n",
    "print(len(layer4_tau),len(layer5_tau))\n",
    "print(len(layer4_isi),len(layer5_isi))\n",
    "print(len(layer4_adp),len(layer5_adp))"
   ]
  },
  {
   "cell_type": "markdown",
   "metadata": {},
   "source": [
    "Finally, we can generate boxplots that present both layers side-by-side for each ephys property. The plots for resting potential, upstroke-downstroke ratio, time constant, interspike interval and adaptation rate of each layer are shown below, respectively. The upper and lower quartiles are set to fit alongside the full scope of outliers present in the datasets.\n",
    "\n",
    "Note that the histograms contain mean and standard deviation values - these were obtained by a separate use of the `describe()` method on the metric data for each layer, and then manually plotted into the visual. The commented code below demonstrates this for the sake of example - for all other metrics, these are included without the comments (again, to be concise)."
   ]
  },
  {
   "cell_type": "code",
   "execution_count": 48,
   "metadata": {},
   "outputs": [
    {
     "data": {
      "image/png": "[encoded data removed]",
      "text/plain": [
       "<Figure size 864x360 with 2 Axes>"
      ]
     },
     "metadata": {
      "needs_background": "light"
     },
     "output_type": "display_data"
    }
   ],
   "source": [
    "fig,ax = plt.subplots(1,2,figsize=(12,5))\n",
    "\n",
    "data1=[layer4_vrest_51rows,layer5_vrest]\n",
    "ax[0].boxplot(data1,labels=['Layer 4','Layer 5'])\n",
    "ax[0].set_ylabel('Resting Potential (mV)')\n",
    "ax[0].set_title('Resting Potential Values in VISp Layer 4 versus Layer 5')\n",
    "\n",
    "\n",
    "ax[1].hist(data1, bins=20, label=['Layer4','Layer5'])\n",
    "ax[1].set_ylabel('frequency')\n",
    "ax[1].set_xlabel('Resting potential (mV)')\n",
    "ax[1].set_title('Resting Potential Values in VISp Layer 4 versus Layer 5')\n",
    "ax[1].legend()\n",
    "\n",
    "# How we determined the statistics (for reference on how we obtained the mean/SD that appears on graph)\n",
    "#print('For Layer 4, ')\n",
    "#print(layer4_vrest_51rows.describe())\n",
    "#print(' ')\n",
    "#print('For Layer 5, ')\n",
    "#print(layer5_vrest.describe())\n",
    "\n",
    "# This code can add the mean and standard deviation after you run it without printing because it can display on subplots!\n",
    "# Uses coordinate system to place the text\n",
    "ax[1].text(-69,6, r'Layer 4 mean=-75.1, sd=5.05')\n",
    "ax[1].text(-69,5, r'Layer 5 mean=-71.7, sd=5.62')\n",
    "\n",
    "plt.tight_layout()\n",
    "plt.show()"
   ]
  },
  {
   "cell_type": "markdown",
   "metadata": {},
   "source": [
    "The resting potential values are roughly similar, and their outliers are found near the upper quartiles. "
   ]
  },
  {
   "cell_type": "code",
   "execution_count": 49,
   "metadata": {},
   "outputs": [
    {
     "data": {
      "image/png": "[encoded data removed]",
      "text/plain": [
       "<Figure size 864x360 with 2 Axes>"
      ]
     },
     "metadata": {
      "needs_background": "light"
     },
     "output_type": "display_data"
    }
   ],
   "source": [
    "fig,ax = plt.subplots(1,2,figsize=(12,5))\n",
    "\n",
    "data2=[layer4_udr_51rows,layer5_udr]\n",
    "ax[0].boxplot(data2,labels=['Layer 4','Layer 5'])\n",
    "ax[0].set_ylabel('Ratio')\n",
    "ax[0].set_title('Upstroke/Downstroke Ratio in VISp Layer 4 versus Layer 5')\n",
    "\n",
    "ax[1].hist(data2, bins=20, label=['Layer4','Layer5'])\n",
    "ax[1].set_ylabel('frequency')\n",
    "ax[1].set_xlabel('Ratio')\n",
    "ax[1].set_title('Upstroke/Downstroke Ratio in VISp Layer 4 versus Layer 5')\n",
    "ax[1].legend()\n",
    "\n",
    "plt.text(1.0,7.5, r'Layer 4 mean =3.29, sd=0.92')\n",
    "plt.text(1.0,7.0, r'Layer 5 mean =3.11, sd=0.82')\n",
    "\n",
    "fig.tight_layout()\n",
    "plt.show()"
   ]
  },
  {
   "cell_type": "markdown",
   "metadata": {},
   "source": [
    "The ratio values between layers show greater fluctuation (a wider spread seen for Layer 4 than layer 5), although outliers in the latter do account for the smaller range between the minimum and maximum."
   ]
  },
  {
   "cell_type": "code",
   "execution_count": 50,
   "metadata": {},
   "outputs": [
    {
     "data": {
      "image/png": "[encoded data removed]",
      "text/plain": [
       "<Figure size 864x360 with 2 Axes>"
      ]
     },
     "metadata": {
      "needs_background": "light"
     },
     "output_type": "display_data"
    }
   ],
   "source": [
    "fig,ax = plt.subplots(1,2,figsize=(12,5))\n",
    "\n",
    "data3=[layer4_tau_51rows,layer5_tau]\n",
    "ax[0].boxplot(data3,labels=['Layer 4','Layer 5'])\n",
    "ax[0].set_ylabel('Time (ms)')\n",
    "ax[0].set_title('Distribution of Time Constants (tau) in VISp Layer 4 versus Layer 5')\n",
    "\n",
    "ax[1].hist(data3, bins=20, label=['Layer4','Layer5'])\n",
    "ax[1].set_ylabel('frequency')\n",
    "ax[1].set_xlabel('Time (ms)')\n",
    "ax[1].set_title('Frequency of Time Constants (tau) in VISp Layer 4 versus Layer 5')\n",
    "ax[1].legend()\n",
    "\n",
    "ax[1].text(25,7, r'Layer 4 mean =21.3, sd=8.16')\n",
    "ax[1].text(25,6, r'Layer 5 mean =20.7, sd=8.76')\n",
    "\n",
    "plt.tight_layout()\n",
    "plt.show()"
   ]
  },
  {
   "cell_type": "markdown",
   "metadata": {},
   "source": [
    "The time constants are almost identical between Layers 4 and 5, with only slight deviations across the range of entries.\n",
    "\n"
   ]
  },
  {
   "cell_type": "code",
   "execution_count": 51,
   "metadata": {},
   "outputs": [
    {
     "data": {
      "image/png": "[encoded data removed]",
      "text/plain": [
       "<Figure size 864x360 with 2 Axes>"
      ]
     },
     "metadata": {
      "needs_background": "light"
     },
     "output_type": "display_data"
    }
   ],
   "source": [
    "fig,ax = plt.subplots(1,2,figsize=(12,5))\n",
    "\n",
    "data4=[layer4_isi_49rows,layer5_isi]\n",
    "ax[0].boxplot(data4,labels=['Layer 4','Layer 5'])\n",
    "ax[0].set_ylabel('Time (ms)')\n",
    "ax[0].set_title('Average Interspike Intervals (ISI) in VISp Layer 4 versus Layer 5')\n",
    "\n",
    "ax[1].hist(data4, bins=20, label=['Layer4','Layer5'])\n",
    "ax[1].set_ylabel('frequency')\n",
    "ax[1].set_xlabel('Time (ms)')\n",
    "ax[1].set_title('Frequency Interspike Intervals (ISI) in VISp Layer 4 versus Layer 5')\n",
    "ax[1].legend()\n",
    "\n",
    "ax[1].text(155,6, r'Layer 4 mean =72.2, sd=28.3')\n",
    "ax[1].text(155,5, r'Layer 5 mean =80.1, sd=40.7')\n",
    "\n",
    "plt.tight_layout()\n",
    "plt.show()"
   ]
  },
  {
   "cell_type": "markdown",
   "metadata": {},
   "source": [
    "Layer 5 shows a slightly higher mean ISI value but also has a greater SD value; it has the only values above 150 ms."
   ]
  },
  {
   "cell_type": "code",
   "execution_count": 52,
   "metadata": {},
   "outputs": [
    {
     "data": {
      "image/png": "[encoded data removed]",
      "text/plain": [
       "<Figure size 864x360 with 2 Axes>"
      ]
     },
     "metadata": {
      "needs_background": "light"
     },
     "output_type": "display_data"
    }
   ],
   "source": [
    "fig,ax = plt.subplots(1,2,figsize=(12,5))\n",
    "\n",
    "data5=[layer4_adp_49rows,layer5_adp]\n",
    "ax[0].boxplot(data5,labels=['Layer 4','Layer 5'])\n",
    "ax[0].set_ylabel('Rate (mV/ms)')\n",
    "ax[0].set_title('Adaptation within the VISp Layer 4 versus Layer 5')\n",
    "\n",
    "ax[1].hist(data5, bins=20, label=['Layer4','Layer5'])\n",
    "ax[1].set_ylabel('frequency')\n",
    "ax[1].set_xlabel('Rate (mV/ms)')\n",
    "ax[1].set_title('Adaptation within the VISp Layer 4 versus Layer 5')\n",
    "ax[1].legend()\n",
    "\n",
    "ax[1].text(0.1,9, r'Layer 4 mean =0.053, sd=0.059')\n",
    "ax[1].text(0.1,7, r'Layer 5 mean =0.063, sd=0.082')\n",
    "\n",
    "plt.tight_layout()\n",
    "plt.show()"
   ]
  },
  {
   "cell_type": "markdown",
   "metadata": {},
   "source": [
    "Adaptation rates have very small changes between layers, with larger outliers observed in Layer 5. Otherwise, their distributions are similar."
   ]
  },
  {
   "cell_type": "markdown",
   "metadata": {},
   "source": [
    "#### *Plotting the selectivity data*"
   ]
  },
  {
   "cell_type": "markdown",
   "metadata": {},
   "source": [
    "Let's move on to the second database. We will use the Brain Observatory Database to obtain the direction selectivity values for cells within the Cre line in our cortical region of interest (VISp). Let's import the Numpy and Matplotlib toolboxes in order to best play with the values."
   ]
  },
  {
   "cell_type": "code",
   "execution_count": 35,
   "metadata": {},
   "outputs": [],
   "source": [
    "import numpy as np\n",
    "import matplotlib.pyplot as plt"
   ]
  },
  {
   "cell_type": "markdown",
   "metadata": {},
   "source": [
    "As stated in the Setup, we also import packages from the Allen Brain Observatory so that we can draw from the database without the need for downloading files. Then we make an instance of the Brain Observatory Cache, drawing the data from the directory seen below."
   ]
  },
  {
   "cell_type": "code",
   "execution_count": 36,
   "metadata": {},
   "outputs": [],
   "source": [
    "import allensdk.brain_observatory.stimulus_info as stim_info\n",
    "from allensdk.core.brain_observatory_cache import BrainObservatoryCache\n",
    "\n",
    "boc = BrainObservatoryCache(manifest_file='/datasets/allen-brain-observatory/visual-coding-2p/manifest.json')"
   ]
  },
  {
   "cell_type": "markdown",
   "metadata": {},
   "source": [
    "Using our `boc` instance, we can list all the Cre lines available for analysis. We will select our Cre line of interest, Rorb-IRES2-Cre, to evaluate its direction selectivity in terms of our layers of interest within the entire VISp."
   ]
  },
  {
   "cell_type": "code",
   "execution_count": 37,
   "metadata": {
    "scrolled": true
   },
   "outputs": [
    {
     "name": "stdout",
     "output_type": "stream",
     "text": [
      "['Cux2-CreERT2', 'Emx1-IRES-Cre', 'Fezf2-CreER', 'Nr5a1-Cre', 'Ntsr1-Cre_GN220', 'Pvalb-IRES-Cre', 'Rbp4-Cre_KL100', 'Rorb-IRES2-Cre', 'Scnn1a-Tg3-Cre', 'Slc17a7-IRES2-Cre', 'Sst-IRES-Cre', 'Tlx3-Cre_PL56', 'Vip-IRES-Cre']\n"
     ]
    }
   ],
   "source": [
    "cre_lines = boc.get_all_cre_lines()\n",
    "print(cre_lines)"
   ]
  },
  {
   "cell_type": "markdown",
   "metadata": {},
   "source": [
    "Next, we use the `get_experiment_containers` method to form new variables for the containers for each cell layer. An experiment container has data on trials that use the same targeted imaging area, depth, and Cre line. These are selected for using the arguments provided. We follow this by forming a dataframe out of the Rorb line available."
   ]
  },
  {
   "cell_type": "code",
   "execution_count": 38,
   "metadata": {},
   "outputs": [
    {
     "data": {
      "text/html": [
       "<div>\n",
       "<style scoped>\n",
       "    .dataframe tbody tr th:only-of-type {\n",
       "        vertical-align: middle;\n",
       "    }\n",
       "\n",
       "    .dataframe tbody tr th {\n",
       "        vertical-align: top;\n",
       "    }\n",
       "\n",
       "    .dataframe thead th {\n",
       "        text-align: right;\n",
       "    }\n",
       "</style>\n",
       "<table border=\"1\" class=\"dataframe\">\n",
       "  <thead>\n",
       "    <tr style=\"text-align: right;\">\n",
       "      <th></th>\n",
       "      <th>id</th>\n",
       "      <th>imaging_depth</th>\n",
       "      <th>targeted_structure</th>\n",
       "      <th>cre_line</th>\n",
       "      <th>reporter_line</th>\n",
       "      <th>donor_name</th>\n",
       "      <th>specimen_name</th>\n",
       "      <th>tags</th>\n",
       "      <th>failed</th>\n",
       "    </tr>\n",
       "  </thead>\n",
       "  <tbody>\n",
       "    <tr>\n",
       "      <th>0</th>\n",
       "      <td>512124562</td>\n",
       "      <td>275</td>\n",
       "      <td>VISp</td>\n",
       "      <td>Rorb-IRES2-Cre</td>\n",
       "      <td>Ai93(TITL-GCaMP6f)</td>\n",
       "      <td>234831</td>\n",
       "      <td>Rorb-IRES2-Cre;Camk2a-tTA;Ai93-234831</td>\n",
       "      <td>[]</td>\n",
       "      <td>False</td>\n",
       "    </tr>\n",
       "    <tr>\n",
       "      <th>1</th>\n",
       "      <td>511510675</td>\n",
       "      <td>275</td>\n",
       "      <td>VISp</td>\n",
       "      <td>Rorb-IRES2-Cre</td>\n",
       "      <td>Ai93(TITL-GCaMP6f)</td>\n",
       "      <td>228786</td>\n",
       "      <td>Rorb-IRES2-Cre;Camk2a-tTA;Ai93-228786</td>\n",
       "      <td>[]</td>\n",
       "      <td>False</td>\n",
       "    </tr>\n",
       "    <tr>\n",
       "      <th>2</th>\n",
       "      <td>642651896</td>\n",
       "      <td>275</td>\n",
       "      <td>VISp</td>\n",
       "      <td>Rorb-IRES2-Cre</td>\n",
       "      <td>Ai93(TITL-GCaMP6f)</td>\n",
       "      <td>339312</td>\n",
       "      <td>Rorb-IRES2-Cre;Camk2a-tTA;Ai93-339312</td>\n",
       "      <td>[]</td>\n",
       "      <td>False</td>\n",
       "    </tr>\n",
       "    <tr>\n",
       "      <th>3</th>\n",
       "      <td>586351979</td>\n",
       "      <td>275</td>\n",
       "      <td>VISp</td>\n",
       "      <td>Rorb-IRES2-Cre</td>\n",
       "      <td>Ai93(TITL-GCaMP6f)</td>\n",
       "      <td>304756</td>\n",
       "      <td>Rorb-IRES2-Cre;Camk2a-tTA;Ai93-304756</td>\n",
       "      <td>[]</td>\n",
       "      <td>False</td>\n",
       "    </tr>\n",
       "    <tr>\n",
       "      <th>4</th>\n",
       "      <td>526481129</td>\n",
       "      <td>275</td>\n",
       "      <td>VISp</td>\n",
       "      <td>Rorb-IRES2-Cre</td>\n",
       "      <td>Ai93(TITL-GCaMP6f)</td>\n",
       "      <td>244884</td>\n",
       "      <td>Rorb-IRES2-Cre;Camk2a-tTA;Ai93-244884</td>\n",
       "      <td>[]</td>\n",
       "      <td>False</td>\n",
       "    </tr>\n",
       "  </tbody>\n",
       "</table>\n",
       "</div>"
      ],
      "text/plain": [
       "          id  imaging_depth targeted_structure        cre_line  \\\n",
       "0  512124562            275               VISp  Rorb-IRES2-Cre   \n",
       "1  511510675            275               VISp  Rorb-IRES2-Cre   \n",
       "2  642651896            275               VISp  Rorb-IRES2-Cre   \n",
       "3  586351979            275               VISp  Rorb-IRES2-Cre   \n",
       "4  526481129            275               VISp  Rorb-IRES2-Cre   \n",
       "\n",
       "        reporter_line donor_name                          specimen_name tags  \\\n",
       "0  Ai93(TITL-GCaMP6f)     234831  Rorb-IRES2-Cre;Camk2a-tTA;Ai93-234831   []   \n",
       "1  Ai93(TITL-GCaMP6f)     228786  Rorb-IRES2-Cre;Camk2a-tTA;Ai93-228786   []   \n",
       "2  Ai93(TITL-GCaMP6f)     339312  Rorb-IRES2-Cre;Camk2a-tTA;Ai93-339312   []   \n",
       "3  Ai93(TITL-GCaMP6f)     304756  Rorb-IRES2-Cre;Camk2a-tTA;Ai93-304756   []   \n",
       "4  Ai93(TITL-GCaMP6f)     244884  Rorb-IRES2-Cre;Camk2a-tTA;Ai93-244884   []   \n",
       "\n",
       "   failed  \n",
       "0   False  \n",
       "1   False  \n",
       "2   False  \n",
       "3   False  \n",
       "4   False  "
      ]
     },
     "execution_count": 38,
     "metadata": {},
     "output_type": "execute_result"
    }
   ],
   "source": [
    "rorb_exps = boc.get_experiment_containers(targeted_structures=['VISp'],cre_lines=['Rorb-IRES2-Cre'])\n",
    "rorb_df = pd.DataFrame(rorb_exps)\n",
    "\n",
    "rorb_df.head()"
   ]
  },
  {
   "cell_type": "markdown",
   "metadata": {},
   "source": [
    "Now we transfer the IDs from the experiments for our Cre line into another set of variables dubbed `specimens`. Notice that we set the argument `experiment_container_ids` equal to the ID entries from the Cre dataframe we created in the last step.\n",
    "\n",
    "From here, we can directly observe visual stimuli data, including entries for direction selectivity, using `head()`."
   ]
  },
  {
   "cell_type": "code",
   "execution_count": 40,
   "metadata": {
    "scrolled": true
   },
   "outputs": [
    {
     "data": {
      "text/html": [
       "<div>\n",
       "<style scoped>\n",
       "    .dataframe tbody tr th:only-of-type {\n",
       "        vertical-align: middle;\n",
       "    }\n",
       "\n",
       "    .dataframe tbody tr th {\n",
       "        vertical-align: top;\n",
       "    }\n",
       "\n",
       "    .dataframe thead th {\n",
       "        text-align: right;\n",
       "    }\n",
       "</style>\n",
       "<table border=\"1\" class=\"dataframe\">\n",
       "  <thead>\n",
       "    <tr style=\"text-align: right;\">\n",
       "      <th></th>\n",
       "      <th>p_run_mod_sg</th>\n",
       "      <th>tlr1_id</th>\n",
       "      <th>image_sel_ns</th>\n",
       "      <th>tlr1_name</th>\n",
       "      <th>g_dsi_dg</th>\n",
       "      <th>p_ns</th>\n",
       "      <th>specimen_id</th>\n",
       "      <th>p_dg</th>\n",
       "      <th>time_to_peak_sg</th>\n",
       "      <th>pref_dir_dg</th>\n",
       "      <th>...</th>\n",
       "      <th>peak_dff_ns</th>\n",
       "      <th>donor_full_genotype</th>\n",
       "      <th>all_stim</th>\n",
       "      <th>run_mod_sg</th>\n",
       "      <th>pref_sf_sg</th>\n",
       "      <th>sfdi_sg</th>\n",
       "      <th>g_osi_sg</th>\n",
       "      <th>g_osi_dg</th>\n",
       "      <th>reliability_nm3</th>\n",
       "      <th>reliability_nm2</th>\n",
       "    </tr>\n",
       "  </thead>\n",
       "  <tbody>\n",
       "    <tr>\n",
       "      <th>0</th>\n",
       "      <td>NaN</td>\n",
       "      <td>265943423</td>\n",
       "      <td>0.651763</td>\n",
       "      <td>Ai93(TITL-GCaMP6f)</td>\n",
       "      <td>0.940054</td>\n",
       "      <td>1.894303e-21</td>\n",
       "      <td>504614281</td>\n",
       "      <td>3.162420e-09</td>\n",
       "      <td>0.19902</td>\n",
       "      <td>225.0</td>\n",
       "      <td>...</td>\n",
       "      <td>27.353341</td>\n",
       "      <td>Rorb-IRES2-Cre/wt;Camk2a-tTA/wt;Ai93(TITL-GCaM...</td>\n",
       "      <td>True</td>\n",
       "      <td>NaN</td>\n",
       "      <td>0.04</td>\n",
       "      <td>0.326766</td>\n",
       "      <td>0.916074</td>\n",
       "      <td>0.832377</td>\n",
       "      <td>0.072453</td>\n",
       "      <td>0.020752</td>\n",
       "    </tr>\n",
       "    <tr>\n",
       "      <th>1</th>\n",
       "      <td>NaN</td>\n",
       "      <td>265943423</td>\n",
       "      <td>0.252458</td>\n",
       "      <td>Ai93(TITL-GCaMP6f)</td>\n",
       "      <td>0.510428</td>\n",
       "      <td>2.723003e-01</td>\n",
       "      <td>504614281</td>\n",
       "      <td>6.507098e-03</td>\n",
       "      <td>0.19902</td>\n",
       "      <td>225.0</td>\n",
       "      <td>...</td>\n",
       "      <td>2.233353</td>\n",
       "      <td>Rorb-IRES2-Cre/wt;Camk2a-tTA/wt;Ai93(TITL-GCaM...</td>\n",
       "      <td>True</td>\n",
       "      <td>NaN</td>\n",
       "      <td>0.02</td>\n",
       "      <td>0.209833</td>\n",
       "      <td>0.674489</td>\n",
       "      <td>0.484609</td>\n",
       "      <td>0.042837</td>\n",
       "      <td>0.016081</td>\n",
       "    </tr>\n",
       "    <tr>\n",
       "      <th>2</th>\n",
       "      <td>NaN</td>\n",
       "      <td>265943423</td>\n",
       "      <td>0.733373</td>\n",
       "      <td>Ai93(TITL-GCaMP6f)</td>\n",
       "      <td>NaN</td>\n",
       "      <td>2.902796e-178</td>\n",
       "      <td>504614281</td>\n",
       "      <td>NaN</td>\n",
       "      <td>0.26536</td>\n",
       "      <td>NaN</td>\n",
       "      <td>...</td>\n",
       "      <td>52.368815</td>\n",
       "      <td>Rorb-IRES2-Cre/wt;Camk2a-tTA/wt;Ai93(TITL-GCaM...</td>\n",
       "      <td>False</td>\n",
       "      <td>NaN</td>\n",
       "      <td>0.08</td>\n",
       "      <td>0.162764</td>\n",
       "      <td>0.545280</td>\n",
       "      <td>NaN</td>\n",
       "      <td>NaN</td>\n",
       "      <td>NaN</td>\n",
       "    </tr>\n",
       "    <tr>\n",
       "      <th>3</th>\n",
       "      <td>NaN</td>\n",
       "      <td>265943423</td>\n",
       "      <td>0.646169</td>\n",
       "      <td>Ai93(TITL-GCaMP6f)</td>\n",
       "      <td>0.431916</td>\n",
       "      <td>2.946282e-25</td>\n",
       "      <td>504614281</td>\n",
       "      <td>1.427452e-02</td>\n",
       "      <td>0.23219</td>\n",
       "      <td>180.0</td>\n",
       "      <td>...</td>\n",
       "      <td>10.154452</td>\n",
       "      <td>Rorb-IRES2-Cre/wt;Camk2a-tTA/wt;Ai93(TITL-GCaM...</td>\n",
       "      <td>True</td>\n",
       "      <td>NaN</td>\n",
       "      <td>0.08</td>\n",
       "      <td>0.243688</td>\n",
       "      <td>0.896277</td>\n",
       "      <td>0.293585</td>\n",
       "      <td>0.109286</td>\n",
       "      <td>0.285531</td>\n",
       "    </tr>\n",
       "    <tr>\n",
       "      <th>4</th>\n",
       "      <td>NaN</td>\n",
       "      <td>265943423</td>\n",
       "      <td>0.842441</td>\n",
       "      <td>Ai93(TITL-GCaMP6f)</td>\n",
       "      <td>0.411721</td>\n",
       "      <td>5.626522e-241</td>\n",
       "      <td>504614281</td>\n",
       "      <td>3.473468e-06</td>\n",
       "      <td>0.16585</td>\n",
       "      <td>90.0</td>\n",
       "      <td>...</td>\n",
       "      <td>54.224688</td>\n",
       "      <td>Rorb-IRES2-Cre/wt;Camk2a-tTA/wt;Ai93(TITL-GCaM...</td>\n",
       "      <td>True</td>\n",
       "      <td>NaN</td>\n",
       "      <td>0.04</td>\n",
       "      <td>0.292980</td>\n",
       "      <td>0.936834</td>\n",
       "      <td>0.889478</td>\n",
       "      <td>0.110858</td>\n",
       "      <td>0.518026</td>\n",
       "    </tr>\n",
       "  </tbody>\n",
       "</table>\n",
       "<p>5 rows × 60 columns</p>\n",
       "</div>"
      ],
      "text/plain": [
       "   p_run_mod_sg    tlr1_id  image_sel_ns           tlr1_name  g_dsi_dg  \\\n",
       "0           NaN  265943423      0.651763  Ai93(TITL-GCaMP6f)  0.940054   \n",
       "1           NaN  265943423      0.252458  Ai93(TITL-GCaMP6f)  0.510428   \n",
       "2           NaN  265943423      0.733373  Ai93(TITL-GCaMP6f)       NaN   \n",
       "3           NaN  265943423      0.646169  Ai93(TITL-GCaMP6f)  0.431916   \n",
       "4           NaN  265943423      0.842441  Ai93(TITL-GCaMP6f)  0.411721   \n",
       "\n",
       "            p_ns  specimen_id          p_dg  time_to_peak_sg  pref_dir_dg  \\\n",
       "0   1.894303e-21    504614281  3.162420e-09          0.19902        225.0   \n",
       "1   2.723003e-01    504614281  6.507098e-03          0.19902        225.0   \n",
       "2  2.902796e-178    504614281           NaN          0.26536          NaN   \n",
       "3   2.946282e-25    504614281  1.427452e-02          0.23219        180.0   \n",
       "4  5.626522e-241    504614281  3.473468e-06          0.16585         90.0   \n",
       "\n",
       "   ...  peak_dff_ns                                donor_full_genotype  \\\n",
       "0  ...    27.353341  Rorb-IRES2-Cre/wt;Camk2a-tTA/wt;Ai93(TITL-GCaM...   \n",
       "1  ...     2.233353  Rorb-IRES2-Cre/wt;Camk2a-tTA/wt;Ai93(TITL-GCaM...   \n",
       "2  ...    52.368815  Rorb-IRES2-Cre/wt;Camk2a-tTA/wt;Ai93(TITL-GCaM...   \n",
       "3  ...    10.154452  Rorb-IRES2-Cre/wt;Camk2a-tTA/wt;Ai93(TITL-GCaM...   \n",
       "4  ...    54.224688  Rorb-IRES2-Cre/wt;Camk2a-tTA/wt;Ai93(TITL-GCaM...   \n",
       "\n",
       "   all_stim run_mod_sg  pref_sf_sg   sfdi_sg  g_osi_sg  g_osi_dg  \\\n",
       "0      True        NaN        0.04  0.326766  0.916074  0.832377   \n",
       "1      True        NaN        0.02  0.209833  0.674489  0.484609   \n",
       "2     False        NaN        0.08  0.162764  0.545280       NaN   \n",
       "3      True        NaN        0.08  0.243688  0.896277  0.293585   \n",
       "4      True        NaN        0.04  0.292980  0.936834  0.889478   \n",
       "\n",
       "   reliability_nm3  reliability_nm2  \n",
       "0         0.072453         0.020752  \n",
       "1         0.042837         0.016081  \n",
       "2              NaN              NaN  \n",
       "3         0.109286         0.285531  \n",
       "4         0.110858         0.518026  \n",
       "\n",
       "[5 rows x 60 columns]"
      ]
     },
     "execution_count": 40,
     "metadata": {},
     "output_type": "execute_result"
    }
   ],
   "source": [
    "rorb_containers = list(rorb_df['id'])\n",
    "rorb_specimens = pd.DataFrame(boc.get_cell_specimens(experiment_container_ids=rorb_containers))\n",
    "\n",
    "rorb_specimens.head()"
   ]
  },
  {
   "cell_type": "markdown",
   "metadata": {},
   "source": [
    "Our final step involves selecting for direction selectivity index (or DSI) values for our Cre line. These values are only for drifting gratings (dg), visuals whose appearance to the mice varies by direction of grating movement (which is always perpendicular to the orientation of the visual itself). Again, `dropna()` is employed to remove all NaN values that may prevent a plot from generating.\n",
    "\n",
    "We then create a histogram that shows the distribution of these DSI values, as well as a boxplot that better quantifies the range itself.\n",
    "\n",
    "Of particular note is the fact that the histogram also contains dashed lines indicating the median and mean values for each Cre line DSI distribution. These are presented here for ease of visualization, and further discussed in the Direction Selectivity section of the Data Analysis step below."
   ]
  },
  {
   "cell_type": "code",
   "execution_count": 56,
   "metadata": {
    "scrolled": true
   },
   "outputs": [
    {
     "data": {
      "image/png": "[encoded data removed]",
      "text/plain": [
       "<Figure size 1440x720 with 2 Axes>"
      ]
     },
     "metadata": {
      "needs_background": "light"
     },
     "output_type": "display_data"
    }
   ],
   "source": [
    "rorb_dsi = rorb_specimens['dsi_dg'].dropna()\n",
    "\n",
    "# Set up a figure with two subplots\n",
    "fig,ax = plt.subplots(1,2,figsize=(20,10))\n",
    "\n",
    "# On the first axis, create our histogram\n",
    "ax[0].hist(rorb_dsi,alpha = 0.3)\n",
    "ax[0].legend(['Rorb-IRES2-Cre'])\n",
    "ax[0].set_title('Distribution of DSI Values')\n",
    "ax[0].set_ylabel('Number of cells')\n",
    "ax[0].set_xlabel('DSI values')\n",
    "ax[0].axvline(rorb_dsi.median(), color='g', linestyle='dashed', linewidth=2)\n",
    "ax[0].axvline(rorb_dsi.mean(), color='r', linestyle='dashed', linewidth=2)\n",
    "\n",
    "# On the second axis, create the box plot\n",
    "ax[1].boxplot([rorb_dsi])\n",
    "ax[1].set_ylabel('Direction Selectivity Index')\n",
    "ax[1].set_xticklabels(['Rorb-IRES2-Cre'],rotation=0)\n",
    "ax[1].set_title('Boxplot of DSI Values')\n",
    "\n",
    "plt.show()"
   ]
  },
  {
   "cell_type": "markdown",
   "metadata": {},
   "source": [
    "On the histogram, the Rorb median and mean are color-coded green and red, respectively."
   ]
  },
  {
   "cell_type": "markdown",
   "metadata": {},
   "source": [
    "#### *Plotting the connectivity data*"
   ]
  },
  {
   "cell_type": "markdown",
   "metadata": {},
   "source": [
    "To integrate connectivity data into our question, we will download the CSV file from the Mouse Connectivity portal, filtering out by source structure (VISp) and Cre line (Rorb-IRES2-Cre), before hitting the 'Download' button in the lower-right corner."
   ]
  },
  {
   "cell_type": "code",
   "execution_count": 68,
   "metadata": {},
   "outputs": [],
   "source": [
    "# Make sure your drive_path is set, so that the notebook can find the data files on the hard drive.\n",
    "\n",
    "drive_path = r'C:\\Desktop\\projection_data_VISp'"
   ]
  },
  {
   "cell_type": "markdown",
   "metadata": {},
   "source": [
    "Next, we import the appropriate packages, as done for the earlier datasets."
   ]
  },
  {
   "cell_type": "code",
   "execution_count": 69,
   "metadata": {},
   "outputs": [],
   "source": [
    "import pandas as pd\n",
    "\n",
    "import numpy as np\n",
    "\n",
    "import os\n",
    "\n",
    "import matplotlib.pyplot as plt\n",
    "\n",
    "# MouseConnectivityCache for downloading and storing mouse connectivity data\n",
    "from allensdk.core.mouse_connectivity_cache import MouseConnectivityCache\n",
    "\n",
    "# OntologiesApi\n",
    "from allensdk.api.queries.ontologies_api import OntologiesApi\n",
    "\n",
    "%matplotlib inline "
   ]
  },
  {
   "cell_type": "markdown",
   "metadata": {},
   "source": [
    "A Mouse Connectivity Cache is used to copy and cache data from the Cell Types Database, as seen previously."
   ]
  },
  {
   "cell_type": "code",
   "execution_count": 70,
   "metadata": {},
   "outputs": [],
   "source": [
    "manifest_file = os.path.join(drive_path, 'mouse_connectivity_manifest.json')\n",
    "resolution = 25\n",
    "\n",
    "# instantiate the cache object\n",
    "# after this step, the manifest file you specified should exist on your filesystem\n",
    "mcc = MouseConnectivityCache(manifest_file=manifest_file, resolution=resolution)"
   ]
  },
  {
   "cell_type": "markdown",
   "metadata": {},
   "source": [
    "The Allen database has already divided up the mouse brain into many hundreds of distinct anatomical regions organized as a structure tree. We can download and access the structure tree by calling `get_structure_tree()` on our cache instance."
   ]
  },
  {
   "cell_type": "code",
   "execution_count": 71,
   "metadata": {},
   "outputs": [],
   "source": [
    "# Get the structure tree\n",
    "# This step should produce a file called 'structures.json' in the same directory as your manifest file\n",
    "structure_tree = mcc.get_structure_tree()"
   ]
  },
  {
   "cell_type": "markdown",
   "metadata": {},
   "source": [
    "From here, the versatility of a structure tree becomes obvious, as we can further select for our visual layers of interest and assign them to new variables based on their IDs in the tree."
   ]
  },
  {
   "cell_type": "code",
   "execution_count": 72,
   "metadata": {},
   "outputs": [],
   "source": [
    "# create structure records for layer 4 and 5 of the primary visual cortex\n",
    "visp4 = structure_tree.get_structures_by_name(['Primary visual area, layer 4'])\n",
    "visp5 = structure_tree.get_structures_by_name(['Primary visual area, layer 5'])\n",
    "\n",
    "#assigning structure ids to variables\n",
    "visp4_id=visp4[0]['id']\n",
    "visp5_id=visp5[0]['id']"
   ]
  },
  {
   "cell_type": "markdown",
   "metadata": {},
   "source": [
    "To work with these structures in a more direct fashion, we can use binary indicator masks to represent our cell layers overtly. Below are shown the masks for VISp Layers 4 and Layers 5, respectively, as highlighted regions within each visual. "
   ]
  },
  {
   "cell_type": "code",
   "execution_count": 73,
   "metadata": {},
   "outputs": [
    {
     "name": "stderr",
     "output_type": "stream",
     "text": [
      "2020-03-13 16:16:37,455 allensdk.api.api.retrieve_file_over_http INFO     Downloading URL: http://download.alleninstitute.org/informatics-archive/current-release/mouse_ccf/average_template/average_template_25.nrrd\n",
      "2020-03-13 16:16:53,761 allensdk.api.api.retrieve_file_over_http INFO     Downloading URL: http://download.alleninstitute.org/informatics-archive/current-release/mouse_ccf/annotation/ccf_2017/structure_masks/structure_masks_25/structure_721.nrrd\n",
      "2020-03-13 16:16:54,660 allensdk.api.api.retrieve_file_over_http INFO     Downloading URL: http://download.alleninstitute.org/informatics-archive/current-release/mouse_ccf/annotation/ccf_2017/structure_masks/structure_masks_25/structure_778.nrrd\n"
     ]
    },
    {
     "data": {
      "text/plain": [
       "<matplotlib.image.AxesImage at 0x7f9c8f1950f0>"
      ]
     },
     "execution_count": 73,
     "metadata": {},
     "output_type": "execute_result"
    },
    {
     "data": {
      "image/png": "[encoded data removed]",
      "text/plain": [
       "<Figure size 432x288 with 1 Axes>"
      ]
     },
     "metadata": {
      "needs_background": "light"
     },
     "output_type": "display_data"
    }
   ],
   "source": [
    "# load up the average template\n",
    "template, header = mcc.get_template_volume()\n",
    "\n",
    "# view a structure mask for layer 4 (VISp4) of primary visual cortex\n",
    "visp4_mask, _ = mcc.get_structure_mask(visp4_id)\n",
    "visp5_mask, _ = mcc.get_structure_mask(visp5_id)\n",
    "\n",
    "plt.imshow(visp4_mask[:, :, 125].T, interpolation='none', cmap=plt.cm.gray)\n",
    "plt.imshow(template[:, :, 125].T, interpolation='none', cmap=plt.cm.gray, alpha=0.4)"
   ]
  },
  {
   "cell_type": "code",
   "execution_count": 74,
   "metadata": {},
   "outputs": [
    {
     "data": {
      "text/plain": [
       "<matplotlib.image.AxesImage at 0x7f9c8bc38518>"
      ]
     },
     "execution_count": 74,
     "metadata": {},
     "output_type": "execute_result"
    },
    {
     "data": {
      "image/png": "[encoded data removed]",
      "text/plain": [
       "<Figure size 432x288 with 1 Axes>"
      ]
     },
     "metadata": {
      "needs_background": "light"
     },
     "output_type": "display_data"
    }
   ],
   "source": [
    "#view a structure mask for layer 5 (VISp5) of primary visual cortex\n",
    "plt.imshow(visp5_mask[:, :, 125].T, interpolation='none', cmap=plt.cm.gray)\n",
    "plt.imshow(template[:, :, 125].T, interpolation='none', cmap=plt.cm.gray, alpha=0.4)"
   ]
  },
  {
   "cell_type": "markdown",
   "metadata": {},
   "source": [
    "Now we've visualized a selection within our tree, but it will be easier to manipulate the entries as a dataframe that only holds Rorb data. Using the `drop()` method, we exclude all other values."
   ]
  },
  {
   "cell_type": "code",
   "execution_count": 75,
   "metadata": {},
   "outputs": [
    {
     "data": {
      "text/html": [
       "<div>\n",
       "<style scoped>\n",
       "    .dataframe tbody tr th:only-of-type {\n",
       "        vertical-align: middle;\n",
       "    }\n",
       "\n",
       "    .dataframe tbody tr th {\n",
       "        vertical-align: top;\n",
       "    }\n",
       "\n",
       "    .dataframe thead th {\n",
       "        text-align: right;\n",
       "    }\n",
       "</style>\n",
       "<table border=\"1\" class=\"dataframe\">\n",
       "  <thead>\n",
       "    <tr style=\"text-align: right;\">\n",
       "      <th></th>\n",
       "      <th>index</th>\n",
       "      <th>id</th>\n",
       "      <th>transgenic-line</th>\n",
       "      <th>product-id</th>\n",
       "      <th>structure-id</th>\n",
       "      <th>structure-abbrev</th>\n",
       "      <th>structure-name</th>\n",
       "      <th>name</th>\n",
       "      <th>injection-volume</th>\n",
       "      <th>injection-structures</th>\n",
       "      <th>gender</th>\n",
       "      <th>strain</th>\n",
       "      <th>sum</th>\n",
       "      <th>structure-color</th>\n",
       "      <th>num-voxels</th>\n",
       "      <th>injection-coordinates</th>\n",
       "      <th>selected</th>\n",
       "      <th>experiment_page_url</th>\n",
       "    </tr>\n",
       "  </thead>\n",
       "  <tbody>\n",
       "    <tr>\n",
       "      <th>69</th>\n",
       "      <td>69</td>\n",
       "      <td>300929973</td>\n",
       "      <td>Rorb-IRES2-Cre</td>\n",
       "      <td>5</td>\n",
       "      <td>385</td>\n",
       "      <td>VISp</td>\n",
       "      <td>Primary visual area</td>\n",
       "      <td>Rorb-IRES2-Cre-D_LURC-124656</td>\n",
       "      <td>0.081152</td>\n",
       "      <td>[{\"id\"=&gt;385, \"abbreviation\"=&gt;\"VISp\", \"name\"=&gt;\"...</td>\n",
       "      <td>M</td>\n",
       "      <td>C57BL/6J</td>\n",
       "      <td>1.169746</td>\n",
       "      <td>08858c</td>\n",
       "      <td>NaN</td>\n",
       "      <td>[8200, 830, 8270]</td>\n",
       "      <td>True</td>\n",
       "      <td>http://connectivity.brain-map.org/projection/e...</td>\n",
       "    </tr>\n",
       "    <tr>\n",
       "      <th>116</th>\n",
       "      <td>116</td>\n",
       "      <td>301616660</td>\n",
       "      <td>Rorb-IRES2-Cre</td>\n",
       "      <td>5</td>\n",
       "      <td>385</td>\n",
       "      <td>VISp</td>\n",
       "      <td>Primary visual area</td>\n",
       "      <td>Rorb-IRES2-Cre-D_LURC-132002</td>\n",
       "      <td>0.093752</td>\n",
       "      <td>[{\"id\"=&gt;385, \"abbreviation\"=&gt;\"VISp\", \"name\"=&gt;\"...</td>\n",
       "      <td>M</td>\n",
       "      <td>C57BL/6J</td>\n",
       "      <td>0.598377</td>\n",
       "      <td>08858c</td>\n",
       "      <td>NaN</td>\n",
       "      <td>[9250, 1010, 8210]</td>\n",
       "      <td>True</td>\n",
       "      <td>http://connectivity.brain-map.org/projection/e...</td>\n",
       "    </tr>\n",
       "    <tr>\n",
       "      <th>136</th>\n",
       "      <td>136</td>\n",
       "      <td>623855077</td>\n",
       "      <td>Rorb-IRES2-Cre</td>\n",
       "      <td>5</td>\n",
       "      <td>385</td>\n",
       "      <td>VISp</td>\n",
       "      <td>Primary visual area</td>\n",
       "      <td>Rorb-IRES2-Cre-337571</td>\n",
       "      <td>0.043106</td>\n",
       "      <td>[{\"id\"=&gt;385, \"abbreviation\"=&gt;\"VISp\", \"name\"=&gt;\"...</td>\n",
       "      <td>F</td>\n",
       "      <td>NaN</td>\n",
       "      <td>0.459466</td>\n",
       "      <td>08858c</td>\n",
       "      <td>NaN</td>\n",
       "      <td>[9500, 1150, 8270]</td>\n",
       "      <td>True</td>\n",
       "      <td>http://connectivity.brain-map.org/projection/e...</td>\n",
       "    </tr>\n",
       "    <tr>\n",
       "      <th>176</th>\n",
       "      <td>176</td>\n",
       "      <td>656842599</td>\n",
       "      <td>Rorb-IRES2-Cre</td>\n",
       "      <td>5</td>\n",
       "      <td>385</td>\n",
       "      <td>VISp</td>\n",
       "      <td>Primary visual area</td>\n",
       "      <td>Rorb-IRES2-Cre-359147</td>\n",
       "      <td>0.041858</td>\n",
       "      <td>[{\"id\"=&gt;385, \"abbreviation\"=&gt;\"VISp\", \"name\"=&gt;\"...</td>\n",
       "      <td>F</td>\n",
       "      <td>NaN</td>\n",
       "      <td>0.276179</td>\n",
       "      <td>08858c</td>\n",
       "      <td>NaN</td>\n",
       "      <td>[9150, 1230, 8610]</td>\n",
       "      <td>True</td>\n",
       "      <td>http://connectivity.brain-map.org/projection/e...</td>\n",
       "    </tr>\n",
       "    <tr>\n",
       "      <th>223</th>\n",
       "      <td>223</td>\n",
       "      <td>287224335</td>\n",
       "      <td>Rorb-IRES2-Cre</td>\n",
       "      <td>5</td>\n",
       "      <td>385</td>\n",
       "      <td>VISp</td>\n",
       "      <td>Primary visual area</td>\n",
       "      <td>Rorb-IRES2-Cre-D-688</td>\n",
       "      <td>0.024505</td>\n",
       "      <td>[{\"id\"=&gt;385, \"abbreviation\"=&gt;\"VISp\", \"name\"=&gt;\"...</td>\n",
       "      <td>F</td>\n",
       "      <td>NaN</td>\n",
       "      <td>0.140745</td>\n",
       "      <td>08858c</td>\n",
       "      <td>NaN</td>\n",
       "      <td>[9720, 1380, 8480]</td>\n",
       "      <td>True</td>\n",
       "      <td>http://connectivity.brain-map.org/projection/e...</td>\n",
       "    </tr>\n",
       "  </tbody>\n",
       "</table>\n",
       "</div>"
      ],
      "text/plain": [
       "     index         id transgenic-line  product-id  structure-id  \\\n",
       "69      69  300929973  Rorb-IRES2-Cre           5           385   \n",
       "116    116  301616660  Rorb-IRES2-Cre           5           385   \n",
       "136    136  623855077  Rorb-IRES2-Cre           5           385   \n",
       "176    176  656842599  Rorb-IRES2-Cre           5           385   \n",
       "223    223  287224335  Rorb-IRES2-Cre           5           385   \n",
       "\n",
       "    structure-abbrev       structure-name                          name  \\\n",
       "69              VISp  Primary visual area  Rorb-IRES2-Cre-D_LURC-124656   \n",
       "116             VISp  Primary visual area  Rorb-IRES2-Cre-D_LURC-132002   \n",
       "136             VISp  Primary visual area         Rorb-IRES2-Cre-337571   \n",
       "176             VISp  Primary visual area         Rorb-IRES2-Cre-359147   \n",
       "223             VISp  Primary visual area          Rorb-IRES2-Cre-D-688   \n",
       "\n",
       "     injection-volume                               injection-structures  \\\n",
       "69           0.081152  [{\"id\"=>385, \"abbreviation\"=>\"VISp\", \"name\"=>\"...   \n",
       "116          0.093752  [{\"id\"=>385, \"abbreviation\"=>\"VISp\", \"name\"=>\"...   \n",
       "136          0.043106  [{\"id\"=>385, \"abbreviation\"=>\"VISp\", \"name\"=>\"...   \n",
       "176          0.041858  [{\"id\"=>385, \"abbreviation\"=>\"VISp\", \"name\"=>\"...   \n",
       "223          0.024505  [{\"id\"=>385, \"abbreviation\"=>\"VISp\", \"name\"=>\"...   \n",
       "\n",
       "    gender    strain       sum structure-color  num-voxels  \\\n",
       "69       M  C57BL/6J  1.169746          08858c         NaN   \n",
       "116      M  C57BL/6J  0.598377          08858c         NaN   \n",
       "136      F       NaN  0.459466          08858c         NaN   \n",
       "176      F       NaN  0.276179          08858c         NaN   \n",
       "223      F       NaN  0.140745          08858c         NaN   \n",
       "\n",
       "    injection-coordinates  selected  \\\n",
       "69      [8200, 830, 8270]      True   \n",
       "116    [9250, 1010, 8210]      True   \n",
       "136    [9500, 1150, 8270]      True   \n",
       "176    [9150, 1230, 8610]      True   \n",
       "223    [9720, 1380, 8480]      True   \n",
       "\n",
       "                                   experiment_page_url  \n",
       "69   http://connectivity.brain-map.org/projection/e...  \n",
       "116  http://connectivity.brain-map.org/projection/e...  \n",
       "136  http://connectivity.brain-map.org/projection/e...  \n",
       "176  http://connectivity.brain-map.org/projection/e...  \n",
       "223  http://connectivity.brain-map.org/projection/e...  "
      ]
     },
     "execution_count": 75,
     "metadata": {},
     "output_type": "execute_result"
    }
   ],
   "source": [
    "visp = structure_tree.get_structures_by_name(['Primary visual area'])\n",
    "visp_id=visp[0]['id']\n",
    "visp_df=pd.read_csv('projection_data_VISp.csv')\n",
    "visp_df_rorb=visp_df.reset_index()\n",
    "visp_df_rorb.drop(visp_df_rorb.index[visp_df_rorb['transgenic-line'] != 'Rorb-IRES2-Cre'], inplace = True)\n",
    "visp_df_rorb"
   ]
  },
  {
   "cell_type": "markdown",
   "metadata": {},
   "source": [
    "<div style=\"border-left: 3px solid #000; padding: 1px; padding-left: 10px; background: #f0f0ff; \">\n",
    "<h2>Projection quantification with unionizes</h2>\n",
    "<p>Which structures recieve the most projections from your favorite structure?</p>\n",
    "</div>"
   ]
  },
  {
   "cell_type": "markdown",
   "metadata": {},
   "source": [
    "<div style=\"border-left: 3px solid #000; padding: 1px; padding-left: 10px; background: #f0f0ff; \">\n",
    "We can also find the summary structure ids using a function from the MouseConnectivityCache structure_tree method. Using the get_structures_by_set_id function, we can access any of the Allen Institute's predefined structure sets by their unique id, which can be found <a href='http://api.brain-map.org/api/v2/data/StructureSet/query.json?'>here</a>. For the \"Mouse Connectivity - Summary\" structure set, the unique id is 167587189.\n",
    "</div>"
   ]
  },
  {
   "cell_type": "code",
   "execution_count": 76,
   "metadata": {},
   "outputs": [],
   "source": [
    "summary_structures = structure_tree.get_structures_by_set_id([167587189])\n",
    "summary_structure_ids = [item['id'] for item in summary_structures]"
   ]
  },
  {
   "cell_type": "markdown",
   "metadata": {},
   "source": [
    "<div style=\"border-left: 3px solid #000; padding: 1px; padding-left: 10px; background: #f0f0ff; \">\n",
    "<h4>What are the projection targets of your region of interest?</h4>\n",
    "\n",
    "<p><p>In order to answer this question you will need a set of structurewise projection summaries. One way to obtain these summary values would be to apply masks to the projection density across a wide range of structures and experiments. This would be quite time-consuming, so we have precomputed such values for all experiments and structures. We call these summary values \"unionizes\" because they are the union of projection densities and structures.</p>\n",
    "<p>Unionizes are returned as Pandas DataFrames. Pandas makes it easy to:</p>\n",
    "<ol>\n",
    "<li>Find the regions that receive the strongest projections using <a href='https://pandas.pydata.org/pandas-docs/stable/generated/pandas.DataFrame.sort_values.html'>pandas.DataFrame.sort_values</a></li>\n",
    "<li>Find the mean projection strength by structure across experiments using <a href='https://pandas.pydata.org/pandas-docs/stable/generated/pandas.DataFrame.groupby.html'>pandas.DataFrame.groupby</a> combined with <a href='https://pandas.pydata.org/pandas-docs/stable/generated/pandas.DataFrame.mean.html'>pandas.DataFrame.mean</a></li>\n",
    "<li>Graph the data</li>\n",
    "</ol>\n",
    "</div>"
   ]
  },
  {
   "cell_type": "markdown",
   "metadata": {},
   "source": [
    "<div style=\"border-left: 3px solid #000; padding: 1px; padding-left: 10px; background: #f0f0ff; \">\n",
    "<h2>Working with data from many experiments</h2>\n",
    "<p>Instead of looking at a single experiment, you can also obtain all of the unionizes for a given set of experiments.\n",
    "For example, we can find all the projection unionizes for all injections into VISp in wild type mice.\n",
    "</p>\n",
    "</div>"
   ]
  },
  {
   "cell_type": "code",
   "execution_count": 77,
   "metadata": {},
   "outputs": [
    {
     "name": "stdout",
     "output_type": "stream",
     "text": [
      "number of injections in Rorb-IRES2-Cre mice:  5\n",
      "length of unionize results:  1580\n"
     ]
    }
   ],
   "source": [
    "experiments_visp = mcc.get_experiments(injection_structure_ids=[visp_id]) \n",
    "experiment_set_rorb = [exp['id'] for exp in experiments_visp if exp['transgenic_line'] == 'Rorb-IRES2-Cre']\n",
    "print('number of injections in Rorb-IRES2-Cre mice: ', len(experiment_set_rorb))\n",
    "unionizes_set = mcc.get_structure_unionizes(experiment_set_rorb,\n",
    "                                               is_injection = False,\n",
    "                                                # Look at the summary structure level\n",
    "                                                structure_ids = summary_structure_ids,\n",
    "                                               # both hemispheres\n",
    "                                               hemisphere_ids = [3])\n",
    "print('length of unionize results: ', len(unionizes_set))"
   ]
  },
  {
   "cell_type": "code",
   "execution_count": 78,
   "metadata": {},
   "outputs": [
    {
     "data": {
      "text/html": [
       "<div>\n",
       "<style scoped>\n",
       "    .dataframe tbody tr th:only-of-type {\n",
       "        vertical-align: middle;\n",
       "    }\n",
       "\n",
       "    .dataframe tbody tr th {\n",
       "        vertical-align: top;\n",
       "    }\n",
       "\n",
       "    .dataframe thead th {\n",
       "        text-align: right;\n",
       "    }\n",
       "</style>\n",
       "<table border=\"1\" class=\"dataframe\">\n",
       "  <thead>\n",
       "    <tr style=\"text-align: right;\">\n",
       "      <th></th>\n",
       "      <th>experiment_id</th>\n",
       "      <th>hemisphere_id</th>\n",
       "      <th>id</th>\n",
       "      <th>is_injection</th>\n",
       "      <th>max_voxel_density</th>\n",
       "      <th>max_voxel_x</th>\n",
       "      <th>max_voxel_y</th>\n",
       "      <th>max_voxel_z</th>\n",
       "      <th>normalized_projection_volume</th>\n",
       "      <th>projection_density</th>\n",
       "      <th>projection_energy</th>\n",
       "      <th>projection_intensity</th>\n",
       "      <th>projection_volume</th>\n",
       "      <th>structure_id</th>\n",
       "      <th>sum_pixel_intensity</th>\n",
       "      <th>sum_pixels</th>\n",
       "      <th>sum_projection_pixel_intensity</th>\n",
       "      <th>sum_projection_pixels</th>\n",
       "      <th>volume</th>\n",
       "    </tr>\n",
       "  </thead>\n",
       "  <tbody>\n",
       "    <tr>\n",
       "      <th>0</th>\n",
       "      <td>300929973</td>\n",
       "      <td>3</td>\n",
       "      <td>632666595</td>\n",
       "      <td>False</td>\n",
       "      <td>0.000000</td>\n",
       "      <td>0</td>\n",
       "      <td>0</td>\n",
       "      <td>0</td>\n",
       "      <td>0.000000e+00</td>\n",
       "      <td>0.000000e+00</td>\n",
       "      <td>0.000000</td>\n",
       "      <td>0.000000</td>\n",
       "      <td>0.000000e+00</td>\n",
       "      <td>583</td>\n",
       "      <td>1.113064e+11</td>\n",
       "      <td>4.956642e+08</td>\n",
       "      <td>0.000000e+00</td>\n",
       "      <td>0.000000</td>\n",
       "      <td>0.607189</td>\n",
       "    </tr>\n",
       "    <tr>\n",
       "      <th>1</th>\n",
       "      <td>300929973</td>\n",
       "      <td>3</td>\n",
       "      <td>632666478</td>\n",
       "      <td>False</td>\n",
       "      <td>0.334532</td>\n",
       "      <td>7920</td>\n",
       "      <td>2040</td>\n",
       "      <td>9240</td>\n",
       "      <td>2.434631e-03</td>\n",
       "      <td>1.987173e-05</td>\n",
       "      <td>0.009993</td>\n",
       "      <td>502.878390</td>\n",
       "      <td>1.975751e-04</td>\n",
       "      <td>378</td>\n",
       "      <td>2.423778e+12</td>\n",
       "      <td>8.116346e+09</td>\n",
       "      <td>8.110716e+07</td>\n",
       "      <td>161285.833618</td>\n",
       "      <td>9.942524</td>\n",
       "    </tr>\n",
       "    <tr>\n",
       "      <th>2</th>\n",
       "      <td>300929973</td>\n",
       "      <td>3</td>\n",
       "      <td>632666822</td>\n",
       "      <td>False</td>\n",
       "      <td>0.026114</td>\n",
       "      <td>6500</td>\n",
       "      <td>4070</td>\n",
       "      <td>6660</td>\n",
       "      <td>2.560126e-06</td>\n",
       "      <td>7.914083e-07</td>\n",
       "      <td>0.000405</td>\n",
       "      <td>512.311580</td>\n",
       "      <td>2.077593e-07</td>\n",
       "      <td>907</td>\n",
       "      <td>5.399349e+10</td>\n",
       "      <td>2.143008e+08</td>\n",
       "      <td>8.688775e+04</td>\n",
       "      <td>169.599426</td>\n",
       "      <td>0.262518</td>\n",
       "    </tr>\n",
       "    <tr>\n",
       "      <th>3</th>\n",
       "      <td>300929973</td>\n",
       "      <td>3</td>\n",
       "      <td>632666889</td>\n",
       "      <td>False</td>\n",
       "      <td>0.000000</td>\n",
       "      <td>0</td>\n",
       "      <td>0</td>\n",
       "      <td>0</td>\n",
       "      <td>0.000000e+00</td>\n",
       "      <td>0.000000e+00</td>\n",
       "      <td>0.000000</td>\n",
       "      <td>0.000000</td>\n",
       "      <td>0.000000e+00</td>\n",
       "      <td>980</td>\n",
       "      <td>2.486362e+10</td>\n",
       "      <td>1.189890e+08</td>\n",
       "      <td>0.000000e+00</td>\n",
       "      <td>0.000000</td>\n",
       "      <td>0.145762</td>\n",
       "    </tr>\n",
       "    <tr>\n",
       "      <th>4</th>\n",
       "      <td>300929973</td>\n",
       "      <td>3</td>\n",
       "      <td>632666503</td>\n",
       "      <td>False</td>\n",
       "      <td>0.008978</td>\n",
       "      <td>7920</td>\n",
       "      <td>4400</td>\n",
       "      <td>7360</td>\n",
       "      <td>3.299676e-07</td>\n",
       "      <td>1.800205e-07</td>\n",
       "      <td>0.000033</td>\n",
       "      <td>184.333327</td>\n",
       "      <td>2.677753e-08</td>\n",
       "      <td>422</td>\n",
       "      <td>1.946478e+10</td>\n",
       "      <td>1.214262e+08</td>\n",
       "      <td>4.029380e+03</td>\n",
       "      <td>21.859207</td>\n",
       "      <td>0.148747</td>\n",
       "    </tr>\n",
       "  </tbody>\n",
       "</table>\n",
       "</div>"
      ],
      "text/plain": [
       "   experiment_id  hemisphere_id         id  is_injection  max_voxel_density  \\\n",
       "0      300929973              3  632666595         False           0.000000   \n",
       "1      300929973              3  632666478         False           0.334532   \n",
       "2      300929973              3  632666822         False           0.026114   \n",
       "3      300929973              3  632666889         False           0.000000   \n",
       "4      300929973              3  632666503         False           0.008978   \n",
       "\n",
       "   max_voxel_x  max_voxel_y  max_voxel_z  normalized_projection_volume  \\\n",
       "0            0            0            0                  0.000000e+00   \n",
       "1         7920         2040         9240                  2.434631e-03   \n",
       "2         6500         4070         6660                  2.560126e-06   \n",
       "3            0            0            0                  0.000000e+00   \n",
       "4         7920         4400         7360                  3.299676e-07   \n",
       "\n",
       "   projection_density  projection_energy  projection_intensity  \\\n",
       "0        0.000000e+00           0.000000              0.000000   \n",
       "1        1.987173e-05           0.009993            502.878390   \n",
       "2        7.914083e-07           0.000405            512.311580   \n",
       "3        0.000000e+00           0.000000              0.000000   \n",
       "4        1.800205e-07           0.000033            184.333327   \n",
       "\n",
       "   projection_volume  structure_id  sum_pixel_intensity    sum_pixels  \\\n",
       "0       0.000000e+00           583         1.113064e+11  4.956642e+08   \n",
       "1       1.975751e-04           378         2.423778e+12  8.116346e+09   \n",
       "2       2.077593e-07           907         5.399349e+10  2.143008e+08   \n",
       "3       0.000000e+00           980         2.486362e+10  1.189890e+08   \n",
       "4       2.677753e-08           422         1.946478e+10  1.214262e+08   \n",
       "\n",
       "   sum_projection_pixel_intensity  sum_projection_pixels    volume  \n",
       "0                    0.000000e+00               0.000000  0.607189  \n",
       "1                    8.110716e+07          161285.833618  9.942524  \n",
       "2                    8.688775e+04             169.599426  0.262518  \n",
       "3                    0.000000e+00               0.000000  0.145762  \n",
       "4                    4.029380e+03              21.859207  0.148747  "
      ]
     },
     "execution_count": 78,
     "metadata": {},
     "output_type": "execute_result"
    }
   ],
   "source": [
    "unionizes_set.head()"
   ]
  },
  {
   "cell_type": "markdown",
   "metadata": {},
   "source": [
    "<div style=\"border-left: 3px solid #000; padding: 1px; padding-left: 10px; background: #f0f0ff; \">\n",
    "Each row in this table is a different unionize record. Some of the columns tell you what spatial domain the unionize record summarizes over:\n",
    "<ul>\n",
    "<li>structure_id : Which structure does the unionize summarize over?</li>\n",
    "<li>hemisphere_id* : Does the unionize summarize over the left hemisphere, the right, or both?</li>\n",
    "<li>is_injection : Does the unionize correspond the the part of this structure which is within the injection site?</li>\n",
    "</ul>\n",
    "<p>The \"experiment_id\" column identifies the experiment from which this unionize's data was drawn. This is not to be confused (!) with the \"id\" column, which is a unique identifier for this specific unionize record.</p>\n",
    "\n",
    "<p>All of the other fields are summaries of data. You can find a reference for these <a href='http://alleninstitute.github.io/AllenSDK/unionizes.html'>here</a>. </p>\n",
    "\n",
    "<p>&#42; the hemisphere ids are: 1 => left, 2 => right, 3 => both</p>\n",
    "</div>"
   ]
  },
  {
   "cell_type": "code",
   "execution_count": 79,
   "metadata": {},
   "outputs": [
    {
     "data": {
      "text/plain": [
       "Index(['experiment_id', 'hemisphere_id', 'id', 'is_injection',\n",
       "       'max_voxel_density', 'max_voxel_x', 'max_voxel_y', 'max_voxel_z',\n",
       "       'normalized_projection_volume', 'projection_density',\n",
       "       'projection_energy', 'projection_intensity', 'projection_volume',\n",
       "       'structure_id', 'sum_pixel_intensity', 'sum_pixels',\n",
       "       'sum_projection_pixel_intensity', 'sum_projection_pixels', 'volume'],\n",
       "      dtype='object')"
      ]
     },
     "execution_count": 79,
     "metadata": {},
     "output_type": "execute_result"
    }
   ],
   "source": [
    "unionizes_set.columns"
   ]
  },
  {
   "cell_type": "code",
   "execution_count": 80,
   "metadata": {},
   "outputs": [
    {
     "name": "stdout",
     "output_type": "stream",
     "text": [
      "(316, 2)\n",
      "(316, 2)\n"
     ]
    }
   ],
   "source": [
    "# generate means so they are in the same order as standard deviation\n",
    "unionizes_set_mean = (\n",
    "    unionizes_set.groupby('structure_id', as_index = False)[\n",
    "    'projection_density'].mean())\n",
    "print(unionizes_set_mean.shape)\n",
    "\n",
    "# generate a second data frame with standard deviations\n",
    "unionizes_set_std = (\n",
    "    unionizes_set.groupby('structure_id', as_index = False)[\n",
    "    'projection_density'].std())\n",
    "print(unionizes_set_std.shape)"
   ]
  },
  {
   "cell_type": "code",
   "execution_count": 82,
   "metadata": {},
   "outputs": [],
   "source": [
    "# Add a column with summary structure acronyms so we can interpret the unionizes more easily\n",
    "name_map = structure_tree.get_name_map()\n",
    "\n",
    "names = [name_map[strid] for strid in unionizes_set_mean['structure_id']]\n",
    "unionizes_set_mean['structure_name'] = names"
   ]
  },
  {
   "cell_type": "code",
   "execution_count": 83,
   "metadata": {},
   "outputs": [],
   "source": [
    "set_mean_std = pd.DataFrame({'structure_name': names, \n",
    "                            'mean_projection_density': unionizes_set_mean['projection_density'], \n",
    "                            'stdev':  unionizes_set_std['projection_density']\n",
    "                            })"
   ]
  },
  {
   "cell_type": "code",
   "execution_count": 84,
   "metadata": {},
   "outputs": [],
   "source": [
    "# sort the dataframe to get the top 20 values on top\n",
    "set_mean_std.sort_values(by = 'mean_projection_density', ascending = False, inplace = True)"
   ]
  },
  {
   "cell_type": "code",
   "execution_count": 85,
   "metadata": {},
   "outputs": [
    {
     "data": {
      "text/html": [
       "<div>\n",
       "<style scoped>\n",
       "    .dataframe tbody tr th:only-of-type {\n",
       "        vertical-align: middle;\n",
       "    }\n",
       "\n",
       "    .dataframe tbody tr th {\n",
       "        vertical-align: top;\n",
       "    }\n",
       "\n",
       "    .dataframe thead th {\n",
       "        text-align: right;\n",
       "    }\n",
       "</style>\n",
       "<table border=\"1\" class=\"dataframe\">\n",
       "  <thead>\n",
       "    <tr style=\"text-align: right;\">\n",
       "      <th></th>\n",
       "      <th>structure_name</th>\n",
       "      <th>mean_projection_density</th>\n",
       "      <th>stdev</th>\n",
       "    </tr>\n",
       "  </thead>\n",
       "  <tbody>\n",
       "    <tr>\n",
       "      <th>123</th>\n",
       "      <td>Primary visual area</td>\n",
       "      <td>0.027836</td>\n",
       "      <td>0.016689</td>\n",
       "    </tr>\n",
       "    <tr>\n",
       "      <th>297</th>\n",
       "      <td>Area prostriata</td>\n",
       "      <td>0.020935</td>\n",
       "      <td>0.014189</td>\n",
       "    </tr>\n",
       "    <tr>\n",
       "      <th>130</th>\n",
       "      <td>Lateral visual area</td>\n",
       "      <td>0.018146</td>\n",
       "      <td>0.015542</td>\n",
       "    </tr>\n",
       "    <tr>\n",
       "      <th>135</th>\n",
       "      <td>Posterolateral visual area</td>\n",
       "      <td>0.013721</td>\n",
       "      <td>0.008355</td>\n",
       "    </tr>\n",
       "    <tr>\n",
       "      <th>132</th>\n",
       "      <td>Rostrolateral visual area</td>\n",
       "      <td>0.013012</td>\n",
       "      <td>0.023227</td>\n",
       "    </tr>\n",
       "  </tbody>\n",
       "</table>\n",
       "</div>"
      ],
      "text/plain": [
       "                 structure_name  mean_projection_density     stdev\n",
       "123         Primary visual area                 0.027836  0.016689\n",
       "297             Area prostriata                 0.020935  0.014189\n",
       "130         Lateral visual area                 0.018146  0.015542\n",
       "135  Posterolateral visual area                 0.013721  0.008355\n",
       "132   Rostrolateral visual area                 0.013012  0.023227"
      ]
     },
     "execution_count": 85,
     "metadata": {},
     "output_type": "execute_result"
    }
   ],
   "source": [
    "# look at the data\n",
    "set_mean_std.head()"
   ]
  },
  {
   "cell_type": "code",
   "execution_count": 88,
   "metadata": {},
   "outputs": [
    {
     "data": {
      "image/png": "[encoded data removed]",
      "text/plain": [
       "<Figure size 432x288 with 1 Axes>"
      ]
     },
     "metadata": {
      "needs_background": "light"
     },
     "output_type": "display_data"
    }
   ],
   "source": [
    "# Plot the 20 structures with the highest average projection density across all wild type VISp injections\n",
    "set_mean_std[:20].plot('structure_name', 'mean_projection_density', \n",
    "                      xerr = 'stdev', capsize = 4, \n",
    "                      kind='barh')\n",
    "plt.gca().invert_yaxis()\n",
    "plt.title('Unionize Data for %i injections (mean +/- SD)'%len(experiment_set_rorb))\n",
    "plt.show()"
   ]
  },
  {
   "cell_type": "markdown",
   "metadata": {},
   "source": [
    "<div style=\"border-left: 3px solid #000; padding: 1px; padding-left: 10px; background: #F0FFF0; \"><h4> Comparing projection density and projection volume</h4>\n",
    "\n",
    "<p>Find the top 20 targets of your region of interest by normalized projection volume.</p>\n",
    "<ul>\n",
    "<li>Are these regions different from the top 20 targets by projection density?</li>\n",
    "<li>Which gives us the correct answer for the top 20 projection targets of primary visual cortex?</li>\n",
    "</ul>\n",
    "</div>"
   ]
  },
  {
   "cell_type": "code",
   "execution_count": 89,
   "metadata": {},
   "outputs": [],
   "source": [
    "unionizes_set_density = (\n",
    "    unionizes_set.groupby('structure_id', as_index = False)[\n",
    "    'projection_density'].mean())\n",
    "top20_density = (\n",
    "    unionizes_set_density.sort_values(by = 'projection_density', ascending = False)[:20])\n",
    "\n",
    "unionizes_set_volume = (\n",
    "    unionizes_set.groupby('structure_id', as_index = False)[\n",
    "    'normalized_projection_volume'].mean())\n",
    "top20_volume = (\n",
    "    unionizes_set_volume.sort_values(by = 'normalized_projection_volume', ascending = False)[:20])\n",
    "\n",
    "top20 = top20_density.merge(top20_volume, indicator = True, how='outer')\n",
    "top20['structure_name'] = [name_map[stid] for stid in top20['structure_id']]"
   ]
  },
  {
   "cell_type": "code",
   "execution_count": 90,
   "metadata": {},
   "outputs": [
    {
     "data": {
      "text/html": [
       "<div>\n",
       "<style scoped>\n",
       "    .dataframe tbody tr th:only-of-type {\n",
       "        vertical-align: middle;\n",
       "    }\n",
       "\n",
       "    .dataframe tbody tr th {\n",
       "        vertical-align: top;\n",
       "    }\n",
       "\n",
       "    .dataframe thead th {\n",
       "        text-align: right;\n",
       "    }\n",
       "</style>\n",
       "<table border=\"1\" class=\"dataframe\">\n",
       "  <thead>\n",
       "    <tr style=\"text-align: right;\">\n",
       "      <th></th>\n",
       "      <th>structure_id</th>\n",
       "      <th>projection_density</th>\n",
       "      <th>normalized_projection_volume</th>\n",
       "      <th>_merge</th>\n",
       "      <th>structure_name</th>\n",
       "    </tr>\n",
       "  </thead>\n",
       "  <tbody>\n",
       "    <tr>\n",
       "      <th>0</th>\n",
       "      <td>385</td>\n",
       "      <td>0.027836</td>\n",
       "      <td>3.576296</td>\n",
       "      <td>both</td>\n",
       "      <td>Primary visual area</td>\n",
       "    </tr>\n",
       "    <tr>\n",
       "      <th>1</th>\n",
       "      <td>484682508</td>\n",
       "      <td>0.020935</td>\n",
       "      <td>0.138167</td>\n",
       "      <td>both</td>\n",
       "      <td>Area prostriata</td>\n",
       "    </tr>\n",
       "    <tr>\n",
       "      <th>2</th>\n",
       "      <td>409</td>\n",
       "      <td>0.018146</td>\n",
       "      <td>0.379218</td>\n",
       "      <td>both</td>\n",
       "      <td>Lateral visual area</td>\n",
       "    </tr>\n",
       "    <tr>\n",
       "      <th>3</th>\n",
       "      <td>425</td>\n",
       "      <td>0.013721</td>\n",
       "      <td>0.221421</td>\n",
       "      <td>both</td>\n",
       "      <td>Posterolateral visual area</td>\n",
       "    </tr>\n",
       "    <tr>\n",
       "      <th>4</th>\n",
       "      <td>417</td>\n",
       "      <td>0.013012</td>\n",
       "      <td>0.178383</td>\n",
       "      <td>both</td>\n",
       "      <td>Rostrolateral visual area</td>\n",
       "    </tr>\n",
       "  </tbody>\n",
       "</table>\n",
       "</div>"
      ],
      "text/plain": [
       "   structure_id  projection_density  normalized_projection_volume _merge  \\\n",
       "0           385            0.027836                      3.576296   both   \n",
       "1     484682508            0.020935                      0.138167   both   \n",
       "2           409            0.018146                      0.379218   both   \n",
       "3           425            0.013721                      0.221421   both   \n",
       "4           417            0.013012                      0.178383   both   \n",
       "\n",
       "               structure_name  \n",
       "0         Primary visual area  \n",
       "1             Area prostriata  \n",
       "2         Lateral visual area  \n",
       "3  Posterolateral visual area  \n",
       "4   Rostrolateral visual area  "
      ]
     },
     "execution_count": 90,
     "metadata": {},
     "output_type": "execute_result"
    }
   ],
   "source": [
    "top20.head()"
   ]
  },
  {
   "cell_type": "code",
   "execution_count": 91,
   "metadata": {},
   "outputs": [],
   "source": [
    "# The \"top20\" dataframe contains NaN values where the top 20 structures differed between the two measures, \n",
    "# so we will need to go back to our large dataframes to get the missing values before plotting\n",
    "\n",
    "pltdat = unionizes_set_density.merge(unionizes_set_volume, on = 'structure_id')\n",
    "pltdat = pltdat[pltdat['structure_id'].isin(top20['structure_id'])]\n",
    "pltdat = top20[['structure_id', 'structure_name', '_merge']].merge(pltdat, on = ['structure_id'], \n",
    "                                                        how = 'outer')"
   ]
  },
  {
   "cell_type": "code",
   "execution_count": 92,
   "metadata": {},
   "outputs": [
    {
     "data": {
      "image/png": "[encoded data removed]",
      "text/plain": [
       "<Figure size 1080x576 with 2 Axes>"
      ]
     },
     "metadata": {
      "needs_background": "light"
     },
     "output_type": "display_data"
    }
   ],
   "source": [
    "fig, ax = plt.subplots(2, 1, sharex = True, figsize = (15, 8))\n",
    "pltdat.plot.bar('structure_name', 'projection_density', ax = ax[0])\n",
    "pltdat.plot.bar('structure_name', 'normalized_projection_volume', ax = ax[1], color = 'r')\n",
    "ax[0].set_ylabel('projection density')\n",
    "ax[1].set_ylabel('normalized projection volume')\n",
    "plt.show()"
   ]
  },
  {
   "cell_type": "markdown",
   "metadata": {},
   "source": [
    "<a id='eight'></a>\n",
    "## Data Analysis & Results"
   ]
  },
  {
   "cell_type": "markdown",
   "metadata": {},
   "source": [
    "Our figures have been made, but what more can we learn from them? Let's look at both datasets from a statistical standpoint."
   ]
  },
  {
   "cell_type": "markdown",
   "metadata": {},
   "source": [
    "### *Electrophysiology*"
   ]
  },
  {
   "cell_type": "markdown",
   "metadata": {},
   "source": [
    "The first step below uses the `scipy` package and `describe()` method to quantify standard statistical metrics such as mean, variances, and the values for each quartile."
   ]
  },
  {
   "cell_type": "code",
   "execution_count": 64,
   "metadata": {},
   "outputs": [
    {
     "name": "stdout",
     "output_type": "stream",
     "text": [
      "Resting Potential\n",
      "\n",
      "For Layer 4,\n",
      "DescribeResult(nobs=51, minmax=(-83.3443069458008, -61.6267166137695), mean=-75.06480288038067, variance=25.46601493174993, skewness=0.4140353858579181, kurtosis=-0.19069852732135617)\n",
      "\n",
      "For Layer 5,\n",
      "DescribeResult(nobs=51, minmax=(-80.6265106201172, -57.132869720459006), mean=-71.71012272554286, variance=31.592760549254702, skewness=0.6872925521465972, kurtosis=0.19920845700972079)\n",
      "\n",
      "\n",
      "Upstroke-Downstroke Ratio\n",
      "\n",
      "For Layer 4,\n",
      "DescribeResult(nobs=51, minmax=(1.11542362684159, 4.82586838272175), mean=3.2938256122844067, variance=0.8430292879104898, skewness=-0.9616345084782773, kurtosis=0.47869846739936595)\n",
      "\n",
      "For Layer 5,\n",
      "DescribeResult(nobs=51, minmax=(1.11142652903376, 4.513262974127009), mean=3.1057997656805854, variance=0.678367821959652, skewness=-0.8278352643623215, kurtosis=0.42846580157842373)\n",
      "\n",
      "\n",
      "Time Constant (tau)\n",
      "\n",
      "For Layer 4,\n",
      "DescribeResult(nobs=51, minmax=(5.2540427356435995, 43.2594585782471), mean=21.269449947398897, variance=66.65588453085914, skewness=0.11580562787288239, kurtosis=0.26111241104967853)\n",
      "\n",
      "For Layer 5,\n",
      "DescribeResult(nobs=51, minmax=(5.21302199886495, 49.7167411658259), mean=20.73236310592142, variance=76.69916474084677, skewness=0.5834337103221511, kurtosis=0.828381690136788)\n",
      "\n",
      "\n",
      "Average Interspike Interval (ISI)\n",
      "\n",
      "For Layer 4,\n",
      "DescribeResult(nobs=49, minmax=(6.394999999999929, 144.753), mean=72.19134939137834, variance=801.892436302126, skewness=0.2702830631474524, kurtosis=0.555437480423846)\n",
      "\n",
      "For Layer 5,\n",
      "DescribeResult(nobs=49, minmax=(6.8375, 264.316666666667), mean=80.07396892496313, variance=1657.286988204478, skewness=1.9322941163099006, kurtosis=7.028010403056525)\n",
      "\n",
      "\n",
      "Adaptation\n",
      "\n",
      "For Layer 4,\n",
      "DescribeResult(nobs=48, minmax=(0.00195728291898209, 0.260165058509005), mean=0.05341634430623079, variance=0.003435384841938309, skewness=1.99650090388775, kurtosis=3.547167259003105)\n",
      "\n",
      "For Layer 5,\n",
      "DescribeResult(nobs=48, minmax=(-0.0167132606274279, 0.38287738275461597), mean=0.06250722906952555, variance=0.006687108066129249, skewness=2.2838445641439704, kurtosis=5.22373148785028)\n"
     ]
    }
   ],
   "source": [
    "from scipy import stats\n",
    "\n",
    "print('Resting Potential')\n",
    "print('')\n",
    "print('For Layer 4,')\n",
    "print(stats.describe(layer4_vrest_51rows))\n",
    "print('')\n",
    "print('For Layer 5,')\n",
    "print(stats.describe(layer5_vrest))\n",
    "print('')\n",
    "print('')\n",
    "print('Upstroke-Downstroke Ratio')\n",
    "print('')\n",
    "print('For Layer 4,')\n",
    "print(stats.describe(layer4_udr_51rows))\n",
    "print('')\n",
    "print('For Layer 5,')\n",
    "print(stats.describe(layer5_udr))\n",
    "print('')\n",
    "print('')\n",
    "print('Time Constant (tau)')\n",
    "print('')\n",
    "print('For Layer 4,')\n",
    "print(stats.describe(layer4_tau_51rows))\n",
    "print('')\n",
    "print('For Layer 5,')\n",
    "print(stats.describe(layer5_tau))\n",
    "print('')\n",
    "print('')\n",
    "print('Average Interspike Interval (ISI)')\n",
    "print('')\n",
    "print('For Layer 4,')\n",
    "print(stats.describe(layer4_isi_49rows))\n",
    "print('')\n",
    "print('For Layer 5,')\n",
    "print(stats.describe(layer5_isi))\n",
    "print('')\n",
    "print('')\n",
    "print('Adaptation')\n",
    "print('')\n",
    "print('For Layer 4,')\n",
    "print(stats.describe(layer4_adp_49rows))\n",
    "print('')\n",
    "print('For Layer 5,')\n",
    "print(stats.describe(layer5_adp))"
   ]
  },
  {
   "cell_type": "markdown",
   "metadata": {},
   "source": [
    "For the ephys metrics above, you'll notice that the data do not show equal variance values. As a result, this demands use of the Welch's corrected unpaired t-test for hypothesis testing. "
   ]
  },
  {
   "cell_type": "code",
   "execution_count": 65,
   "metadata": {},
   "outputs": [
    {
     "name": "stdout",
     "output_type": "stream",
     "text": [
      "For the Ephys metric of resting potential,\n",
      "Ttest_indResult(statistic=-3.171574986542612, pvalue=0.0020197759579786956)\n",
      "\n",
      "For upstroke-downstroke ratio,\n",
      "Ttest_indResult(statistic=1.088632629873641, pvalue=0.27896315866700955)\n",
      "\n",
      "For time constant (tau),\n",
      "Ttest_indResult(statistic=0.3203488012971269, pvalue=0.7493756316002778)\n",
      "\n",
      "For average interspike interval (isi),\n",
      "Ttest_indResult(statistic=-1.1126882372855662, pvalue=0.26895598314658964)\n",
      "\n",
      "For adaptation,\n",
      "Ttest_indResult(statistic=-0.6260125369254326, pvalue=0.5329800941725086)\n"
     ]
    }
   ],
   "source": [
    "def welch_dof(x,y):\n",
    "        dof = (x.var()/x.size + y.var()/y.size)**2 / ((x.var()/x.size)**2 / (x.size-1) + (y.var()/y.size)**2 / (y.size-1))\n",
    "        print(f\"Welch-Satterthwaite Degrees of Freedom= {dof:.4f}\")\n",
    "\n",
    "print('For the Ephys metric of resting potential,')\n",
    "print(stats.ttest_ind(layer4_vrest_51rows,layer5_vrest,equal_var = False))\n",
    "print('')\n",
    "print('For upstroke-downstroke ratio,')\n",
    "print(stats.ttest_ind(layer4_udr_51rows,layer5_udr,equal_var = False))\n",
    "print('')\n",
    "print('For time constant (tau),')\n",
    "print(stats.ttest_ind(layer4_tau_51rows,layer5_tau,equal_var = False))\n",
    "print('')\n",
    "print('For average interspike interval (isi),')\n",
    "print(stats.ttest_ind(layer4_isi_49rows,layer5_isi,equal_var = False))\n",
    "print('')\n",
    "print('For adaptation,')\n",
    "print(stats.ttest_ind(layer4_adp_49rows,layer5_adp,equal_var = False))"
   ]
  },
  {
   "cell_type": "markdown",
   "metadata": {},
   "source": [
    "Of the five metrics, only the differences for resting potential are statistically significant (p < 0.05), while the others can be attributed to chance."
   ]
  },
  {
   "cell_type": "markdown",
   "metadata": {},
   "source": [
    "### *Direction Selectivity*"
   ]
  },
  {
   "cell_type": "markdown",
   "metadata": {},
   "source": [
    "As was explained above, the mean and median values for the Rorb DSI were originally color-coded on the histogram for ease of presentation. Descriptive statistics are displayed below, using the same protocol as that for the electrophysiological properties."
   ]
  },
  {
   "cell_type": "code",
   "execution_count": 66,
   "metadata": {},
   "outputs": [
    {
     "name": "stdout",
     "output_type": "stream",
     "text": [
      "For the Direction Selectivity data for Rorb,\n",
      "DescribeResult(nobs=1353, minmax=(0.00199302345772934, 1.94949090734849), mean=0.6795341872962943, variance=0.1285552921498983, skewness=0.3731772635368863, kurtosis=0.035441983953301115)\n"
     ]
    }
   ],
   "source": [
    "from scipy import stats\n",
    "print('For the Direction Selectivity data for Rorb,')\n",
    "print(stats.describe(rorb_dsi))"
   ]
  },
  {
   "cell_type": "markdown",
   "metadata": {},
   "source": [
    "### *Connectivity*"
   ]
  },
  {
   "cell_type": "markdown",
   "metadata": {},
   "source": [
    "Here, we make a scatterplot of normalized projection volume versus projection density, and perform statistical analyses to better show their relationship to each other."
   ]
  },
  {
   "cell_type": "code",
   "execution_count": 95,
   "metadata": {},
   "outputs": [
    {
     "name": "stdout",
     "output_type": "stream",
     "text": [
      "r_value: nan    p_value: nan\n",
      "pearson's r: nan    pearson's p: 1.000000\n"
     ]
    },
    {
     "data": {
      "image/png": "[encoded data removed]",
      "text/plain": [
       "<Figure size 432x288 with 1 Axes>"
      ]
     },
     "metadata": {
      "needs_background": "light"
     },
     "output_type": "display_data"
    }
   ],
   "source": [
    "import scipy as sp\n",
    "from scipy import stats, optimize, interpolate\n",
    "\n",
    "# Calculate the linear regression\n",
    "slope, intercept, r_value, p_value, std_err = sp.stats.linregress(top20['projection_density'],\n",
    "                                                                  top20['normalized_projection_volume'])\n",
    "plt.plot(top20['normalized_projection_volume'],intercept+slope*top20['normalized_projection_volume'],\"k-\")\n",
    "print(\"r_value: %f    p_value: %f\" % (r_value, p_value))\n",
    "\n",
    "#plt.plot(top20['projection_density'], intercept + slope*top20['projection_density'], 'r', label='fitted line')\n",
    "#plt.legend()\n",
    "#plt.show()\n",
    "\n",
    "# Calculate the Pearson's correlation\n",
    "pearsons_r , pearsons_p = sp.stats.pearsonr(top20['projection_density'],top20['normalized_projection_volume'])\n",
    "print(\"pearson's r: %f    pearson's p: %f\" % (pearsons_r, pearsons_p))\n",
    "\n",
    "plt.scatter(top20['projection_density'],top20['normalized_projection_volume'])\n",
    "plt.xlabel('projection density')\n",
    "plt.ylabel('normalized projection volume')\n",
    "#plt.plot(top20['projection_density'], intercept + slope*top20['projection_density'], 'r', label='fitted line')\n",
    "#plt.legend()\n",
    "plt.show()"
   ]
  },
  {
   "cell_type": "markdown",
   "metadata": {},
   "source": [
    "<a id='nine'></a>\n",
    "## Discussion & Conclusion"
   ]
  },
  {
   "cell_type": "markdown",
   "metadata": {},
   "source": [
    "The results from the data visualizations and analyses show us that both layer 4 and layer 5 cells experience a surprising pattern of electrophysiological variability. In general, all electrophysiological metrics save resting potential are observed to be roughly similar between cells, and any fluctuations can be attributed to chance. Only resting potential indicates a distinction that may correspond elsewhere - Layer 4 cells have a RP median of -75 mV and layer 5 cells one of -71 mV. Because layer 4 cells in mouse visual cortex receive a great deal of thalamic input, a lower resting membrane potential may hint at the need for a slightly stronger afferent stimulus in order to be “detected” than that relayed from Layer 4 to its neighbor in 5. Hence, despite the lack of clear-cut network organization, this morphological property could allow for signals to segue appropriately.\n",
    "    \n",
    "The DSI values, which relate the propensity of cell firing to the direction of grating movement observed by the mouse subject, also presented statistically significant differences. A mean DSI of 0.75 indicates an overall preference for a diagonal angle of grating movement across all of VISp. As the connectivity data shows, because the greatest projection volumes are observed between VISp and adjacent visual regions, one could then consider that feedforward and feedback mechanisms between adjacent cell layers (such as 4 and 5) would perform graded levels of detection and inhibition in response to particular grating directions – in essence, a semblance of patterns in a visual perception network. However, because our hypothesis that layer 4 cells would have higher resting potentials was inaccurate, a direct correlation that would suggest this mechanism to be viable remains to be seen.\n",
    "    \n",
    "We ran into several limitations throughout the course of our analysis. In one instance, our inability to definitively relate layer 4 or 5 cells to discrete DSI values led us to take a broader approach in our conclusion, one with more potentially unseen variables. In any case, there is great potential for further studies tackling this question. One possibility could be to evaluate the spatial connectivity and electrophysiological relationship between spiny and aspiny cells within one layer of VISp, as their lateral layout could play some role in broader visual cortical processing. For this, we would need a resource with connectivity and biophysical metrics, whether from ABI or otherwise. In any case, constructing a true lens of how rodents visually integrate their surroundings, especially in their highly diverse niches, is sure to prove a challenge into the near future."
   ]
  },
  {
   "cell_type": "markdown",
   "metadata": {},
   "source": [
    "## Reflection"
   ]
  },
  {
   "cell_type": "markdown",
   "metadata": {},
   "source": [
    "Our experience with this project took many dramatic turns. Our original idea, on how electrophysiology and connectivity might better relate cell types and their synapses within the mouse olfactory bulb, was novel and promising, but ultimately fell short due to the real sparsity of workable data. From there, we took to comparing cell types in adjacent layers of mouse visual cortex and experimented with a wide array of databases that could be used to better answer our hypothesis. The most difficult portion of the process was figuring out the bugs in our approaches and working out where our interpretations of the databases did not make sense. Only later did we find DSI data for our original Cre line, which simplified our analysis. It was rewarding to see our graphs and discussion take form, and to discover for ourselves the real challenge in converting raw data into a sleek and comprehensive experiment."
   ]
  }
 ],
 "metadata": {
  "kernelspec": {
   "display_name": "Python 3",
   "language": "python",
   "name": "python3"
  },
  "language_info": {
   "codemirror_mode": {
    "name": "ipython",
    "version": 3
   },
   "file_extension": ".py",
   "mimetype": "text/x-python",
   "name": "python",
   "nbconvert_exporter": "python",
   "pygments_lexer": "ipython3",
   "version": "3.6.7"
  }
 },
 "nbformat": 4,
 "nbformat_minor": 2
}
